{
  "nbformat": 4,
  "nbformat_minor": 0,
  "metadata": {
    "colab": {
      "name": "Match Result Prediction.ipynb",
      "provenance": [],
      "toc_visible": true,
      "authorship_tag": "ABX9TyMvOpXAnMrTEmUZbaGuFFey",
      "include_colab_link": true
    },
    "kernelspec": {
      "name": "python3",
      "display_name": "Python 3"
    }
  },
  "cells": [
    {
      "cell_type": "markdown",
      "metadata": {
        "id": "view-in-github",
        "colab_type": "text"
      },
      "source": [
        "<a href=\"https://colab.research.google.com/github/Mumo-vicky/Match-Result-Prediction/blob/master/Match_Result_Prediction.ipynb\" target=\"_parent\"><img src=\"https://colab.research.google.com/assets/colab-badge.svg\" alt=\"Open In Colab\"/></a>"
      ]
    },
    {
      "cell_type": "markdown",
      "metadata": {
        "id": "o-iX4f44dE4b",
        "colab_type": "text"
      },
      "source": [
        "# **Match Result Prediction**"
      ]
    },
    {
      "cell_type": "markdown",
      "metadata": {
        "id": "ec8VoWj0Xh0y",
        "colab_type": "text"
      },
      "source": [
        "## **Defining Question**"
      ]
    },
    {
      "cell_type": "markdown",
      "metadata": {
        "id": "8wuL6-ZnX0xL",
        "colab_type": "text"
      },
      "source": [
        "I have been recruited as a football analyst in a company - Mchezopesa Ltd and tasked to accomplish the task below.\n",
        "A prediction result of a game between team 1 and team 2, based on who's home and who's away, and on whether or not the game is friendly (include rank in your training)."
      ]
    },
    {
      "cell_type": "markdown",
      "metadata": {
        "id": "TRr4y62aYF3n",
        "colab_type": "text"
      },
      "source": [
        "## **Defining Metric For Success**"
      ]
    },
    {
      "cell_type": "markdown",
      "metadata": {
        "id": "i--FaMzhYT70",
        "colab_type": "text"
      },
      "source": [
        "I am suppossed to find a suitable model that will have the highest accuracy for the prediction of the matches."
      ]
    },
    {
      "cell_type": "markdown",
      "metadata": {
        "id": "kSqzTzS9Xv8b",
        "colab_type": "text"
      },
      "source": [
        "## **Understanding The Context**"
      ]
    },
    {
      "cell_type": "markdown",
      "metadata": {
        "id": "tobZa5AEccYL",
        "colab_type": "text"
      },
      "source": [
        "There are national teams and the matches that they have played and their rankings over the years. Finding out a way to predict the outcome based on the various factors is what I want to achieve and I thus have to find a suitable model for that."
      ]
    },
    {
      "cell_type": "markdown",
      "metadata": {
        "id": "_7XXl6uOcV86",
        "colab_type": "text"
      },
      "source": [
        "## **Data Relevance**"
      ]
    },
    {
      "cell_type": "markdown",
      "metadata": {
        "id": "sBxHuBkMYsU1",
        "colab_type": "text"
      },
      "source": [
        "The data provided are two csv files namely:\n",
        "*   fifa_ranking.csv\n",
        "*   results.csv\n",
        "\n",
        "They contain various columns with extensive data.\n",
        "The fifa ranking started in the year 2006 and thus the data after this year from table is more precise.\n",
        "However, on looking at the data, I noticed that most values remained zero for most part of the data up until 8/24/2011.\n",
        "I thus decided that I would use the data from this date onwards so as to attain more accuracy with regards to the ranks.\n",
        "I am suppossed to clean the datasets, join them sets so as to get information for the matches all in one dataset and perform various types of regressions."
      ]
    },
    {
      "cell_type": "markdown",
      "metadata": {
        "id": "VodADjzdtpk0",
        "colab_type": "text"
      },
      "source": [
        "## **Exploration of Data**"
      ]
    },
    {
      "cell_type": "markdown",
      "metadata": {
        "id": "lyyZCEAUb7Dj",
        "colab_type": "text"
      },
      "source": [
        "**Loading The Data.**"
      ]
    },
    {
      "cell_type": "code",
      "metadata": {
        "id": "dfMk1lLeaaQ0",
        "colab_type": "code",
        "colab": {}
      },
      "source": [
        "#importing the appropriate libraries\n",
        "import pandas as pd\n",
        "import numpy as np"
      ],
      "execution_count": 84,
      "outputs": []
    },
    {
      "cell_type": "code",
      "metadata": {
        "id": "O7oiX7RizCv4",
        "colab_type": "code",
        "colab": {}
      },
      "source": [
        "#loading our dataset to our environment\n",
        "ranking = pd.read_csv('fifa_ranking.csv')\n",
        "results = pd.read_csv('results.csv')"
      ],
      "execution_count": 85,
      "outputs": []
    },
    {
      "cell_type": "markdown",
      "metadata": {
        "id": "hX-PHZO_cEGo",
        "colab_type": "text"
      },
      "source": [
        "**Exploration of The Data**"
      ]
    },
    {
      "cell_type": "code",
      "metadata": {
        "id": "8my-BTXdzPqk",
        "colab_type": "code",
        "colab": {
          "base_uri": "https://localhost:8080/",
          "height": 51
        },
        "outputId": "703f9f1d-252f-49ed-eb00-09daa996e1fd"
      },
      "source": [
        "#displaying the rows and columns in our datasets.\n",
        "print('Ranking rows and columns: ', ranking.shape)\n",
        "print('Results rows and columns: ', results.shape)"
      ],
      "execution_count": 86,
      "outputs": [
        {
          "output_type": "stream",
          "text": [
            "Ranking rows and columns:  (57793, 16)\n",
            "Results rows and columns:  (40839, 9)\n"
          ],
          "name": "stdout"
        }
      ]
    },
    {
      "cell_type": "code",
      "metadata": {
        "id": "9QEEWabGzb2P",
        "colab_type": "code",
        "colab": {
          "base_uri": "https://localhost:8080/",
          "height": 309
        },
        "outputId": "e75bd59f-048b-4ca4-8e53-80956e2621ee"
      },
      "source": [
        "#previewing the top of our dataset\n",
        "ranking.head()"
      ],
      "execution_count": 87,
      "outputs": [
        {
          "output_type": "execute_result",
          "data": {
            "text/html": [
              "<div>\n",
              "<style scoped>\n",
              "    .dataframe tbody tr th:only-of-type {\n",
              "        vertical-align: middle;\n",
              "    }\n",
              "\n",
              "    .dataframe tbody tr th {\n",
              "        vertical-align: top;\n",
              "    }\n",
              "\n",
              "    .dataframe thead th {\n",
              "        text-align: right;\n",
              "    }\n",
              "</style>\n",
              "<table border=\"1\" class=\"dataframe\">\n",
              "  <thead>\n",
              "    <tr style=\"text-align: right;\">\n",
              "      <th></th>\n",
              "      <th>rank</th>\n",
              "      <th>country_full</th>\n",
              "      <th>country_abrv</th>\n",
              "      <th>total_points</th>\n",
              "      <th>previous_points</th>\n",
              "      <th>rank_change</th>\n",
              "      <th>cur_year_avg</th>\n",
              "      <th>cur_year_avg_weighted</th>\n",
              "      <th>last_year_avg</th>\n",
              "      <th>last_year_avg_weighted</th>\n",
              "      <th>two_year_ago_avg</th>\n",
              "      <th>two_year_ago_weighted</th>\n",
              "      <th>three_year_ago_avg</th>\n",
              "      <th>three_year_ago_weighted</th>\n",
              "      <th>confederation</th>\n",
              "      <th>rank_date</th>\n",
              "    </tr>\n",
              "  </thead>\n",
              "  <tbody>\n",
              "    <tr>\n",
              "      <th>0</th>\n",
              "      <td>1</td>\n",
              "      <td>Germany</td>\n",
              "      <td>GER</td>\n",
              "      <td>0.0</td>\n",
              "      <td>57</td>\n",
              "      <td>0</td>\n",
              "      <td>0.0</td>\n",
              "      <td>0.0</td>\n",
              "      <td>0.0</td>\n",
              "      <td>0.0</td>\n",
              "      <td>0.0</td>\n",
              "      <td>0.0</td>\n",
              "      <td>0.0</td>\n",
              "      <td>0.0</td>\n",
              "      <td>UEFA</td>\n",
              "      <td>1993-08-08</td>\n",
              "    </tr>\n",
              "    <tr>\n",
              "      <th>1</th>\n",
              "      <td>2</td>\n",
              "      <td>Italy</td>\n",
              "      <td>ITA</td>\n",
              "      <td>0.0</td>\n",
              "      <td>57</td>\n",
              "      <td>0</td>\n",
              "      <td>0.0</td>\n",
              "      <td>0.0</td>\n",
              "      <td>0.0</td>\n",
              "      <td>0.0</td>\n",
              "      <td>0.0</td>\n",
              "      <td>0.0</td>\n",
              "      <td>0.0</td>\n",
              "      <td>0.0</td>\n",
              "      <td>UEFA</td>\n",
              "      <td>1993-08-08</td>\n",
              "    </tr>\n",
              "    <tr>\n",
              "      <th>2</th>\n",
              "      <td>3</td>\n",
              "      <td>Switzerland</td>\n",
              "      <td>SUI</td>\n",
              "      <td>0.0</td>\n",
              "      <td>50</td>\n",
              "      <td>9</td>\n",
              "      <td>0.0</td>\n",
              "      <td>0.0</td>\n",
              "      <td>0.0</td>\n",
              "      <td>0.0</td>\n",
              "      <td>0.0</td>\n",
              "      <td>0.0</td>\n",
              "      <td>0.0</td>\n",
              "      <td>0.0</td>\n",
              "      <td>UEFA</td>\n",
              "      <td>1993-08-08</td>\n",
              "    </tr>\n",
              "    <tr>\n",
              "      <th>3</th>\n",
              "      <td>4</td>\n",
              "      <td>Sweden</td>\n",
              "      <td>SWE</td>\n",
              "      <td>0.0</td>\n",
              "      <td>55</td>\n",
              "      <td>0</td>\n",
              "      <td>0.0</td>\n",
              "      <td>0.0</td>\n",
              "      <td>0.0</td>\n",
              "      <td>0.0</td>\n",
              "      <td>0.0</td>\n",
              "      <td>0.0</td>\n",
              "      <td>0.0</td>\n",
              "      <td>0.0</td>\n",
              "      <td>UEFA</td>\n",
              "      <td>1993-08-08</td>\n",
              "    </tr>\n",
              "    <tr>\n",
              "      <th>4</th>\n",
              "      <td>5</td>\n",
              "      <td>Argentina</td>\n",
              "      <td>ARG</td>\n",
              "      <td>0.0</td>\n",
              "      <td>51</td>\n",
              "      <td>5</td>\n",
              "      <td>0.0</td>\n",
              "      <td>0.0</td>\n",
              "      <td>0.0</td>\n",
              "      <td>0.0</td>\n",
              "      <td>0.0</td>\n",
              "      <td>0.0</td>\n",
              "      <td>0.0</td>\n",
              "      <td>0.0</td>\n",
              "      <td>CONMEBOL</td>\n",
              "      <td>1993-08-08</td>\n",
              "    </tr>\n",
              "  </tbody>\n",
              "</table>\n",
              "</div>"
            ],
            "text/plain": [
              "   rank country_full  ... confederation   rank_date\n",
              "0     1      Germany  ...          UEFA  1993-08-08\n",
              "1     2        Italy  ...          UEFA  1993-08-08\n",
              "2     3  Switzerland  ...          UEFA  1993-08-08\n",
              "3     4       Sweden  ...          UEFA  1993-08-08\n",
              "4     5    Argentina  ...      CONMEBOL  1993-08-08\n",
              "\n",
              "[5 rows x 16 columns]"
            ]
          },
          "metadata": {
            "tags": []
          },
          "execution_count": 87
        }
      ]
    },
    {
      "cell_type": "code",
      "metadata": {
        "id": "KdgtAkPOzewT",
        "colab_type": "code",
        "colab": {
          "base_uri": "https://localhost:8080/",
          "height": 204
        },
        "outputId": "11fb5a32-be2a-4fd9-9e12-ee03cc262e38"
      },
      "source": [
        "#previewing the top of our dataset\n",
        "results.head()"
      ],
      "execution_count": 5,
      "outputs": [
        {
          "output_type": "execute_result",
          "data": {
            "text/html": [
              "<div>\n",
              "<style scoped>\n",
              "    .dataframe tbody tr th:only-of-type {\n",
              "        vertical-align: middle;\n",
              "    }\n",
              "\n",
              "    .dataframe tbody tr th {\n",
              "        vertical-align: top;\n",
              "    }\n",
              "\n",
              "    .dataframe thead th {\n",
              "        text-align: right;\n",
              "    }\n",
              "</style>\n",
              "<table border=\"1\" class=\"dataframe\">\n",
              "  <thead>\n",
              "    <tr style=\"text-align: right;\">\n",
              "      <th></th>\n",
              "      <th>date</th>\n",
              "      <th>home_team</th>\n",
              "      <th>away_team</th>\n",
              "      <th>home_score</th>\n",
              "      <th>away_score</th>\n",
              "      <th>tournament</th>\n",
              "      <th>city</th>\n",
              "      <th>country</th>\n",
              "      <th>neutral</th>\n",
              "    </tr>\n",
              "  </thead>\n",
              "  <tbody>\n",
              "    <tr>\n",
              "      <th>0</th>\n",
              "      <td>1872-11-30</td>\n",
              "      <td>Scotland</td>\n",
              "      <td>England</td>\n",
              "      <td>0</td>\n",
              "      <td>0</td>\n",
              "      <td>Friendly</td>\n",
              "      <td>Glasgow</td>\n",
              "      <td>Scotland</td>\n",
              "      <td>False</td>\n",
              "    </tr>\n",
              "    <tr>\n",
              "      <th>1</th>\n",
              "      <td>1873-03-08</td>\n",
              "      <td>England</td>\n",
              "      <td>Scotland</td>\n",
              "      <td>4</td>\n",
              "      <td>2</td>\n",
              "      <td>Friendly</td>\n",
              "      <td>London</td>\n",
              "      <td>England</td>\n",
              "      <td>False</td>\n",
              "    </tr>\n",
              "    <tr>\n",
              "      <th>2</th>\n",
              "      <td>1874-03-07</td>\n",
              "      <td>Scotland</td>\n",
              "      <td>England</td>\n",
              "      <td>2</td>\n",
              "      <td>1</td>\n",
              "      <td>Friendly</td>\n",
              "      <td>Glasgow</td>\n",
              "      <td>Scotland</td>\n",
              "      <td>False</td>\n",
              "    </tr>\n",
              "    <tr>\n",
              "      <th>3</th>\n",
              "      <td>1875-03-06</td>\n",
              "      <td>England</td>\n",
              "      <td>Scotland</td>\n",
              "      <td>2</td>\n",
              "      <td>2</td>\n",
              "      <td>Friendly</td>\n",
              "      <td>London</td>\n",
              "      <td>England</td>\n",
              "      <td>False</td>\n",
              "    </tr>\n",
              "    <tr>\n",
              "      <th>4</th>\n",
              "      <td>1876-03-04</td>\n",
              "      <td>Scotland</td>\n",
              "      <td>England</td>\n",
              "      <td>3</td>\n",
              "      <td>0</td>\n",
              "      <td>Friendly</td>\n",
              "      <td>Glasgow</td>\n",
              "      <td>Scotland</td>\n",
              "      <td>False</td>\n",
              "    </tr>\n",
              "  </tbody>\n",
              "</table>\n",
              "</div>"
            ],
            "text/plain": [
              "         date home_team away_team  ...     city   country neutral\n",
              "0  1872-11-30  Scotland   England  ...  Glasgow  Scotland   False\n",
              "1  1873-03-08   England  Scotland  ...   London   England   False\n",
              "2  1874-03-07  Scotland   England  ...  Glasgow  Scotland   False\n",
              "3  1875-03-06   England  Scotland  ...   London   England   False\n",
              "4  1876-03-04  Scotland   England  ...  Glasgow  Scotland   False\n",
              "\n",
              "[5 rows x 9 columns]"
            ]
          },
          "metadata": {
            "tags": []
          },
          "execution_count": 5
        }
      ]
    },
    {
      "cell_type": "code",
      "metadata": {
        "id": "4ua1tcZtzjEP",
        "colab_type": "code",
        "colab": {
          "base_uri": "https://localhost:8080/",
          "height": 309
        },
        "outputId": "879e3a6d-8bec-4af5-f3d6-6d374fd65cd3"
      },
      "source": [
        "#previewing the bottom of our dataset\n",
        "ranking.tail()"
      ],
      "execution_count": 6,
      "outputs": [
        {
          "output_type": "execute_result",
          "data": {
            "text/html": [
              "<div>\n",
              "<style scoped>\n",
              "    .dataframe tbody tr th:only-of-type {\n",
              "        vertical-align: middle;\n",
              "    }\n",
              "\n",
              "    .dataframe tbody tr th {\n",
              "        vertical-align: top;\n",
              "    }\n",
              "\n",
              "    .dataframe thead th {\n",
              "        text-align: right;\n",
              "    }\n",
              "</style>\n",
              "<table border=\"1\" class=\"dataframe\">\n",
              "  <thead>\n",
              "    <tr style=\"text-align: right;\">\n",
              "      <th></th>\n",
              "      <th>rank</th>\n",
              "      <th>country_full</th>\n",
              "      <th>country_abrv</th>\n",
              "      <th>total_points</th>\n",
              "      <th>previous_points</th>\n",
              "      <th>rank_change</th>\n",
              "      <th>cur_year_avg</th>\n",
              "      <th>cur_year_avg_weighted</th>\n",
              "      <th>last_year_avg</th>\n",
              "      <th>last_year_avg_weighted</th>\n",
              "      <th>two_year_ago_avg</th>\n",
              "      <th>two_year_ago_weighted</th>\n",
              "      <th>three_year_ago_avg</th>\n",
              "      <th>three_year_ago_weighted</th>\n",
              "      <th>confederation</th>\n",
              "      <th>rank_date</th>\n",
              "    </tr>\n",
              "  </thead>\n",
              "  <tbody>\n",
              "    <tr>\n",
              "      <th>57788</th>\n",
              "      <td>206</td>\n",
              "      <td>Anguilla</td>\n",
              "      <td>AIA</td>\n",
              "      <td>0.0</td>\n",
              "      <td>0</td>\n",
              "      <td>1</td>\n",
              "      <td>0.0</td>\n",
              "      <td>0.0</td>\n",
              "      <td>0.0</td>\n",
              "      <td>0.0</td>\n",
              "      <td>0.0</td>\n",
              "      <td>0.0</td>\n",
              "      <td>0.0</td>\n",
              "      <td>0.0</td>\n",
              "      <td>CONCACAF</td>\n",
              "      <td>2018-06-07</td>\n",
              "    </tr>\n",
              "    <tr>\n",
              "      <th>57789</th>\n",
              "      <td>206</td>\n",
              "      <td>Bahamas</td>\n",
              "      <td>BAH</td>\n",
              "      <td>0.0</td>\n",
              "      <td>0</td>\n",
              "      <td>1</td>\n",
              "      <td>0.0</td>\n",
              "      <td>0.0</td>\n",
              "      <td>0.0</td>\n",
              "      <td>0.0</td>\n",
              "      <td>0.0</td>\n",
              "      <td>0.0</td>\n",
              "      <td>0.0</td>\n",
              "      <td>0.0</td>\n",
              "      <td>CONCACAF</td>\n",
              "      <td>2018-06-07</td>\n",
              "    </tr>\n",
              "    <tr>\n",
              "      <th>57790</th>\n",
              "      <td>206</td>\n",
              "      <td>Eritrea</td>\n",
              "      <td>ERI</td>\n",
              "      <td>0.0</td>\n",
              "      <td>0</td>\n",
              "      <td>1</td>\n",
              "      <td>0.0</td>\n",
              "      <td>0.0</td>\n",
              "      <td>0.0</td>\n",
              "      <td>0.0</td>\n",
              "      <td>0.0</td>\n",
              "      <td>0.0</td>\n",
              "      <td>0.0</td>\n",
              "      <td>0.0</td>\n",
              "      <td>CAF</td>\n",
              "      <td>2018-06-07</td>\n",
              "    </tr>\n",
              "    <tr>\n",
              "      <th>57791</th>\n",
              "      <td>206</td>\n",
              "      <td>Somalia</td>\n",
              "      <td>SOM</td>\n",
              "      <td>0.0</td>\n",
              "      <td>0</td>\n",
              "      <td>1</td>\n",
              "      <td>0.0</td>\n",
              "      <td>0.0</td>\n",
              "      <td>0.0</td>\n",
              "      <td>0.0</td>\n",
              "      <td>0.0</td>\n",
              "      <td>0.0</td>\n",
              "      <td>0.0</td>\n",
              "      <td>0.0</td>\n",
              "      <td>CAF</td>\n",
              "      <td>2018-06-07</td>\n",
              "    </tr>\n",
              "    <tr>\n",
              "      <th>57792</th>\n",
              "      <td>206</td>\n",
              "      <td>Tonga</td>\n",
              "      <td>TGA</td>\n",
              "      <td>0.0</td>\n",
              "      <td>0</td>\n",
              "      <td>1</td>\n",
              "      <td>0.0</td>\n",
              "      <td>0.0</td>\n",
              "      <td>0.0</td>\n",
              "      <td>0.0</td>\n",
              "      <td>0.0</td>\n",
              "      <td>0.0</td>\n",
              "      <td>0.0</td>\n",
              "      <td>0.0</td>\n",
              "      <td>OFC</td>\n",
              "      <td>2018-06-07</td>\n",
              "    </tr>\n",
              "  </tbody>\n",
              "</table>\n",
              "</div>"
            ],
            "text/plain": [
              "       rank country_full  ... confederation   rank_date\n",
              "57788   206     Anguilla  ...      CONCACAF  2018-06-07\n",
              "57789   206      Bahamas  ...      CONCACAF  2018-06-07\n",
              "57790   206      Eritrea  ...           CAF  2018-06-07\n",
              "57791   206      Somalia  ...           CAF  2018-06-07\n",
              "57792   206        Tonga  ...           OFC  2018-06-07\n",
              "\n",
              "[5 rows x 16 columns]"
            ]
          },
          "metadata": {
            "tags": []
          },
          "execution_count": 6
        }
      ]
    },
    {
      "cell_type": "code",
      "metadata": {
        "id": "l_wZSVg6zxve",
        "colab_type": "code",
        "colab": {
          "base_uri": "https://localhost:8080/",
          "height": 204
        },
        "outputId": "f876bc0b-41cd-457c-c6d1-5cf4c54cc1c8"
      },
      "source": [
        "#previewing the bottom of our dataset\n",
        "results.tail()"
      ],
      "execution_count": 7,
      "outputs": [
        {
          "output_type": "execute_result",
          "data": {
            "text/html": [
              "<div>\n",
              "<style scoped>\n",
              "    .dataframe tbody tr th:only-of-type {\n",
              "        vertical-align: middle;\n",
              "    }\n",
              "\n",
              "    .dataframe tbody tr th {\n",
              "        vertical-align: top;\n",
              "    }\n",
              "\n",
              "    .dataframe thead th {\n",
              "        text-align: right;\n",
              "    }\n",
              "</style>\n",
              "<table border=\"1\" class=\"dataframe\">\n",
              "  <thead>\n",
              "    <tr style=\"text-align: right;\">\n",
              "      <th></th>\n",
              "      <th>date</th>\n",
              "      <th>home_team</th>\n",
              "      <th>away_team</th>\n",
              "      <th>home_score</th>\n",
              "      <th>away_score</th>\n",
              "      <th>tournament</th>\n",
              "      <th>city</th>\n",
              "      <th>country</th>\n",
              "      <th>neutral</th>\n",
              "    </tr>\n",
              "  </thead>\n",
              "  <tbody>\n",
              "    <tr>\n",
              "      <th>40834</th>\n",
              "      <td>2019-07-18</td>\n",
              "      <td>American Samoa</td>\n",
              "      <td>Tahiti</td>\n",
              "      <td>8</td>\n",
              "      <td>1</td>\n",
              "      <td>Pacific Games</td>\n",
              "      <td>Apia</td>\n",
              "      <td>Samoa</td>\n",
              "      <td>True</td>\n",
              "    </tr>\n",
              "    <tr>\n",
              "      <th>40835</th>\n",
              "      <td>2019-07-18</td>\n",
              "      <td>Fiji</td>\n",
              "      <td>Solomon Islands</td>\n",
              "      <td>4</td>\n",
              "      <td>4</td>\n",
              "      <td>Pacific Games</td>\n",
              "      <td>Apia</td>\n",
              "      <td>Samoa</td>\n",
              "      <td>True</td>\n",
              "    </tr>\n",
              "    <tr>\n",
              "      <th>40836</th>\n",
              "      <td>2019-07-19</td>\n",
              "      <td>Senegal</td>\n",
              "      <td>Algeria</td>\n",
              "      <td>0</td>\n",
              "      <td>1</td>\n",
              "      <td>African Cup of Nations</td>\n",
              "      <td>Cairo</td>\n",
              "      <td>Egypt</td>\n",
              "      <td>True</td>\n",
              "    </tr>\n",
              "    <tr>\n",
              "      <th>40837</th>\n",
              "      <td>2019-07-19</td>\n",
              "      <td>Tajikistan</td>\n",
              "      <td>North Korea</td>\n",
              "      <td>0</td>\n",
              "      <td>1</td>\n",
              "      <td>Intercontinental Cup</td>\n",
              "      <td>Ahmedabad</td>\n",
              "      <td>India</td>\n",
              "      <td>True</td>\n",
              "    </tr>\n",
              "    <tr>\n",
              "      <th>40838</th>\n",
              "      <td>2019-07-20</td>\n",
              "      <td>Papua New Guinea</td>\n",
              "      <td>Fiji</td>\n",
              "      <td>1</td>\n",
              "      <td>1</td>\n",
              "      <td>Pacific Games</td>\n",
              "      <td>Apia</td>\n",
              "      <td>Samoa</td>\n",
              "      <td>True</td>\n",
              "    </tr>\n",
              "  </tbody>\n",
              "</table>\n",
              "</div>"
            ],
            "text/plain": [
              "             date         home_team  ... country  neutral\n",
              "40834  2019-07-18    American Samoa  ...   Samoa     True\n",
              "40835  2019-07-18              Fiji  ...   Samoa     True\n",
              "40836  2019-07-19           Senegal  ...   Egypt     True\n",
              "40837  2019-07-19        Tajikistan  ...   India     True\n",
              "40838  2019-07-20  Papua New Guinea  ...   Samoa     True\n",
              "\n",
              "[5 rows x 9 columns]"
            ]
          },
          "metadata": {
            "tags": []
          },
          "execution_count": 7
        }
      ]
    },
    {
      "cell_type": "code",
      "metadata": {
        "id": "2rPKAyq0zzb3",
        "colab_type": "code",
        "colab": {
          "base_uri": "https://localhost:8080/",
          "height": 317
        },
        "outputId": "df200bf6-7b2e-493a-f17d-4417c6bb224a"
      },
      "source": [
        "#describing of our dataset.\n",
        "ranking.describe()"
      ],
      "execution_count": 8,
      "outputs": [
        {
          "output_type": "execute_result",
          "data": {
            "text/html": [
              "<div>\n",
              "<style scoped>\n",
              "    .dataframe tbody tr th:only-of-type {\n",
              "        vertical-align: middle;\n",
              "    }\n",
              "\n",
              "    .dataframe tbody tr th {\n",
              "        vertical-align: top;\n",
              "    }\n",
              "\n",
              "    .dataframe thead th {\n",
              "        text-align: right;\n",
              "    }\n",
              "</style>\n",
              "<table border=\"1\" class=\"dataframe\">\n",
              "  <thead>\n",
              "    <tr style=\"text-align: right;\">\n",
              "      <th></th>\n",
              "      <th>rank</th>\n",
              "      <th>total_points</th>\n",
              "      <th>previous_points</th>\n",
              "      <th>rank_change</th>\n",
              "      <th>cur_year_avg</th>\n",
              "      <th>cur_year_avg_weighted</th>\n",
              "      <th>last_year_avg</th>\n",
              "      <th>last_year_avg_weighted</th>\n",
              "      <th>two_year_ago_avg</th>\n",
              "      <th>two_year_ago_weighted</th>\n",
              "      <th>three_year_ago_avg</th>\n",
              "      <th>three_year_ago_weighted</th>\n",
              "    </tr>\n",
              "  </thead>\n",
              "  <tbody>\n",
              "    <tr>\n",
              "      <th>count</th>\n",
              "      <td>57793.000000</td>\n",
              "      <td>57793.000000</td>\n",
              "      <td>57793.000000</td>\n",
              "      <td>57793.000000</td>\n",
              "      <td>57793.000000</td>\n",
              "      <td>57793.000000</td>\n",
              "      <td>57793.000000</td>\n",
              "      <td>57793.000000</td>\n",
              "      <td>57793.000000</td>\n",
              "      <td>57793.000000</td>\n",
              "      <td>57793.000000</td>\n",
              "      <td>57793.000000</td>\n",
              "    </tr>\n",
              "    <tr>\n",
              "      <th>mean</th>\n",
              "      <td>101.628086</td>\n",
              "      <td>122.068637</td>\n",
              "      <td>332.302926</td>\n",
              "      <td>-0.009897</td>\n",
              "      <td>61.798602</td>\n",
              "      <td>61.798602</td>\n",
              "      <td>61.004602</td>\n",
              "      <td>30.502377</td>\n",
              "      <td>59.777462</td>\n",
              "      <td>17.933277</td>\n",
              "      <td>59.173916</td>\n",
              "      <td>11.834811</td>\n",
              "    </tr>\n",
              "    <tr>\n",
              "      <th>std</th>\n",
              "      <td>58.618424</td>\n",
              "      <td>260.426863</td>\n",
              "      <td>302.872948</td>\n",
              "      <td>5.804309</td>\n",
              "      <td>138.014883</td>\n",
              "      <td>138.014883</td>\n",
              "      <td>137.688204</td>\n",
              "      <td>68.844143</td>\n",
              "      <td>136.296079</td>\n",
              "      <td>40.888849</td>\n",
              "      <td>135.533343</td>\n",
              "      <td>27.106675</td>\n",
              "    </tr>\n",
              "    <tr>\n",
              "      <th>min</th>\n",
              "      <td>1.000000</td>\n",
              "      <td>0.000000</td>\n",
              "      <td>0.000000</td>\n",
              "      <td>-72.000000</td>\n",
              "      <td>0.000000</td>\n",
              "      <td>0.000000</td>\n",
              "      <td>0.000000</td>\n",
              "      <td>0.000000</td>\n",
              "      <td>0.000000</td>\n",
              "      <td>0.000000</td>\n",
              "      <td>0.000000</td>\n",
              "      <td>0.000000</td>\n",
              "    </tr>\n",
              "    <tr>\n",
              "      <th>25%</th>\n",
              "      <td>51.000000</td>\n",
              "      <td>0.000000</td>\n",
              "      <td>56.000000</td>\n",
              "      <td>-2.000000</td>\n",
              "      <td>0.000000</td>\n",
              "      <td>0.000000</td>\n",
              "      <td>0.000000</td>\n",
              "      <td>0.000000</td>\n",
              "      <td>0.000000</td>\n",
              "      <td>0.000000</td>\n",
              "      <td>0.000000</td>\n",
              "      <td>0.000000</td>\n",
              "    </tr>\n",
              "    <tr>\n",
              "      <th>50%</th>\n",
              "      <td>101.000000</td>\n",
              "      <td>0.000000</td>\n",
              "      <td>272.000000</td>\n",
              "      <td>0.000000</td>\n",
              "      <td>0.000000</td>\n",
              "      <td>0.000000</td>\n",
              "      <td>0.000000</td>\n",
              "      <td>0.000000</td>\n",
              "      <td>0.000000</td>\n",
              "      <td>0.000000</td>\n",
              "      <td>0.000000</td>\n",
              "      <td>0.000000</td>\n",
              "    </tr>\n",
              "    <tr>\n",
              "      <th>75%</th>\n",
              "      <td>152.000000</td>\n",
              "      <td>92.790000</td>\n",
              "      <td>525.000000</td>\n",
              "      <td>1.000000</td>\n",
              "      <td>32.250000</td>\n",
              "      <td>32.250000</td>\n",
              "      <td>26.660000</td>\n",
              "      <td>13.330000</td>\n",
              "      <td>21.500000</td>\n",
              "      <td>6.450000</td>\n",
              "      <td>21.250000</td>\n",
              "      <td>4.250000</td>\n",
              "    </tr>\n",
              "    <tr>\n",
              "      <th>max</th>\n",
              "      <td>209.000000</td>\n",
              "      <td>1775.030000</td>\n",
              "      <td>1920.000000</td>\n",
              "      <td>92.000000</td>\n",
              "      <td>1158.660000</td>\n",
              "      <td>1158.660000</td>\n",
              "      <td>1169.570000</td>\n",
              "      <td>584.790000</td>\n",
              "      <td>1159.710000</td>\n",
              "      <td>347.910000</td>\n",
              "      <td>1200.770000</td>\n",
              "      <td>240.150000</td>\n",
              "    </tr>\n",
              "  </tbody>\n",
              "</table>\n",
              "</div>"
            ],
            "text/plain": [
              "               rank  total_points  ...  three_year_ago_avg  three_year_ago_weighted\n",
              "count  57793.000000  57793.000000  ...        57793.000000             57793.000000\n",
              "mean     101.628086    122.068637  ...           59.173916                11.834811\n",
              "std       58.618424    260.426863  ...          135.533343                27.106675\n",
              "min        1.000000      0.000000  ...            0.000000                 0.000000\n",
              "25%       51.000000      0.000000  ...            0.000000                 0.000000\n",
              "50%      101.000000      0.000000  ...            0.000000                 0.000000\n",
              "75%      152.000000     92.790000  ...           21.250000                 4.250000\n",
              "max      209.000000   1775.030000  ...         1200.770000               240.150000\n",
              "\n",
              "[8 rows x 12 columns]"
            ]
          },
          "metadata": {
            "tags": []
          },
          "execution_count": 8
        }
      ]
    },
    {
      "cell_type": "code",
      "metadata": {
        "id": "b4cHa0eyz2CQ",
        "colab_type": "code",
        "colab": {
          "base_uri": "https://localhost:8080/",
          "height": 297
        },
        "outputId": "56ebebee-6377-4b41-b082-93c08769f199"
      },
      "source": [
        "#describing of our dataset.\n",
        "results.describe()"
      ],
      "execution_count": 9,
      "outputs": [
        {
          "output_type": "execute_result",
          "data": {
            "text/html": [
              "<div>\n",
              "<style scoped>\n",
              "    .dataframe tbody tr th:only-of-type {\n",
              "        vertical-align: middle;\n",
              "    }\n",
              "\n",
              "    .dataframe tbody tr th {\n",
              "        vertical-align: top;\n",
              "    }\n",
              "\n",
              "    .dataframe thead th {\n",
              "        text-align: right;\n",
              "    }\n",
              "</style>\n",
              "<table border=\"1\" class=\"dataframe\">\n",
              "  <thead>\n",
              "    <tr style=\"text-align: right;\">\n",
              "      <th></th>\n",
              "      <th>home_score</th>\n",
              "      <th>away_score</th>\n",
              "    </tr>\n",
              "  </thead>\n",
              "  <tbody>\n",
              "    <tr>\n",
              "      <th>count</th>\n",
              "      <td>40839.000000</td>\n",
              "      <td>40839.000000</td>\n",
              "    </tr>\n",
              "    <tr>\n",
              "      <th>mean</th>\n",
              "      <td>1.745709</td>\n",
              "      <td>1.188105</td>\n",
              "    </tr>\n",
              "    <tr>\n",
              "      <th>std</th>\n",
              "      <td>1.749145</td>\n",
              "      <td>1.405120</td>\n",
              "    </tr>\n",
              "    <tr>\n",
              "      <th>min</th>\n",
              "      <td>0.000000</td>\n",
              "      <td>0.000000</td>\n",
              "    </tr>\n",
              "    <tr>\n",
              "      <th>25%</th>\n",
              "      <td>1.000000</td>\n",
              "      <td>0.000000</td>\n",
              "    </tr>\n",
              "    <tr>\n",
              "      <th>50%</th>\n",
              "      <td>1.000000</td>\n",
              "      <td>1.000000</td>\n",
              "    </tr>\n",
              "    <tr>\n",
              "      <th>75%</th>\n",
              "      <td>2.000000</td>\n",
              "      <td>2.000000</td>\n",
              "    </tr>\n",
              "    <tr>\n",
              "      <th>max</th>\n",
              "      <td>31.000000</td>\n",
              "      <td>21.000000</td>\n",
              "    </tr>\n",
              "  </tbody>\n",
              "</table>\n",
              "</div>"
            ],
            "text/plain": [
              "         home_score    away_score\n",
              "count  40839.000000  40839.000000\n",
              "mean       1.745709      1.188105\n",
              "std        1.749145      1.405120\n",
              "min        0.000000      0.000000\n",
              "25%        1.000000      0.000000\n",
              "50%        1.000000      1.000000\n",
              "75%        2.000000      2.000000\n",
              "max       31.000000     21.000000"
            ]
          },
          "metadata": {
            "tags": []
          },
          "execution_count": 9
        }
      ]
    },
    {
      "cell_type": "markdown",
      "metadata": {
        "id": "OfzkDX52ubxD",
        "colab_type": "text"
      },
      "source": [
        "### **Tidying and Cleaning of the Data**"
      ]
    },
    {
      "cell_type": "code",
      "metadata": {
        "id": "1xmBp2dEz4vE",
        "colab_type": "code",
        "colab": {
          "base_uri": "https://localhost:8080/",
          "height": 306
        },
        "outputId": "977b74bf-e5da-41d1-8c03-c6e9b9c9c2b2"
      },
      "source": [
        "#checking for null values.\n",
        "ranking.isnull().sum()"
      ],
      "execution_count": 10,
      "outputs": [
        {
          "output_type": "execute_result",
          "data": {
            "text/plain": [
              "rank                       0\n",
              "country_full               0\n",
              "country_abrv               0\n",
              "total_points               0\n",
              "previous_points            0\n",
              "rank_change                0\n",
              "cur_year_avg               0\n",
              "cur_year_avg_weighted      0\n",
              "last_year_avg              0\n",
              "last_year_avg_weighted     0\n",
              "two_year_ago_avg           0\n",
              "two_year_ago_weighted      0\n",
              "three_year_ago_avg         0\n",
              "three_year_ago_weighted    0\n",
              "confederation              0\n",
              "rank_date                  0\n",
              "dtype: int64"
            ]
          },
          "metadata": {
            "tags": []
          },
          "execution_count": 10
        }
      ]
    },
    {
      "cell_type": "code",
      "metadata": {
        "id": "lJQae-Y6z_78",
        "colab_type": "code",
        "colab": {
          "base_uri": "https://localhost:8080/",
          "height": 187
        },
        "outputId": "ec8b441c-75e3-480b-e366-9ce070a2f05e"
      },
      "source": [
        "#checking for null values\n",
        "results.isnull().sum()"
      ],
      "execution_count": 11,
      "outputs": [
        {
          "output_type": "execute_result",
          "data": {
            "text/plain": [
              "date          0\n",
              "home_team     0\n",
              "away_team     0\n",
              "home_score    0\n",
              "away_score    0\n",
              "tournament    0\n",
              "city          0\n",
              "country       0\n",
              "neutral       0\n",
              "dtype: int64"
            ]
          },
          "metadata": {
            "tags": []
          },
          "execution_count": 11
        }
      ]
    },
    {
      "cell_type": "code",
      "metadata": {
        "id": "1SVyAYFp0DGy",
        "colab_type": "code",
        "colab": {
          "base_uri": "https://localhost:8080/",
          "height": 306
        },
        "outputId": "01b64fcc-4517-465d-de82-e1bf499e35e3"
      },
      "source": [
        "#checkig for missing values\n",
        "ranking.isna().sum()"
      ],
      "execution_count": 12,
      "outputs": [
        {
          "output_type": "execute_result",
          "data": {
            "text/plain": [
              "rank                       0\n",
              "country_full               0\n",
              "country_abrv               0\n",
              "total_points               0\n",
              "previous_points            0\n",
              "rank_change                0\n",
              "cur_year_avg               0\n",
              "cur_year_avg_weighted      0\n",
              "last_year_avg              0\n",
              "last_year_avg_weighted     0\n",
              "two_year_ago_avg           0\n",
              "two_year_ago_weighted      0\n",
              "three_year_ago_avg         0\n",
              "three_year_ago_weighted    0\n",
              "confederation              0\n",
              "rank_date                  0\n",
              "dtype: int64"
            ]
          },
          "metadata": {
            "tags": []
          },
          "execution_count": 12
        }
      ]
    },
    {
      "cell_type": "code",
      "metadata": {
        "id": "L-CqqRIQ0Fxo",
        "colab_type": "code",
        "colab": {
          "base_uri": "https://localhost:8080/",
          "height": 187
        },
        "outputId": "db62606a-b930-4771-d1b6-fe4ea2e739d7"
      },
      "source": [
        "#checkig for missing values\n",
        "results.isna().sum()"
      ],
      "execution_count": 13,
      "outputs": [
        {
          "output_type": "execute_result",
          "data": {
            "text/plain": [
              "date          0\n",
              "home_team     0\n",
              "away_team     0\n",
              "home_score    0\n",
              "away_score    0\n",
              "tournament    0\n",
              "city          0\n",
              "country       0\n",
              "neutral       0\n",
              "dtype: int64"
            ]
          },
          "metadata": {
            "tags": []
          },
          "execution_count": 13
        }
      ]
    },
    {
      "cell_type": "code",
      "metadata": {
        "id": "erdgpFbs0LBl",
        "colab_type": "code",
        "colab": {
          "base_uri": "https://localhost:8080/",
          "height": 289
        },
        "outputId": "b2ee6a47-50d6-44c3-d570-6e2df4cbe2f5"
      },
      "source": [
        "#viewing information about our dataset.\n",
        "results.info()"
      ],
      "execution_count": 14,
      "outputs": [
        {
          "output_type": "stream",
          "text": [
            "<class 'pandas.core.frame.DataFrame'>\n",
            "RangeIndex: 40839 entries, 0 to 40838\n",
            "Data columns (total 9 columns):\n",
            " #   Column      Non-Null Count  Dtype \n",
            "---  ------      --------------  ----- \n",
            " 0   date        40839 non-null  object\n",
            " 1   home_team   40839 non-null  object\n",
            " 2   away_team   40839 non-null  object\n",
            " 3   home_score  40839 non-null  int64 \n",
            " 4   away_score  40839 non-null  int64 \n",
            " 5   tournament  40839 non-null  object\n",
            " 6   city        40839 non-null  object\n",
            " 7   country     40839 non-null  object\n",
            " 8   neutral     40839 non-null  bool  \n",
            "dtypes: bool(1), int64(2), object(6)\n",
            "memory usage: 2.5+ MB\n"
          ],
          "name": "stdout"
        }
      ]
    },
    {
      "cell_type": "code",
      "metadata": {
        "id": "1mEyofvU1aFA",
        "colab_type": "code",
        "colab": {
          "base_uri": "https://localhost:8080/",
          "height": 204
        },
        "outputId": "5b0e3545-6203-46a5-c450-0334c9c6eacc"
      },
      "source": [
        "#changing the date to datetime type and adding columns for the years, months and days for merging.\n",
        "results['date_parsed'] = pd.to_datetime(results['date'], format = \"%Y-%m-%d\")\n",
        "results = results.drop(columns='date')\n",
        "results['year'] = results['date_parsed'].dt.year\n",
        "results['month'] = results['date_parsed'].dt.month\n",
        "results['day'] = results['date_parsed'].dt.day\n",
        "results.head()"
      ],
      "execution_count": 88,
      "outputs": [
        {
          "output_type": "execute_result",
          "data": {
            "text/html": [
              "<div>\n",
              "<style scoped>\n",
              "    .dataframe tbody tr th:only-of-type {\n",
              "        vertical-align: middle;\n",
              "    }\n",
              "\n",
              "    .dataframe tbody tr th {\n",
              "        vertical-align: top;\n",
              "    }\n",
              "\n",
              "    .dataframe thead th {\n",
              "        text-align: right;\n",
              "    }\n",
              "</style>\n",
              "<table border=\"1\" class=\"dataframe\">\n",
              "  <thead>\n",
              "    <tr style=\"text-align: right;\">\n",
              "      <th></th>\n",
              "      <th>home_team</th>\n",
              "      <th>away_team</th>\n",
              "      <th>home_score</th>\n",
              "      <th>away_score</th>\n",
              "      <th>tournament</th>\n",
              "      <th>city</th>\n",
              "      <th>country</th>\n",
              "      <th>neutral</th>\n",
              "      <th>date_parsed</th>\n",
              "      <th>year</th>\n",
              "      <th>month</th>\n",
              "      <th>day</th>\n",
              "    </tr>\n",
              "  </thead>\n",
              "  <tbody>\n",
              "    <tr>\n",
              "      <th>0</th>\n",
              "      <td>Scotland</td>\n",
              "      <td>England</td>\n",
              "      <td>0</td>\n",
              "      <td>0</td>\n",
              "      <td>Friendly</td>\n",
              "      <td>Glasgow</td>\n",
              "      <td>Scotland</td>\n",
              "      <td>False</td>\n",
              "      <td>1872-11-30</td>\n",
              "      <td>1872</td>\n",
              "      <td>11</td>\n",
              "      <td>30</td>\n",
              "    </tr>\n",
              "    <tr>\n",
              "      <th>1</th>\n",
              "      <td>England</td>\n",
              "      <td>Scotland</td>\n",
              "      <td>4</td>\n",
              "      <td>2</td>\n",
              "      <td>Friendly</td>\n",
              "      <td>London</td>\n",
              "      <td>England</td>\n",
              "      <td>False</td>\n",
              "      <td>1873-03-08</td>\n",
              "      <td>1873</td>\n",
              "      <td>3</td>\n",
              "      <td>8</td>\n",
              "    </tr>\n",
              "    <tr>\n",
              "      <th>2</th>\n",
              "      <td>Scotland</td>\n",
              "      <td>England</td>\n",
              "      <td>2</td>\n",
              "      <td>1</td>\n",
              "      <td>Friendly</td>\n",
              "      <td>Glasgow</td>\n",
              "      <td>Scotland</td>\n",
              "      <td>False</td>\n",
              "      <td>1874-03-07</td>\n",
              "      <td>1874</td>\n",
              "      <td>3</td>\n",
              "      <td>7</td>\n",
              "    </tr>\n",
              "    <tr>\n",
              "      <th>3</th>\n",
              "      <td>England</td>\n",
              "      <td>Scotland</td>\n",
              "      <td>2</td>\n",
              "      <td>2</td>\n",
              "      <td>Friendly</td>\n",
              "      <td>London</td>\n",
              "      <td>England</td>\n",
              "      <td>False</td>\n",
              "      <td>1875-03-06</td>\n",
              "      <td>1875</td>\n",
              "      <td>3</td>\n",
              "      <td>6</td>\n",
              "    </tr>\n",
              "    <tr>\n",
              "      <th>4</th>\n",
              "      <td>Scotland</td>\n",
              "      <td>England</td>\n",
              "      <td>3</td>\n",
              "      <td>0</td>\n",
              "      <td>Friendly</td>\n",
              "      <td>Glasgow</td>\n",
              "      <td>Scotland</td>\n",
              "      <td>False</td>\n",
              "      <td>1876-03-04</td>\n",
              "      <td>1876</td>\n",
              "      <td>3</td>\n",
              "      <td>4</td>\n",
              "    </tr>\n",
              "  </tbody>\n",
              "</table>\n",
              "</div>"
            ],
            "text/plain": [
              "  home_team away_team  home_score  away_score  ... date_parsed  year month  day\n",
              "0  Scotland   England           0           0  ...  1872-11-30  1872    11   30\n",
              "1   England  Scotland           4           2  ...  1873-03-08  1873     3    8\n",
              "2  Scotland   England           2           1  ...  1874-03-07  1874     3    7\n",
              "3   England  Scotland           2           2  ...  1875-03-06  1875     3    6\n",
              "4  Scotland   England           3           0  ...  1876-03-04  1876     3    4\n",
              "\n",
              "[5 rows x 12 columns]"
            ]
          },
          "metadata": {
            "tags": []
          },
          "execution_count": 88
        }
      ]
    },
    {
      "cell_type": "code",
      "metadata": {
        "id": "uxK_e5nU3QR_",
        "colab_type": "code",
        "colab": {
          "base_uri": "https://localhost:8080/",
          "height": 204
        },
        "outputId": "104f64e8-9b79-4bf3-8dda-737b9e573aee"
      },
      "source": [
        "#selecting data from the specified dates since that is when fifa ranking started and the data collected within the time is better.\n",
        "date1 = '2011-08-24'\n",
        "within = (results['date_parsed'] >= date1)\n",
        "results1 = results.loc[within].reset_index()\n",
        "results1 = results1.drop(columns='index')\n",
        "results1.head()"
      ],
      "execution_count": 89,
      "outputs": [
        {
          "output_type": "execute_result",
          "data": {
            "text/html": [
              "<div>\n",
              "<style scoped>\n",
              "    .dataframe tbody tr th:only-of-type {\n",
              "        vertical-align: middle;\n",
              "    }\n",
              "\n",
              "    .dataframe tbody tr th {\n",
              "        vertical-align: top;\n",
              "    }\n",
              "\n",
              "    .dataframe thead th {\n",
              "        text-align: right;\n",
              "    }\n",
              "</style>\n",
              "<table border=\"1\" class=\"dataframe\">\n",
              "  <thead>\n",
              "    <tr style=\"text-align: right;\">\n",
              "      <th></th>\n",
              "      <th>home_team</th>\n",
              "      <th>away_team</th>\n",
              "      <th>home_score</th>\n",
              "      <th>away_score</th>\n",
              "      <th>tournament</th>\n",
              "      <th>city</th>\n",
              "      <th>country</th>\n",
              "      <th>neutral</th>\n",
              "      <th>date_parsed</th>\n",
              "      <th>year</th>\n",
              "      <th>month</th>\n",
              "      <th>day</th>\n",
              "    </tr>\n",
              "  </thead>\n",
              "  <tbody>\n",
              "    <tr>\n",
              "      <th>0</th>\n",
              "      <td>Guyana</td>\n",
              "      <td>India</td>\n",
              "      <td>2</td>\n",
              "      <td>1</td>\n",
              "      <td>Friendly</td>\n",
              "      <td>Providence</td>\n",
              "      <td>Guyana</td>\n",
              "      <td>False</td>\n",
              "      <td>2011-08-24</td>\n",
              "      <td>2011</td>\n",
              "      <td>8</td>\n",
              "      <td>24</td>\n",
              "    </tr>\n",
              "    <tr>\n",
              "      <th>1</th>\n",
              "      <td>Thailand</td>\n",
              "      <td>Singapore</td>\n",
              "      <td>0</td>\n",
              "      <td>0</td>\n",
              "      <td>Friendly</td>\n",
              "      <td>Bangkok</td>\n",
              "      <td>Thailand</td>\n",
              "      <td>False</td>\n",
              "      <td>2011-08-24</td>\n",
              "      <td>2011</td>\n",
              "      <td>8</td>\n",
              "      <td>24</td>\n",
              "    </tr>\n",
              "    <tr>\n",
              "      <th>2</th>\n",
              "      <td>United Arab Emirates</td>\n",
              "      <td>Qatar</td>\n",
              "      <td>3</td>\n",
              "      <td>1</td>\n",
              "      <td>Friendly</td>\n",
              "      <td>al-Ain</td>\n",
              "      <td>United Arab Emirates</td>\n",
              "      <td>False</td>\n",
              "      <td>2011-08-25</td>\n",
              "      <td>2011</td>\n",
              "      <td>8</td>\n",
              "      <td>25</td>\n",
              "    </tr>\n",
              "    <tr>\n",
              "      <th>3</th>\n",
              "      <td>Bahrain</td>\n",
              "      <td>Sudan</td>\n",
              "      <td>1</td>\n",
              "      <td>0</td>\n",
              "      <td>Friendly</td>\n",
              "      <td>Riffa</td>\n",
              "      <td>Bahrain</td>\n",
              "      <td>False</td>\n",
              "      <td>2011-08-26</td>\n",
              "      <td>2011</td>\n",
              "      <td>8</td>\n",
              "      <td>26</td>\n",
              "    </tr>\n",
              "    <tr>\n",
              "      <th>4</th>\n",
              "      <td>Angola</td>\n",
              "      <td>DR Congo</td>\n",
              "      <td>1</td>\n",
              "      <td>2</td>\n",
              "      <td>Friendly</td>\n",
              "      <td>Dundo</td>\n",
              "      <td>Angola</td>\n",
              "      <td>False</td>\n",
              "      <td>2011-08-27</td>\n",
              "      <td>2011</td>\n",
              "      <td>8</td>\n",
              "      <td>27</td>\n",
              "    </tr>\n",
              "  </tbody>\n",
              "</table>\n",
              "</div>"
            ],
            "text/plain": [
              "              home_team  away_team  home_score  ...  year month day\n",
              "0                Guyana      India           2  ...  2011     8  24\n",
              "1              Thailand  Singapore           0  ...  2011     8  24\n",
              "2  United Arab Emirates      Qatar           3  ...  2011     8  25\n",
              "3               Bahrain      Sudan           1  ...  2011     8  26\n",
              "4                Angola   DR Congo           1  ...  2011     8  27\n",
              "\n",
              "[5 rows x 12 columns]"
            ]
          },
          "metadata": {
            "tags": []
          },
          "execution_count": 89
        }
      ]
    },
    {
      "cell_type": "code",
      "metadata": {
        "id": "srXwWZ7t6xdk",
        "colab_type": "code",
        "colab": {
          "base_uri": "https://localhost:8080/",
          "height": 34
        },
        "outputId": "efb4633b-117f-482d-8163-c7dbd3b1008c"
      },
      "source": [
        "#checking the rows and columns of the new dataset\n",
        "results1.shape"
      ],
      "execution_count": 90,
      "outputs": [
        {
          "output_type": "execute_result",
          "data": {
            "text/plain": [
              "(7560, 12)"
            ]
          },
          "metadata": {
            "tags": []
          },
          "execution_count": 90
        }
      ]
    },
    {
      "cell_type": "code",
      "metadata": {
        "id": "Huv0XGHk4XIm",
        "colab_type": "code",
        "colab": {
          "base_uri": "https://localhost:8080/",
          "height": 224
        },
        "outputId": "3672ae4f-e1de-4100-d17f-25ae5166aa40"
      },
      "source": [
        "#changing the date to datetime type and adding columns for the years, months and days for merging.\n",
        "ranking['date_parsed'] = pd.to_datetime(ranking['rank_date'], format = \"%Y-%m-%d\")\n",
        "ranking = ranking.drop(columns='rank_date')\n",
        "ranking['year'] = ranking['date_parsed'].dt.year\n",
        "ranking['month'] = ranking['date_parsed'].dt.month\n",
        "ranking['day'] = ranking['date_parsed'].dt.day\n",
        "ranking.head()"
      ],
      "execution_count": 91,
      "outputs": [
        {
          "output_type": "execute_result",
          "data": {
            "text/html": [
              "<div>\n",
              "<style scoped>\n",
              "    .dataframe tbody tr th:only-of-type {\n",
              "        vertical-align: middle;\n",
              "    }\n",
              "\n",
              "    .dataframe tbody tr th {\n",
              "        vertical-align: top;\n",
              "    }\n",
              "\n",
              "    .dataframe thead th {\n",
              "        text-align: right;\n",
              "    }\n",
              "</style>\n",
              "<table border=\"1\" class=\"dataframe\">\n",
              "  <thead>\n",
              "    <tr style=\"text-align: right;\">\n",
              "      <th></th>\n",
              "      <th>rank</th>\n",
              "      <th>country_full</th>\n",
              "      <th>country_abrv</th>\n",
              "      <th>total_points</th>\n",
              "      <th>previous_points</th>\n",
              "      <th>rank_change</th>\n",
              "      <th>cur_year_avg</th>\n",
              "      <th>cur_year_avg_weighted</th>\n",
              "      <th>last_year_avg</th>\n",
              "      <th>last_year_avg_weighted</th>\n",
              "      <th>two_year_ago_avg</th>\n",
              "      <th>two_year_ago_weighted</th>\n",
              "      <th>three_year_ago_avg</th>\n",
              "      <th>three_year_ago_weighted</th>\n",
              "      <th>confederation</th>\n",
              "      <th>date_parsed</th>\n",
              "      <th>year</th>\n",
              "      <th>month</th>\n",
              "      <th>day</th>\n",
              "    </tr>\n",
              "  </thead>\n",
              "  <tbody>\n",
              "    <tr>\n",
              "      <th>0</th>\n",
              "      <td>1</td>\n",
              "      <td>Germany</td>\n",
              "      <td>GER</td>\n",
              "      <td>0.0</td>\n",
              "      <td>57</td>\n",
              "      <td>0</td>\n",
              "      <td>0.0</td>\n",
              "      <td>0.0</td>\n",
              "      <td>0.0</td>\n",
              "      <td>0.0</td>\n",
              "      <td>0.0</td>\n",
              "      <td>0.0</td>\n",
              "      <td>0.0</td>\n",
              "      <td>0.0</td>\n",
              "      <td>UEFA</td>\n",
              "      <td>1993-08-08</td>\n",
              "      <td>1993</td>\n",
              "      <td>8</td>\n",
              "      <td>8</td>\n",
              "    </tr>\n",
              "    <tr>\n",
              "      <th>1</th>\n",
              "      <td>2</td>\n",
              "      <td>Italy</td>\n",
              "      <td>ITA</td>\n",
              "      <td>0.0</td>\n",
              "      <td>57</td>\n",
              "      <td>0</td>\n",
              "      <td>0.0</td>\n",
              "      <td>0.0</td>\n",
              "      <td>0.0</td>\n",
              "      <td>0.0</td>\n",
              "      <td>0.0</td>\n",
              "      <td>0.0</td>\n",
              "      <td>0.0</td>\n",
              "      <td>0.0</td>\n",
              "      <td>UEFA</td>\n",
              "      <td>1993-08-08</td>\n",
              "      <td>1993</td>\n",
              "      <td>8</td>\n",
              "      <td>8</td>\n",
              "    </tr>\n",
              "    <tr>\n",
              "      <th>2</th>\n",
              "      <td>3</td>\n",
              "      <td>Switzerland</td>\n",
              "      <td>SUI</td>\n",
              "      <td>0.0</td>\n",
              "      <td>50</td>\n",
              "      <td>9</td>\n",
              "      <td>0.0</td>\n",
              "      <td>0.0</td>\n",
              "      <td>0.0</td>\n",
              "      <td>0.0</td>\n",
              "      <td>0.0</td>\n",
              "      <td>0.0</td>\n",
              "      <td>0.0</td>\n",
              "      <td>0.0</td>\n",
              "      <td>UEFA</td>\n",
              "      <td>1993-08-08</td>\n",
              "      <td>1993</td>\n",
              "      <td>8</td>\n",
              "      <td>8</td>\n",
              "    </tr>\n",
              "    <tr>\n",
              "      <th>3</th>\n",
              "      <td>4</td>\n",
              "      <td>Sweden</td>\n",
              "      <td>SWE</td>\n",
              "      <td>0.0</td>\n",
              "      <td>55</td>\n",
              "      <td>0</td>\n",
              "      <td>0.0</td>\n",
              "      <td>0.0</td>\n",
              "      <td>0.0</td>\n",
              "      <td>0.0</td>\n",
              "      <td>0.0</td>\n",
              "      <td>0.0</td>\n",
              "      <td>0.0</td>\n",
              "      <td>0.0</td>\n",
              "      <td>UEFA</td>\n",
              "      <td>1993-08-08</td>\n",
              "      <td>1993</td>\n",
              "      <td>8</td>\n",
              "      <td>8</td>\n",
              "    </tr>\n",
              "    <tr>\n",
              "      <th>4</th>\n",
              "      <td>5</td>\n",
              "      <td>Argentina</td>\n",
              "      <td>ARG</td>\n",
              "      <td>0.0</td>\n",
              "      <td>51</td>\n",
              "      <td>5</td>\n",
              "      <td>0.0</td>\n",
              "      <td>0.0</td>\n",
              "      <td>0.0</td>\n",
              "      <td>0.0</td>\n",
              "      <td>0.0</td>\n",
              "      <td>0.0</td>\n",
              "      <td>0.0</td>\n",
              "      <td>0.0</td>\n",
              "      <td>CONMEBOL</td>\n",
              "      <td>1993-08-08</td>\n",
              "      <td>1993</td>\n",
              "      <td>8</td>\n",
              "      <td>8</td>\n",
              "    </tr>\n",
              "  </tbody>\n",
              "</table>\n",
              "</div>"
            ],
            "text/plain": [
              "   rank country_full country_abrv  total_points  ...  date_parsed  year  month  day\n",
              "0     1      Germany          GER           0.0  ...   1993-08-08  1993      8    8\n",
              "1     2        Italy          ITA           0.0  ...   1993-08-08  1993      8    8\n",
              "2     3  Switzerland          SUI           0.0  ...   1993-08-08  1993      8    8\n",
              "3     4       Sweden          SWE           0.0  ...   1993-08-08  1993      8    8\n",
              "4     5    Argentina          ARG           0.0  ...   1993-08-08  1993      8    8\n",
              "\n",
              "[5 rows x 19 columns]"
            ]
          },
          "metadata": {
            "tags": []
          },
          "execution_count": 91
        }
      ]
    },
    {
      "cell_type": "code",
      "metadata": {
        "id": "KCH5CJpD5Spl",
        "colab_type": "code",
        "colab": {
          "base_uri": "https://localhost:8080/",
          "height": 224
        },
        "outputId": "98b9b9ad-4534-490f-b576-ec99a7d8e972"
      },
      "source": [
        "#selecting data from the specified dates since that is when fifa ranking started and the data collected within the time is better.\n",
        "within = (ranking['date_parsed'] >= date1)\n",
        "ranking1 = ranking.loc[within].reset_index()\n",
        "ranking1 = ranking1.drop(columns='index')\n",
        "ranking1.head()"
      ],
      "execution_count": 92,
      "outputs": [
        {
          "output_type": "execute_result",
          "data": {
            "text/html": [
              "<div>\n",
              "<style scoped>\n",
              "    .dataframe tbody tr th:only-of-type {\n",
              "        vertical-align: middle;\n",
              "    }\n",
              "\n",
              "    .dataframe tbody tr th {\n",
              "        vertical-align: top;\n",
              "    }\n",
              "\n",
              "    .dataframe thead th {\n",
              "        text-align: right;\n",
              "    }\n",
              "</style>\n",
              "<table border=\"1\" class=\"dataframe\">\n",
              "  <thead>\n",
              "    <tr style=\"text-align: right;\">\n",
              "      <th></th>\n",
              "      <th>rank</th>\n",
              "      <th>country_full</th>\n",
              "      <th>country_abrv</th>\n",
              "      <th>total_points</th>\n",
              "      <th>previous_points</th>\n",
              "      <th>rank_change</th>\n",
              "      <th>cur_year_avg</th>\n",
              "      <th>cur_year_avg_weighted</th>\n",
              "      <th>last_year_avg</th>\n",
              "      <th>last_year_avg_weighted</th>\n",
              "      <th>two_year_ago_avg</th>\n",
              "      <th>two_year_ago_weighted</th>\n",
              "      <th>three_year_ago_avg</th>\n",
              "      <th>three_year_ago_weighted</th>\n",
              "      <th>confederation</th>\n",
              "      <th>date_parsed</th>\n",
              "      <th>year</th>\n",
              "      <th>month</th>\n",
              "      <th>day</th>\n",
              "    </tr>\n",
              "  </thead>\n",
              "  <tbody>\n",
              "    <tr>\n",
              "      <th>0</th>\n",
              "      <td>1</td>\n",
              "      <td>Netherlands</td>\n",
              "      <td>NED</td>\n",
              "      <td>1596.13</td>\n",
              "      <td>1542</td>\n",
              "      <td>1</td>\n",
              "      <td>748.05</td>\n",
              "      <td>748.05</td>\n",
              "      <td>976.46</td>\n",
              "      <td>488.23</td>\n",
              "      <td>740.63</td>\n",
              "      <td>222.19</td>\n",
              "      <td>688.31</td>\n",
              "      <td>137.66</td>\n",
              "      <td>UEFA</td>\n",
              "      <td>2011-08-24</td>\n",
              "      <td>2011</td>\n",
              "      <td>8</td>\n",
              "      <td>24</td>\n",
              "    </tr>\n",
              "    <tr>\n",
              "      <th>1</th>\n",
              "      <td>2</td>\n",
              "      <td>Spain</td>\n",
              "      <td>ESP</td>\n",
              "      <td>1563.45</td>\n",
              "      <td>1588</td>\n",
              "      <td>-1</td>\n",
              "      <td>589.59</td>\n",
              "      <td>589.59</td>\n",
              "      <td>1074.04</td>\n",
              "      <td>537.02</td>\n",
              "      <td>796.81</td>\n",
              "      <td>239.04</td>\n",
              "      <td>989.00</td>\n",
              "      <td>197.80</td>\n",
              "      <td>UEFA</td>\n",
              "      <td>2011-08-24</td>\n",
              "      <td>2011</td>\n",
              "      <td>8</td>\n",
              "      <td>24</td>\n",
              "    </tr>\n",
              "    <tr>\n",
              "      <th>2</th>\n",
              "      <td>3</td>\n",
              "      <td>Germany</td>\n",
              "      <td>GER</td>\n",
              "      <td>1329.86</td>\n",
              "      <td>1305</td>\n",
              "      <td>0</td>\n",
              "      <td>617.83</td>\n",
              "      <td>617.83</td>\n",
              "      <td>860.14</td>\n",
              "      <td>430.07</td>\n",
              "      <td>504.02</td>\n",
              "      <td>151.21</td>\n",
              "      <td>653.74</td>\n",
              "      <td>130.75</td>\n",
              "      <td>UEFA</td>\n",
              "      <td>2011-08-24</td>\n",
              "      <td>2011</td>\n",
              "      <td>8</td>\n",
              "      <td>24</td>\n",
              "    </tr>\n",
              "    <tr>\n",
              "      <th>3</th>\n",
              "      <td>4</td>\n",
              "      <td>England</td>\n",
              "      <td>ENG</td>\n",
              "      <td>1176.88</td>\n",
              "      <td>1146</td>\n",
              "      <td>2</td>\n",
              "      <td>588.08</td>\n",
              "      <td>588.08</td>\n",
              "      <td>620.77</td>\n",
              "      <td>310.38</td>\n",
              "      <td>629.50</td>\n",
              "      <td>188.85</td>\n",
              "      <td>447.85</td>\n",
              "      <td>89.57</td>\n",
              "      <td>UEFA</td>\n",
              "      <td>2011-08-24</td>\n",
              "      <td>2011</td>\n",
              "      <td>8</td>\n",
              "      <td>24</td>\n",
              "    </tr>\n",
              "    <tr>\n",
              "      <th>4</th>\n",
              "      <td>5</td>\n",
              "      <td>Uruguay</td>\n",
              "      <td>URU</td>\n",
              "      <td>1174.34</td>\n",
              "      <td>1156</td>\n",
              "      <td>0</td>\n",
              "      <td>599.26</td>\n",
              "      <td>599.26</td>\n",
              "      <td>756.29</td>\n",
              "      <td>378.15</td>\n",
              "      <td>415.70</td>\n",
              "      <td>124.71</td>\n",
              "      <td>361.09</td>\n",
              "      <td>72.22</td>\n",
              "      <td>CONMEBOL</td>\n",
              "      <td>2011-08-24</td>\n",
              "      <td>2011</td>\n",
              "      <td>8</td>\n",
              "      <td>24</td>\n",
              "    </tr>\n",
              "  </tbody>\n",
              "</table>\n",
              "</div>"
            ],
            "text/plain": [
              "   rank country_full country_abrv  total_points  ...  date_parsed  year  month  day\n",
              "0     1  Netherlands          NED       1596.13  ...   2011-08-24  2011      8   24\n",
              "1     2        Spain          ESP       1563.45  ...   2011-08-24  2011      8   24\n",
              "2     3      Germany          GER       1329.86  ...   2011-08-24  2011      8   24\n",
              "3     4      England          ENG       1176.88  ...   2011-08-24  2011      8   24\n",
              "4     5      Uruguay          URU       1174.34  ...   2011-08-24  2011      8   24\n",
              "\n",
              "[5 rows x 19 columns]"
            ]
          },
          "metadata": {
            "tags": []
          },
          "execution_count": 92
        }
      ]
    },
    {
      "cell_type": "code",
      "metadata": {
        "id": "V45D4Sbl6jjU",
        "colab_type": "code",
        "colab": {
          "base_uri": "https://localhost:8080/",
          "height": 34
        },
        "outputId": "f3572f64-7813-44b7-eb55-e2ee91ca9c2e"
      },
      "source": [
        "#checking the rows and columns\n",
        "#there is a significant reduction proving that most of the data wouldn't fit our analysis and prediction.\n",
        "ranking1.shape"
      ],
      "execution_count": 93,
      "outputs": [
        {
          "output_type": "execute_result",
          "data": {
            "text/plain": [
              "(17414, 19)"
            ]
          },
          "metadata": {
            "tags": []
          },
          "execution_count": 93
        }
      ]
    },
    {
      "cell_type": "markdown",
      "metadata": {
        "id": "A8p1wE4dvA5p",
        "colab_type": "text"
      },
      "source": [
        "### **Merging of the datasets**"
      ]
    },
    {
      "cell_type": "code",
      "metadata": {
        "id": "xP8-LI946sHF",
        "colab_type": "code",
        "colab": {
          "base_uri": "https://localhost:8080/",
          "height": 275
        },
        "outputId": "079edd7e-ce89-4239-98fe-eabb880da4cb"
      },
      "source": [
        "#creating a dataset for home teams by merging the two datasets conveniently\n",
        "home_data=pd.merge(ranking1,results1, left_on=['country_full','year', 'month'], right_on=['home_team','year','month'],how='inner')\n",
        "home_data.head()"
      ],
      "execution_count": 94,
      "outputs": [
        {
          "output_type": "execute_result",
          "data": {
            "text/html": [
              "<div>\n",
              "<style scoped>\n",
              "    .dataframe tbody tr th:only-of-type {\n",
              "        vertical-align: middle;\n",
              "    }\n",
              "\n",
              "    .dataframe tbody tr th {\n",
              "        vertical-align: top;\n",
              "    }\n",
              "\n",
              "    .dataframe thead th {\n",
              "        text-align: right;\n",
              "    }\n",
              "</style>\n",
              "<table border=\"1\" class=\"dataframe\">\n",
              "  <thead>\n",
              "    <tr style=\"text-align: right;\">\n",
              "      <th></th>\n",
              "      <th>rank</th>\n",
              "      <th>country_full</th>\n",
              "      <th>country_abrv</th>\n",
              "      <th>total_points</th>\n",
              "      <th>previous_points</th>\n",
              "      <th>rank_change</th>\n",
              "      <th>cur_year_avg</th>\n",
              "      <th>cur_year_avg_weighted</th>\n",
              "      <th>last_year_avg</th>\n",
              "      <th>last_year_avg_weighted</th>\n",
              "      <th>two_year_ago_avg</th>\n",
              "      <th>two_year_ago_weighted</th>\n",
              "      <th>three_year_ago_avg</th>\n",
              "      <th>three_year_ago_weighted</th>\n",
              "      <th>confederation</th>\n",
              "      <th>date_parsed_x</th>\n",
              "      <th>year</th>\n",
              "      <th>month</th>\n",
              "      <th>day_x</th>\n",
              "      <th>home_team</th>\n",
              "      <th>away_team</th>\n",
              "      <th>home_score</th>\n",
              "      <th>away_score</th>\n",
              "      <th>tournament</th>\n",
              "      <th>city</th>\n",
              "      <th>country</th>\n",
              "      <th>neutral</th>\n",
              "      <th>date_parsed_y</th>\n",
              "      <th>day_y</th>\n",
              "    </tr>\n",
              "  </thead>\n",
              "  <tbody>\n",
              "    <tr>\n",
              "      <th>0</th>\n",
              "      <td>92</td>\n",
              "      <td>Jordan</td>\n",
              "      <td>JOR</td>\n",
              "      <td>348.42</td>\n",
              "      <td>364</td>\n",
              "      <td>-1</td>\n",
              "      <td>215.10</td>\n",
              "      <td>215.10</td>\n",
              "      <td>171.87</td>\n",
              "      <td>85.94</td>\n",
              "      <td>55.46</td>\n",
              "      <td>16.64</td>\n",
              "      <td>153.72</td>\n",
              "      <td>30.74</td>\n",
              "      <td>AFC</td>\n",
              "      <td>2011-08-24</td>\n",
              "      <td>2011</td>\n",
              "      <td>8</td>\n",
              "      <td>24</td>\n",
              "      <td>Jordan</td>\n",
              "      <td>Indonesia</td>\n",
              "      <td>1</td>\n",
              "      <td>0</td>\n",
              "      <td>Friendly</td>\n",
              "      <td>Amman</td>\n",
              "      <td>Jordan</td>\n",
              "      <td>False</td>\n",
              "      <td>2011-08-27</td>\n",
              "      <td>27</td>\n",
              "    </tr>\n",
              "    <tr>\n",
              "      <th>1</th>\n",
              "      <td>96</td>\n",
              "      <td>Angola</td>\n",
              "      <td>ANG</td>\n",
              "      <td>338.07</td>\n",
              "      <td>330</td>\n",
              "      <td>4</td>\n",
              "      <td>166.89</td>\n",
              "      <td>166.89</td>\n",
              "      <td>170.24</td>\n",
              "      <td>85.12</td>\n",
              "      <td>106.93</td>\n",
              "      <td>32.08</td>\n",
              "      <td>269.88</td>\n",
              "      <td>53.98</td>\n",
              "      <td>CAF</td>\n",
              "      <td>2011-08-24</td>\n",
              "      <td>2011</td>\n",
              "      <td>8</td>\n",
              "      <td>24</td>\n",
              "      <td>Angola</td>\n",
              "      <td>DR Congo</td>\n",
              "      <td>1</td>\n",
              "      <td>2</td>\n",
              "      <td>Friendly</td>\n",
              "      <td>Dundo</td>\n",
              "      <td>Angola</td>\n",
              "      <td>False</td>\n",
              "      <td>2011-08-27</td>\n",
              "      <td>27</td>\n",
              "    </tr>\n",
              "    <tr>\n",
              "      <th>2</th>\n",
              "      <td>101</td>\n",
              "      <td>Bahrain</td>\n",
              "      <td>BHR</td>\n",
              "      <td>325.01</td>\n",
              "      <td>331</td>\n",
              "      <td>-3</td>\n",
              "      <td>88.45</td>\n",
              "      <td>88.45</td>\n",
              "      <td>196.12</td>\n",
              "      <td>98.06</td>\n",
              "      <td>264.59</td>\n",
              "      <td>79.38</td>\n",
              "      <td>295.59</td>\n",
              "      <td>59.12</td>\n",
              "      <td>AFC</td>\n",
              "      <td>2011-08-24</td>\n",
              "      <td>2011</td>\n",
              "      <td>8</td>\n",
              "      <td>24</td>\n",
              "      <td>Bahrain</td>\n",
              "      <td>Sudan</td>\n",
              "      <td>1</td>\n",
              "      <td>0</td>\n",
              "      <td>Friendly</td>\n",
              "      <td>Riffa</td>\n",
              "      <td>Bahrain</td>\n",
              "      <td>False</td>\n",
              "      <td>2011-08-26</td>\n",
              "      <td>26</td>\n",
              "    </tr>\n",
              "    <tr>\n",
              "      <th>3</th>\n",
              "      <td>103</td>\n",
              "      <td>Oman</td>\n",
              "      <td>OMA</td>\n",
              "      <td>311.64</td>\n",
              "      <td>308</td>\n",
              "      <td>3</td>\n",
              "      <td>138.89</td>\n",
              "      <td>138.89</td>\n",
              "      <td>130.90</td>\n",
              "      <td>65.45</td>\n",
              "      <td>239.68</td>\n",
              "      <td>71.90</td>\n",
              "      <td>177.02</td>\n",
              "      <td>35.40</td>\n",
              "      <td>AFC</td>\n",
              "      <td>2011-08-24</td>\n",
              "      <td>2011</td>\n",
              "      <td>8</td>\n",
              "      <td>24</td>\n",
              "      <td>Oman</td>\n",
              "      <td>Kuwait</td>\n",
              "      <td>1</td>\n",
              "      <td>0</td>\n",
              "      <td>Friendly</td>\n",
              "      <td>Muscat</td>\n",
              "      <td>Oman</td>\n",
              "      <td>False</td>\n",
              "      <td>2011-08-27</td>\n",
              "      <td>27</td>\n",
              "    </tr>\n",
              "    <tr>\n",
              "      <th>4</th>\n",
              "      <td>106</td>\n",
              "      <td>Antigua and Barbuda</td>\n",
              "      <td>ATG</td>\n",
              "      <td>307.77</td>\n",
              "      <td>308</td>\n",
              "      <td>0</td>\n",
              "      <td>219.95</td>\n",
              "      <td>219.95</td>\n",
              "      <td>0.00</td>\n",
              "      <td>0.00</td>\n",
              "      <td>217.18</td>\n",
              "      <td>65.15</td>\n",
              "      <td>113.33</td>\n",
              "      <td>22.67</td>\n",
              "      <td>CONCACAF</td>\n",
              "      <td>2011-08-24</td>\n",
              "      <td>2011</td>\n",
              "      <td>8</td>\n",
              "      <td>24</td>\n",
              "      <td>Antigua and Barbuda</td>\n",
              "      <td>Saint Vincent and the Grenadines</td>\n",
              "      <td>2</td>\n",
              "      <td>2</td>\n",
              "      <td>Friendly</td>\n",
              "      <td>Osbourn</td>\n",
              "      <td>Antigua and Barbuda</td>\n",
              "      <td>False</td>\n",
              "      <td>2011-08-28</td>\n",
              "      <td>28</td>\n",
              "    </tr>\n",
              "  </tbody>\n",
              "</table>\n",
              "</div>"
            ],
            "text/plain": [
              "   rank         country_full country_abrv  ...  neutral  date_parsed_y  day_y\n",
              "0    92               Jordan          JOR  ...    False     2011-08-27     27\n",
              "1    96               Angola          ANG  ...    False     2011-08-27     27\n",
              "2   101              Bahrain          BHR  ...    False     2011-08-26     26\n",
              "3   103                 Oman          OMA  ...    False     2011-08-27     27\n",
              "4   106  Antigua and Barbuda          ATG  ...    False     2011-08-28     28\n",
              "\n",
              "[5 rows x 29 columns]"
            ]
          },
          "metadata": {
            "tags": []
          },
          "execution_count": 94
        }
      ]
    },
    {
      "cell_type": "code",
      "metadata": {
        "id": "8shIRn47nxWe",
        "colab_type": "code",
        "colab": {
          "base_uri": "https://localhost:8080/",
          "height": 34
        },
        "outputId": "e758a3d4-551a-4859-b652-765b9be31746"
      },
      "source": [
        "#checking for the rows and columns\n",
        "home_data.shape"
      ],
      "execution_count": 95,
      "outputs": [
        {
          "output_type": "execute_result",
          "data": {
            "text/plain": [
              "(5815, 29)"
            ]
          },
          "metadata": {
            "tags": []
          },
          "execution_count": 95
        }
      ]
    },
    {
      "cell_type": "code",
      "metadata": {
        "id": "pJN5twv8C9v0",
        "colab_type": "code",
        "colab": {
          "base_uri": "https://localhost:8080/",
          "height": 258
        },
        "outputId": "ea683274-da16-45c4-aecd-32bc708657a1"
      },
      "source": [
        "#creating a dataset for the away teams by conveniently merging the two datasets conveniently\n",
        "away_data=pd.merge(ranking1,results1, left_on=['country_full','year', 'month'], right_on=['away_team','year','month'],how='inner')\n",
        "away_data.head()"
      ],
      "execution_count": 96,
      "outputs": [
        {
          "output_type": "execute_result",
          "data": {
            "text/html": [
              "<div>\n",
              "<style scoped>\n",
              "    .dataframe tbody tr th:only-of-type {\n",
              "        vertical-align: middle;\n",
              "    }\n",
              "\n",
              "    .dataframe tbody tr th {\n",
              "        vertical-align: top;\n",
              "    }\n",
              "\n",
              "    .dataframe thead th {\n",
              "        text-align: right;\n",
              "    }\n",
              "</style>\n",
              "<table border=\"1\" class=\"dataframe\">\n",
              "  <thead>\n",
              "    <tr style=\"text-align: right;\">\n",
              "      <th></th>\n",
              "      <th>rank</th>\n",
              "      <th>country_full</th>\n",
              "      <th>country_abrv</th>\n",
              "      <th>total_points</th>\n",
              "      <th>previous_points</th>\n",
              "      <th>rank_change</th>\n",
              "      <th>cur_year_avg</th>\n",
              "      <th>cur_year_avg_weighted</th>\n",
              "      <th>last_year_avg</th>\n",
              "      <th>last_year_avg_weighted</th>\n",
              "      <th>two_year_ago_avg</th>\n",
              "      <th>two_year_ago_weighted</th>\n",
              "      <th>three_year_ago_avg</th>\n",
              "      <th>three_year_ago_weighted</th>\n",
              "      <th>confederation</th>\n",
              "      <th>date_parsed_x</th>\n",
              "      <th>year</th>\n",
              "      <th>month</th>\n",
              "      <th>day_x</th>\n",
              "      <th>home_team</th>\n",
              "      <th>away_team</th>\n",
              "      <th>home_score</th>\n",
              "      <th>away_score</th>\n",
              "      <th>tournament</th>\n",
              "      <th>city</th>\n",
              "      <th>country</th>\n",
              "      <th>neutral</th>\n",
              "      <th>date_parsed_y</th>\n",
              "      <th>day_y</th>\n",
              "    </tr>\n",
              "  </thead>\n",
              "  <tbody>\n",
              "    <tr>\n",
              "      <th>0</th>\n",
              "      <td>88</td>\n",
              "      <td>Qatar</td>\n",
              "      <td>QAT</td>\n",
              "      <td>364.41</td>\n",
              "      <td>371</td>\n",
              "      <td>1</td>\n",
              "      <td>208.31</td>\n",
              "      <td>208.31</td>\n",
              "      <td>116.18</td>\n",
              "      <td>58.09</td>\n",
              "      <td>184.29</td>\n",
              "      <td>55.29</td>\n",
              "      <td>213.60</td>\n",
              "      <td>42.72</td>\n",
              "      <td>AFC</td>\n",
              "      <td>2011-08-24</td>\n",
              "      <td>2011</td>\n",
              "      <td>8</td>\n",
              "      <td>24</td>\n",
              "      <td>United Arab Emirates</td>\n",
              "      <td>Qatar</td>\n",
              "      <td>3</td>\n",
              "      <td>1</td>\n",
              "      <td>Friendly</td>\n",
              "      <td>al-Ain</td>\n",
              "      <td>United Arab Emirates</td>\n",
              "      <td>False</td>\n",
              "      <td>2011-08-25</td>\n",
              "      <td>25</td>\n",
              "    </tr>\n",
              "    <tr>\n",
              "      <th>1</th>\n",
              "      <td>95</td>\n",
              "      <td>Kuwait</td>\n",
              "      <td>KUW</td>\n",
              "      <td>340.83</td>\n",
              "      <td>341</td>\n",
              "      <td>0</td>\n",
              "      <td>169.48</td>\n",
              "      <td>169.48</td>\n",
              "      <td>207.20</td>\n",
              "      <td>103.60</td>\n",
              "      <td>155.99</td>\n",
              "      <td>46.80</td>\n",
              "      <td>104.73</td>\n",
              "      <td>20.95</td>\n",
              "      <td>AFC</td>\n",
              "      <td>2011-08-24</td>\n",
              "      <td>2011</td>\n",
              "      <td>8</td>\n",
              "      <td>24</td>\n",
              "      <td>Oman</td>\n",
              "      <td>Kuwait</td>\n",
              "      <td>1</td>\n",
              "      <td>0</td>\n",
              "      <td>Friendly</td>\n",
              "      <td>Muscat</td>\n",
              "      <td>Oman</td>\n",
              "      <td>False</td>\n",
              "      <td>2011-08-27</td>\n",
              "      <td>27</td>\n",
              "    </tr>\n",
              "    <tr>\n",
              "      <th>2</th>\n",
              "      <td>98</td>\n",
              "      <td>Sudan</td>\n",
              "      <td>SDN</td>\n",
              "      <td>328.96</td>\n",
              "      <td>333</td>\n",
              "      <td>-1</td>\n",
              "      <td>229.19</td>\n",
              "      <td>229.19</td>\n",
              "      <td>8.50</td>\n",
              "      <td>4.25</td>\n",
              "      <td>182.11</td>\n",
              "      <td>54.63</td>\n",
              "      <td>204.43</td>\n",
              "      <td>40.89</td>\n",
              "      <td>CAF</td>\n",
              "      <td>2011-08-24</td>\n",
              "      <td>2011</td>\n",
              "      <td>8</td>\n",
              "      <td>24</td>\n",
              "      <td>Bahrain</td>\n",
              "      <td>Sudan</td>\n",
              "      <td>1</td>\n",
              "      <td>0</td>\n",
              "      <td>Friendly</td>\n",
              "      <td>Riffa</td>\n",
              "      <td>Bahrain</td>\n",
              "      <td>False</td>\n",
              "      <td>2011-08-26</td>\n",
              "      <td>26</td>\n",
              "    </tr>\n",
              "    <tr>\n",
              "      <th>3</th>\n",
              "      <td>129</td>\n",
              "      <td>Singapore</td>\n",
              "      <td>SIN</td>\n",
              "      <td>208.71</td>\n",
              "      <td>200</td>\n",
              "      <td>2</td>\n",
              "      <td>109.17</td>\n",
              "      <td>109.17</td>\n",
              "      <td>79.90</td>\n",
              "      <td>39.95</td>\n",
              "      <td>110.59</td>\n",
              "      <td>33.18</td>\n",
              "      <td>132.05</td>\n",
              "      <td>26.41</td>\n",
              "      <td>AFC</td>\n",
              "      <td>2011-08-24</td>\n",
              "      <td>2011</td>\n",
              "      <td>8</td>\n",
              "      <td>24</td>\n",
              "      <td>Thailand</td>\n",
              "      <td>Singapore</td>\n",
              "      <td>0</td>\n",
              "      <td>0</td>\n",
              "      <td>Friendly</td>\n",
              "      <td>Bangkok</td>\n",
              "      <td>Thailand</td>\n",
              "      <td>False</td>\n",
              "      <td>2011-08-24</td>\n",
              "      <td>24</td>\n",
              "    </tr>\n",
              "    <tr>\n",
              "      <th>4</th>\n",
              "      <td>131</td>\n",
              "      <td>Indonesia</td>\n",
              "      <td>IDN</td>\n",
              "      <td>207.08</td>\n",
              "      <td>185</td>\n",
              "      <td>6</td>\n",
              "      <td>139.62</td>\n",
              "      <td>139.62</td>\n",
              "      <td>38.68</td>\n",
              "      <td>19.34</td>\n",
              "      <td>99.88</td>\n",
              "      <td>29.96</td>\n",
              "      <td>90.81</td>\n",
              "      <td>18.16</td>\n",
              "      <td>AFC</td>\n",
              "      <td>2011-08-24</td>\n",
              "      <td>2011</td>\n",
              "      <td>8</td>\n",
              "      <td>24</td>\n",
              "      <td>Jordan</td>\n",
              "      <td>Indonesia</td>\n",
              "      <td>1</td>\n",
              "      <td>0</td>\n",
              "      <td>Friendly</td>\n",
              "      <td>Amman</td>\n",
              "      <td>Jordan</td>\n",
              "      <td>False</td>\n",
              "      <td>2011-08-27</td>\n",
              "      <td>27</td>\n",
              "    </tr>\n",
              "  </tbody>\n",
              "</table>\n",
              "</div>"
            ],
            "text/plain": [
              "   rank country_full country_abrv  ...  neutral  date_parsed_y  day_y\n",
              "0    88        Qatar          QAT  ...    False     2011-08-25     25\n",
              "1    95       Kuwait          KUW  ...    False     2011-08-27     27\n",
              "2    98        Sudan          SDN  ...    False     2011-08-26     26\n",
              "3   129    Singapore          SIN  ...    False     2011-08-24     24\n",
              "4   131    Indonesia          IDN  ...    False     2011-08-27     27\n",
              "\n",
              "[5 rows x 29 columns]"
            ]
          },
          "metadata": {
            "tags": []
          },
          "execution_count": 96
        }
      ]
    },
    {
      "cell_type": "code",
      "metadata": {
        "id": "Q5Z2USMVn1TV",
        "colab_type": "code",
        "colab": {
          "base_uri": "https://localhost:8080/",
          "height": 34
        },
        "outputId": "8c9d431a-ee2b-4a9a-a721-dfa6dd233925"
      },
      "source": [
        "#checking for the rows and columns.\n",
        "away_data.shape"
      ],
      "execution_count": 97,
      "outputs": [
        {
          "output_type": "execute_result",
          "data": {
            "text/plain": [
              "(5817, 29)"
            ]
          },
          "metadata": {
            "tags": []
          },
          "execution_count": 97
        }
      ]
    },
    {
      "cell_type": "code",
      "metadata": {
        "id": "lRehwUrzEzqL",
        "colab_type": "code",
        "colab": {
          "base_uri": "https://localhost:8080/",
          "height": 204
        },
        "outputId": "4e12a2bf-4542-4e2b-c15c-0b24defb7dd0"
      },
      "source": [
        "#dropping the columns that we don't need for merging since they will be duplicated on merging if not removed.\n",
        "new_away = away_data.drop(columns = ['country_full', 'country_abrv', 'total_points', 'previous_points', 'rank_change', 'cur_year_avg', 'cur_year_avg_weighted', 'last_year_avg', 'last_year_avg_weighted','two_year_ago_avg', 'two_year_ago_weighted', 'three_year_ago_avg', 'three_year_ago_weighted', 'confederation', 'date_parsed_x', 'day_x', 'home_team', 'home_score', 'away_score','tournament', 'city', 'country', 'neutral', 'date_parsed_y', 'day_y'])\n",
        "new_away.head()"
      ],
      "execution_count": 98,
      "outputs": [
        {
          "output_type": "execute_result",
          "data": {
            "text/html": [
              "<div>\n",
              "<style scoped>\n",
              "    .dataframe tbody tr th:only-of-type {\n",
              "        vertical-align: middle;\n",
              "    }\n",
              "\n",
              "    .dataframe tbody tr th {\n",
              "        vertical-align: top;\n",
              "    }\n",
              "\n",
              "    .dataframe thead th {\n",
              "        text-align: right;\n",
              "    }\n",
              "</style>\n",
              "<table border=\"1\" class=\"dataframe\">\n",
              "  <thead>\n",
              "    <tr style=\"text-align: right;\">\n",
              "      <th></th>\n",
              "      <th>rank</th>\n",
              "      <th>year</th>\n",
              "      <th>month</th>\n",
              "      <th>away_team</th>\n",
              "    </tr>\n",
              "  </thead>\n",
              "  <tbody>\n",
              "    <tr>\n",
              "      <th>0</th>\n",
              "      <td>88</td>\n",
              "      <td>2011</td>\n",
              "      <td>8</td>\n",
              "      <td>Qatar</td>\n",
              "    </tr>\n",
              "    <tr>\n",
              "      <th>1</th>\n",
              "      <td>95</td>\n",
              "      <td>2011</td>\n",
              "      <td>8</td>\n",
              "      <td>Kuwait</td>\n",
              "    </tr>\n",
              "    <tr>\n",
              "      <th>2</th>\n",
              "      <td>98</td>\n",
              "      <td>2011</td>\n",
              "      <td>8</td>\n",
              "      <td>Sudan</td>\n",
              "    </tr>\n",
              "    <tr>\n",
              "      <th>3</th>\n",
              "      <td>129</td>\n",
              "      <td>2011</td>\n",
              "      <td>8</td>\n",
              "      <td>Singapore</td>\n",
              "    </tr>\n",
              "    <tr>\n",
              "      <th>4</th>\n",
              "      <td>131</td>\n",
              "      <td>2011</td>\n",
              "      <td>8</td>\n",
              "      <td>Indonesia</td>\n",
              "    </tr>\n",
              "  </tbody>\n",
              "</table>\n",
              "</div>"
            ],
            "text/plain": [
              "   rank  year  month  away_team\n",
              "0    88  2011      8      Qatar\n",
              "1    95  2011      8     Kuwait\n",
              "2    98  2011      8      Sudan\n",
              "3   129  2011      8  Singapore\n",
              "4   131  2011      8  Indonesia"
            ]
          },
          "metadata": {
            "tags": []
          },
          "execution_count": 98
        }
      ]
    },
    {
      "cell_type": "code",
      "metadata": {
        "id": "9-MZnciRF3ua",
        "colab_type": "code",
        "colab": {
          "base_uri": "https://localhost:8080/",
          "height": 258
        },
        "outputId": "cfd9fd9c-2d2b-4fb3-9162-99f6259116ec"
      },
      "source": [
        "#creating our comprehensive dataset for use with all the information we need by merging our home team dataset and our new away team dataset.\n",
        "data = pd.merge(home_data,new_away, left_on=['away_team','year','month'],right_on=['away_team','year','month'],how='inner')\n",
        "data.head()"
      ],
      "execution_count": 99,
      "outputs": [
        {
          "output_type": "execute_result",
          "data": {
            "text/html": [
              "<div>\n",
              "<style scoped>\n",
              "    .dataframe tbody tr th:only-of-type {\n",
              "        vertical-align: middle;\n",
              "    }\n",
              "\n",
              "    .dataframe tbody tr th {\n",
              "        vertical-align: top;\n",
              "    }\n",
              "\n",
              "    .dataframe thead th {\n",
              "        text-align: right;\n",
              "    }\n",
              "</style>\n",
              "<table border=\"1\" class=\"dataframe\">\n",
              "  <thead>\n",
              "    <tr style=\"text-align: right;\">\n",
              "      <th></th>\n",
              "      <th>rank_x</th>\n",
              "      <th>country_full</th>\n",
              "      <th>country_abrv</th>\n",
              "      <th>total_points</th>\n",
              "      <th>previous_points</th>\n",
              "      <th>rank_change</th>\n",
              "      <th>cur_year_avg</th>\n",
              "      <th>cur_year_avg_weighted</th>\n",
              "      <th>last_year_avg</th>\n",
              "      <th>last_year_avg_weighted</th>\n",
              "      <th>two_year_ago_avg</th>\n",
              "      <th>two_year_ago_weighted</th>\n",
              "      <th>three_year_ago_avg</th>\n",
              "      <th>three_year_ago_weighted</th>\n",
              "      <th>confederation</th>\n",
              "      <th>date_parsed_x</th>\n",
              "      <th>year</th>\n",
              "      <th>month</th>\n",
              "      <th>day_x</th>\n",
              "      <th>home_team</th>\n",
              "      <th>away_team</th>\n",
              "      <th>home_score</th>\n",
              "      <th>away_score</th>\n",
              "      <th>tournament</th>\n",
              "      <th>city</th>\n",
              "      <th>country</th>\n",
              "      <th>neutral</th>\n",
              "      <th>date_parsed_y</th>\n",
              "      <th>day_y</th>\n",
              "      <th>rank_y</th>\n",
              "    </tr>\n",
              "  </thead>\n",
              "  <tbody>\n",
              "    <tr>\n",
              "      <th>0</th>\n",
              "      <td>92</td>\n",
              "      <td>Jordan</td>\n",
              "      <td>JOR</td>\n",
              "      <td>348.42</td>\n",
              "      <td>364</td>\n",
              "      <td>-1</td>\n",
              "      <td>215.10</td>\n",
              "      <td>215.10</td>\n",
              "      <td>171.87</td>\n",
              "      <td>85.94</td>\n",
              "      <td>55.46</td>\n",
              "      <td>16.64</td>\n",
              "      <td>153.72</td>\n",
              "      <td>30.74</td>\n",
              "      <td>AFC</td>\n",
              "      <td>2011-08-24</td>\n",
              "      <td>2011</td>\n",
              "      <td>8</td>\n",
              "      <td>24</td>\n",
              "      <td>Jordan</td>\n",
              "      <td>Indonesia</td>\n",
              "      <td>1</td>\n",
              "      <td>0</td>\n",
              "      <td>Friendly</td>\n",
              "      <td>Amman</td>\n",
              "      <td>Jordan</td>\n",
              "      <td>False</td>\n",
              "      <td>2011-08-27</td>\n",
              "      <td>27</td>\n",
              "      <td>131</td>\n",
              "    </tr>\n",
              "    <tr>\n",
              "      <th>1</th>\n",
              "      <td>101</td>\n",
              "      <td>Bahrain</td>\n",
              "      <td>BHR</td>\n",
              "      <td>325.01</td>\n",
              "      <td>331</td>\n",
              "      <td>-3</td>\n",
              "      <td>88.45</td>\n",
              "      <td>88.45</td>\n",
              "      <td>196.12</td>\n",
              "      <td>98.06</td>\n",
              "      <td>264.59</td>\n",
              "      <td>79.38</td>\n",
              "      <td>295.59</td>\n",
              "      <td>59.12</td>\n",
              "      <td>AFC</td>\n",
              "      <td>2011-08-24</td>\n",
              "      <td>2011</td>\n",
              "      <td>8</td>\n",
              "      <td>24</td>\n",
              "      <td>Bahrain</td>\n",
              "      <td>Sudan</td>\n",
              "      <td>1</td>\n",
              "      <td>0</td>\n",
              "      <td>Friendly</td>\n",
              "      <td>Riffa</td>\n",
              "      <td>Bahrain</td>\n",
              "      <td>False</td>\n",
              "      <td>2011-08-26</td>\n",
              "      <td>26</td>\n",
              "      <td>98</td>\n",
              "    </tr>\n",
              "    <tr>\n",
              "      <th>2</th>\n",
              "      <td>103</td>\n",
              "      <td>Oman</td>\n",
              "      <td>OMA</td>\n",
              "      <td>311.64</td>\n",
              "      <td>308</td>\n",
              "      <td>3</td>\n",
              "      <td>138.89</td>\n",
              "      <td>138.89</td>\n",
              "      <td>130.90</td>\n",
              "      <td>65.45</td>\n",
              "      <td>239.68</td>\n",
              "      <td>71.90</td>\n",
              "      <td>177.02</td>\n",
              "      <td>35.40</td>\n",
              "      <td>AFC</td>\n",
              "      <td>2011-08-24</td>\n",
              "      <td>2011</td>\n",
              "      <td>8</td>\n",
              "      <td>24</td>\n",
              "      <td>Oman</td>\n",
              "      <td>Kuwait</td>\n",
              "      <td>1</td>\n",
              "      <td>0</td>\n",
              "      <td>Friendly</td>\n",
              "      <td>Muscat</td>\n",
              "      <td>Oman</td>\n",
              "      <td>False</td>\n",
              "      <td>2011-08-27</td>\n",
              "      <td>27</td>\n",
              "      <td>95</td>\n",
              "    </tr>\n",
              "    <tr>\n",
              "      <th>3</th>\n",
              "      <td>108</td>\n",
              "      <td>United Arab Emirates</td>\n",
              "      <td>UAE</td>\n",
              "      <td>298.87</td>\n",
              "      <td>301</td>\n",
              "      <td>1</td>\n",
              "      <td>132.31</td>\n",
              "      <td>132.31</td>\n",
              "      <td>230.12</td>\n",
              "      <td>115.06</td>\n",
              "      <td>66.82</td>\n",
              "      <td>20.05</td>\n",
              "      <td>157.27</td>\n",
              "      <td>31.45</td>\n",
              "      <td>AFC</td>\n",
              "      <td>2011-08-24</td>\n",
              "      <td>2011</td>\n",
              "      <td>8</td>\n",
              "      <td>24</td>\n",
              "      <td>United Arab Emirates</td>\n",
              "      <td>Qatar</td>\n",
              "      <td>3</td>\n",
              "      <td>1</td>\n",
              "      <td>Friendly</td>\n",
              "      <td>al-Ain</td>\n",
              "      <td>United Arab Emirates</td>\n",
              "      <td>False</td>\n",
              "      <td>2011-08-25</td>\n",
              "      <td>25</td>\n",
              "      <td>88</td>\n",
              "    </tr>\n",
              "    <tr>\n",
              "      <th>4</th>\n",
              "      <td>114</td>\n",
              "      <td>Guyana</td>\n",
              "      <td>GUY</td>\n",
              "      <td>260.28</td>\n",
              "      <td>269</td>\n",
              "      <td>0</td>\n",
              "      <td>183.89</td>\n",
              "      <td>183.89</td>\n",
              "      <td>68.85</td>\n",
              "      <td>34.43</td>\n",
              "      <td>60.92</td>\n",
              "      <td>18.28</td>\n",
              "      <td>118.41</td>\n",
              "      <td>23.68</td>\n",
              "      <td>CONCACAF</td>\n",
              "      <td>2011-08-24</td>\n",
              "      <td>2011</td>\n",
              "      <td>8</td>\n",
              "      <td>24</td>\n",
              "      <td>Guyana</td>\n",
              "      <td>India</td>\n",
              "      <td>2</td>\n",
              "      <td>1</td>\n",
              "      <td>Friendly</td>\n",
              "      <td>Providence</td>\n",
              "      <td>Guyana</td>\n",
              "      <td>False</td>\n",
              "      <td>2011-08-24</td>\n",
              "      <td>24</td>\n",
              "      <td>158</td>\n",
              "    </tr>\n",
              "  </tbody>\n",
              "</table>\n",
              "</div>"
            ],
            "text/plain": [
              "   rank_x          country_full country_abrv  ...  date_parsed_y  day_y  rank_y\n",
              "0      92                Jordan          JOR  ...     2011-08-27     27     131\n",
              "1     101               Bahrain          BHR  ...     2011-08-26     26      98\n",
              "2     103                  Oman          OMA  ...     2011-08-27     27      95\n",
              "3     108  United Arab Emirates          UAE  ...     2011-08-25     25      88\n",
              "4     114                Guyana          GUY  ...     2011-08-24     24     158\n",
              "\n",
              "[5 rows x 30 columns]"
            ]
          },
          "metadata": {
            "tags": []
          },
          "execution_count": 99
        }
      ]
    },
    {
      "cell_type": "code",
      "metadata": {
        "id": "GnVmWPw_oAw1",
        "colab_type": "code",
        "colab": {
          "base_uri": "https://localhost:8080/",
          "height": 34
        },
        "outputId": "662f9113-8073-4226-8158-aab48c607f60"
      },
      "source": [
        "#checking for the rows and columns\n",
        "data.shape"
      ],
      "execution_count": 100,
      "outputs": [
        {
          "output_type": "execute_result",
          "data": {
            "text/plain": [
              "(8549, 30)"
            ]
          },
          "metadata": {
            "tags": []
          },
          "execution_count": 100
        }
      ]
    },
    {
      "cell_type": "code",
      "metadata": {
        "id": "IQU4s7OMKx4e",
        "colab_type": "code",
        "colab": {
          "base_uri": "https://localhost:8080/",
          "height": 394
        },
        "outputId": "79543bf9-5c06-422f-ad33-42a50ce7aea6"
      },
      "source": [
        "#organising the dataset columns and removing the repeated ones.\n",
        "data.rename({'rank_x' : 'home_team_rank','rank_y' : 'away_team_rank', 'date_parsed_y' : 'date'}, axis = 1, inplace = True)\n",
        "data = data.sort_values(by='date').reset_index()\n",
        "data = data.drop(columns=['date_parsed_x','day_x','day_y','month','index'])\n",
        "data.head()"
      ],
      "execution_count": 101,
      "outputs": [
        {
          "output_type": "execute_result",
          "data": {
            "text/html": [
              "<div>\n",
              "<style scoped>\n",
              "    .dataframe tbody tr th:only-of-type {\n",
              "        vertical-align: middle;\n",
              "    }\n",
              "\n",
              "    .dataframe tbody tr th {\n",
              "        vertical-align: top;\n",
              "    }\n",
              "\n",
              "    .dataframe thead th {\n",
              "        text-align: right;\n",
              "    }\n",
              "</style>\n",
              "<table border=\"1\" class=\"dataframe\">\n",
              "  <thead>\n",
              "    <tr style=\"text-align: right;\">\n",
              "      <th></th>\n",
              "      <th>home_team_rank</th>\n",
              "      <th>country_full</th>\n",
              "      <th>country_abrv</th>\n",
              "      <th>total_points</th>\n",
              "      <th>previous_points</th>\n",
              "      <th>rank_change</th>\n",
              "      <th>cur_year_avg</th>\n",
              "      <th>cur_year_avg_weighted</th>\n",
              "      <th>last_year_avg</th>\n",
              "      <th>last_year_avg_weighted</th>\n",
              "      <th>two_year_ago_avg</th>\n",
              "      <th>two_year_ago_weighted</th>\n",
              "      <th>three_year_ago_avg</th>\n",
              "      <th>three_year_ago_weighted</th>\n",
              "      <th>confederation</th>\n",
              "      <th>year</th>\n",
              "      <th>home_team</th>\n",
              "      <th>away_team</th>\n",
              "      <th>home_score</th>\n",
              "      <th>away_score</th>\n",
              "      <th>tournament</th>\n",
              "      <th>city</th>\n",
              "      <th>country</th>\n",
              "      <th>neutral</th>\n",
              "      <th>date</th>\n",
              "      <th>away_team_rank</th>\n",
              "    </tr>\n",
              "  </thead>\n",
              "  <tbody>\n",
              "    <tr>\n",
              "      <th>0</th>\n",
              "      <td>114</td>\n",
              "      <td>Guyana</td>\n",
              "      <td>GUY</td>\n",
              "      <td>260.28</td>\n",
              "      <td>269</td>\n",
              "      <td>0</td>\n",
              "      <td>183.89</td>\n",
              "      <td>183.89</td>\n",
              "      <td>68.85</td>\n",
              "      <td>34.43</td>\n",
              "      <td>60.92</td>\n",
              "      <td>18.28</td>\n",
              "      <td>118.41</td>\n",
              "      <td>23.68</td>\n",
              "      <td>CONCACAF</td>\n",
              "      <td>2011</td>\n",
              "      <td>Guyana</td>\n",
              "      <td>India</td>\n",
              "      <td>2</td>\n",
              "      <td>1</td>\n",
              "      <td>Friendly</td>\n",
              "      <td>Providence</td>\n",
              "      <td>Guyana</td>\n",
              "      <td>False</td>\n",
              "      <td>2011-08-24</td>\n",
              "      <td>158</td>\n",
              "    </tr>\n",
              "    <tr>\n",
              "      <th>1</th>\n",
              "      <td>120</td>\n",
              "      <td>Thailand</td>\n",
              "      <td>THA</td>\n",
              "      <td>245.77</td>\n",
              "      <td>252</td>\n",
              "      <td>-2</td>\n",
              "      <td>111.99</td>\n",
              "      <td>111.99</td>\n",
              "      <td>123.07</td>\n",
              "      <td>61.53</td>\n",
              "      <td>129.94</td>\n",
              "      <td>38.98</td>\n",
              "      <td>166.33</td>\n",
              "      <td>33.27</td>\n",
              "      <td>AFC</td>\n",
              "      <td>2011</td>\n",
              "      <td>Thailand</td>\n",
              "      <td>Singapore</td>\n",
              "      <td>0</td>\n",
              "      <td>0</td>\n",
              "      <td>Friendly</td>\n",
              "      <td>Bangkok</td>\n",
              "      <td>Thailand</td>\n",
              "      <td>False</td>\n",
              "      <td>2011-08-24</td>\n",
              "      <td>129</td>\n",
              "    </tr>\n",
              "    <tr>\n",
              "      <th>2</th>\n",
              "      <td>108</td>\n",
              "      <td>United Arab Emirates</td>\n",
              "      <td>UAE</td>\n",
              "      <td>298.87</td>\n",
              "      <td>301</td>\n",
              "      <td>1</td>\n",
              "      <td>132.31</td>\n",
              "      <td>132.31</td>\n",
              "      <td>230.12</td>\n",
              "      <td>115.06</td>\n",
              "      <td>66.82</td>\n",
              "      <td>20.05</td>\n",
              "      <td>157.27</td>\n",
              "      <td>31.45</td>\n",
              "      <td>AFC</td>\n",
              "      <td>2011</td>\n",
              "      <td>United Arab Emirates</td>\n",
              "      <td>Qatar</td>\n",
              "      <td>3</td>\n",
              "      <td>1</td>\n",
              "      <td>Friendly</td>\n",
              "      <td>al-Ain</td>\n",
              "      <td>United Arab Emirates</td>\n",
              "      <td>False</td>\n",
              "      <td>2011-08-25</td>\n",
              "      <td>88</td>\n",
              "    </tr>\n",
              "    <tr>\n",
              "      <th>3</th>\n",
              "      <td>101</td>\n",
              "      <td>Bahrain</td>\n",
              "      <td>BHR</td>\n",
              "      <td>325.01</td>\n",
              "      <td>331</td>\n",
              "      <td>-3</td>\n",
              "      <td>88.45</td>\n",
              "      <td>88.45</td>\n",
              "      <td>196.12</td>\n",
              "      <td>98.06</td>\n",
              "      <td>264.59</td>\n",
              "      <td>79.38</td>\n",
              "      <td>295.59</td>\n",
              "      <td>59.12</td>\n",
              "      <td>AFC</td>\n",
              "      <td>2011</td>\n",
              "      <td>Bahrain</td>\n",
              "      <td>Sudan</td>\n",
              "      <td>1</td>\n",
              "      <td>0</td>\n",
              "      <td>Friendly</td>\n",
              "      <td>Riffa</td>\n",
              "      <td>Bahrain</td>\n",
              "      <td>False</td>\n",
              "      <td>2011-08-26</td>\n",
              "      <td>98</td>\n",
              "    </tr>\n",
              "    <tr>\n",
              "      <th>4</th>\n",
              "      <td>92</td>\n",
              "      <td>Jordan</td>\n",
              "      <td>JOR</td>\n",
              "      <td>348.42</td>\n",
              "      <td>364</td>\n",
              "      <td>-1</td>\n",
              "      <td>215.10</td>\n",
              "      <td>215.10</td>\n",
              "      <td>171.87</td>\n",
              "      <td>85.94</td>\n",
              "      <td>55.46</td>\n",
              "      <td>16.64</td>\n",
              "      <td>153.72</td>\n",
              "      <td>30.74</td>\n",
              "      <td>AFC</td>\n",
              "      <td>2011</td>\n",
              "      <td>Jordan</td>\n",
              "      <td>Indonesia</td>\n",
              "      <td>1</td>\n",
              "      <td>0</td>\n",
              "      <td>Friendly</td>\n",
              "      <td>Amman</td>\n",
              "      <td>Jordan</td>\n",
              "      <td>False</td>\n",
              "      <td>2011-08-27</td>\n",
              "      <td>131</td>\n",
              "    </tr>\n",
              "  </tbody>\n",
              "</table>\n",
              "</div>"
            ],
            "text/plain": [
              "   home_team_rank          country_full  ...       date  away_team_rank\n",
              "0             114                Guyana  ... 2011-08-24             158\n",
              "1             120              Thailand  ... 2011-08-24             129\n",
              "2             108  United Arab Emirates  ... 2011-08-25              88\n",
              "3             101               Bahrain  ... 2011-08-26              98\n",
              "4              92                Jordan  ... 2011-08-27             131\n",
              "\n",
              "[5 rows x 26 columns]"
            ]
          },
          "metadata": {
            "tags": []
          },
          "execution_count": 101
        }
      ]
    },
    {
      "cell_type": "code",
      "metadata": {
        "id": "Pz_nDcMjrgXu",
        "colab_type": "code",
        "colab": {
          "base_uri": "https://localhost:8080/",
          "height": 34
        },
        "outputId": "266936cb-806b-4199-eeac-1b79f6967035"
      },
      "source": [
        "#checking for duplicated instances in the dataset.\n",
        "data.duplicated().sum()"
      ],
      "execution_count": 102,
      "outputs": [
        {
          "output_type": "execute_result",
          "data": {
            "text/plain": [
              "3280"
            ]
          },
          "metadata": {
            "tags": []
          },
          "execution_count": 102
        }
      ]
    },
    {
      "cell_type": "code",
      "metadata": {
        "id": "dxc5tWQassM1",
        "colab_type": "code",
        "colab": {}
      },
      "source": [
        "#dropping the duplicates.\n",
        "data.drop_duplicates(keep=False,inplace=True)"
      ],
      "execution_count": 103,
      "outputs": []
    },
    {
      "cell_type": "code",
      "metadata": {
        "id": "mBDXumFBsv9a",
        "colab_type": "code",
        "colab": {
          "base_uri": "https://localhost:8080/",
          "height": 34
        },
        "outputId": "efd02bbb-71c7-450c-eeb4-4bc728a20ea7"
      },
      "source": [
        "#confirming the deletion of the duplicates.\n",
        "data.duplicated().sum()"
      ],
      "execution_count": 104,
      "outputs": [
        {
          "output_type": "execute_result",
          "data": {
            "text/plain": [
              "0"
            ]
          },
          "metadata": {
            "tags": []
          },
          "execution_count": 104
        }
      ]
    },
    {
      "cell_type": "code",
      "metadata": {
        "id": "ftvJVoDn2WwK",
        "colab_type": "code",
        "colab": {
          "base_uri": "https://localhost:8080/",
          "height": 34
        },
        "outputId": "dbd71669-fc46-43b5-a7fe-8101461c2331"
      },
      "source": [
        "data.shape"
      ],
      "execution_count": 105,
      "outputs": [
        {
          "output_type": "execute_result",
          "data": {
            "text/plain": [
              "(3016, 26)"
            ]
          },
          "metadata": {
            "tags": []
          },
          "execution_count": 105
        }
      ]
    },
    {
      "cell_type": "code",
      "metadata": {
        "id": "OzI08TDWNm87",
        "colab_type": "code",
        "colab": {}
      },
      "source": [
        "#importing libraries for plotting.\n",
        "import matplotlib.pyplot as plt"
      ],
      "execution_count": 106,
      "outputs": []
    },
    {
      "cell_type": "code",
      "metadata": {
        "id": "78Rfwd0rMxsX",
        "colab_type": "code",
        "colab": {}
      },
      "source": [
        "#asigning the rows to different lists for plotting in order to check for outliers.\n",
        "data_1 = data['home_team_rank']\n",
        "data_2 = data['away_team_rank']\n",
        "data_3 = data['previous_points']\n",
        "data_4 = data['rank_change']\n",
        "data_5 = data['home_score']\n",
        "data_6 = data['away_score']\n",
        "data_7 = data['total_points']\n",
        "data_8 = data['cur_year_avg']\n",
        "data_9 = data['cur_year_avg_weighted']\n",
        "data_10 = data['last_year_avg']\n",
        "data_11 = data['last_year_avg_weighted']\n",
        "data_12 = data['two_year_ago_avg']\n",
        "data_13 = data['two_year_ago_weighted']\n",
        "data_14 = data['three_year_ago_avg']\n",
        "data_15 = data['three_year_ago_weighted']"
      ],
      "execution_count": 107,
      "outputs": []
    },
    {
      "cell_type": "code",
      "metadata": {
        "id": "qa-suw3iePdc",
        "colab_type": "code",
        "colab": {
          "base_uri": "https://localhost:8080/",
          "height": 568
        },
        "outputId": "fe09dfcb-6c24-49a9-b3fc-ed87fa2a690d"
      },
      "source": [
        "#declaring the lists(rows) to plot to see outliers.\n",
        "plots1 = [data_7, data_8, data_9, data_10, data_11, data_12, data_13, data_14, data_15]\n",
        "#plotting the boxplots.\n",
        "fig = plt.figure(figsize =(10, 7))\n",
        "ax = fig.add_axes([0,0,1,1])\n",
        "bp = ax.boxplot(plots1)\n",
        "plt.title('Outliers.')\n",
        "plt.show()"
      ],
      "execution_count": 108,
      "outputs": [
        {
          "output_type": "display_data",
          "data": {
            "image/png": "[encoded data removed]",
            "text/plain": [
              "<Figure size 720x504 with 1 Axes>"
            ]
          },
          "metadata": {
            "tags": [],
            "needs_background": "light"
          }
        }
      ]
    },
    {
      "cell_type": "code",
      "metadata": {
        "id": "it_G_f-SeX3u",
        "colab_type": "code",
        "colab": {
          "base_uri": "https://localhost:8080/",
          "height": 568
        },
        "outputId": "74d24675-d68a-4474-84c1-78dea5d2b637"
      },
      "source": [
        "#declaring the lists(rows) to plot to see outliers.\n",
        "plots2 = [data_4, data_5, data_6]\n",
        "#plotting the boxplots.\n",
        "fig = plt.figure(figsize =(10, 7))\n",
        "ax = fig.add_axes([0,0,1,1])\n",
        "bp = ax.boxplot(plots2)\n",
        "plt.title('Outliers.')\n",
        "plt.show()"
      ],
      "execution_count": 109,
      "outputs": [
        {
          "output_type": "display_data",
          "data": {
            "image/png": "[encoded data removed]",
            "text/plain": [
              "<Figure size 720x504 with 1 Axes>"
            ]
          },
          "metadata": {
            "tags": [],
            "needs_background": "light"
          }
        }
      ]
    },
    {
      "cell_type": "code",
      "metadata": {
        "id": "s_ar3hBteh3A",
        "colab_type": "code",
        "colab": {
          "base_uri": "https://localhost:8080/",
          "height": 568
        },
        "outputId": "736e84c2-0639-420a-9ac1-92cf68eed023"
      },
      "source": [
        "#declaring the lists(rows) to plot to see outliers.\n",
        "plots3 = [data_1, data_2]\n",
        "#plotting the boxplots.\n",
        "fig = plt.figure(figsize =(10, 7))\n",
        "ax = fig.add_axes([0,0,1,1])\n",
        "bp = ax.boxplot(plots3)\n",
        "plt.title('Outliers.')\n",
        "plt.show()"
      ],
      "execution_count": 110,
      "outputs": [
        {
          "output_type": "display_data",
          "data": {
            "image/png": "[encoded data removed]",
            "text/plain": [
              "<Figure size 720x504 with 1 Axes>"
            ]
          },
          "metadata": {
            "tags": [],
            "needs_background": "light"
          }
        }
      ]
    },
    {
      "cell_type": "code",
      "metadata": {
        "id": "UkKiRw37bejb",
        "colab_type": "code",
        "colab": {
          "base_uri": "https://localhost:8080/",
          "height": 265
        },
        "outputId": "cce41d6c-e436-405a-ebc2-cf97eeef17ef"
      },
      "source": [
        "#declaring the lists(rows) to plot to see outliers.\n",
        "#plotting the boxplot\n",
        "plt.boxplot(data_3)\n",
        "plt.title('')\n",
        "plt.show()"
      ],
      "execution_count": 112,
      "outputs": [
        {
          "output_type": "display_data",
          "data": {
            "image/png": "[encoded data removed]",
            "text/plain": [
              "<Figure size 432x288 with 1 Axes>"
            ]
          },
          "metadata": {
            "tags": [],
            "needs_background": "light"
          }
        }
      ]
    },
    {
      "cell_type": "markdown",
      "metadata": {
        "id": "wt-geWLKvoXm",
        "colab_type": "text"
      },
      "source": [
        "The outliers in the different columns have no large deviation and the columns that we are using for our analysis are okay.\n",
        "I will thus not deal with the outliers since the data is okay."
      ]
    },
    {
      "cell_type": "code",
      "metadata": {
        "id": "QXOoCnWRWrT_",
        "colab_type": "code",
        "colab": {
          "base_uri": "https://localhost:8080/",
          "height": 394
        },
        "outputId": "53c982b9-c3f7-4df0-bf3d-3ef1009af37c"
      },
      "source": [
        "#creating conditions for the tournaments and assigning the results to a new column\n",
        "friendly = (data[\"tournament\"] == \"Friendly\")\n",
        "worldcup = (data[\"tournament\"] == 'FIFA World Cup qualification') | (data['tournament'] == 'FIFA World Cup')\n",
        "other = (data[\"tournament\"] != \"Friendly\") & (data[\"tournament\"] != \"FIFA World Cup qualification\") & (data[\"tournament\"] != \"FIFA World Cup\")\n",
        "conditions = [friendly, worldcup, other]\n",
        "choices = [\"Friendly\", \"WorldCup\", \"Other\"]\n",
        "data[\"tournament_1\"] = np.select(conditions,choices)\n",
        "data.head()"
      ],
      "execution_count": 113,
      "outputs": [
        {
          "output_type": "execute_result",
          "data": {
            "text/html": [
              "<div>\n",
              "<style scoped>\n",
              "    .dataframe tbody tr th:only-of-type {\n",
              "        vertical-align: middle;\n",
              "    }\n",
              "\n",
              "    .dataframe tbody tr th {\n",
              "        vertical-align: top;\n",
              "    }\n",
              "\n",
              "    .dataframe thead th {\n",
              "        text-align: right;\n",
              "    }\n",
              "</style>\n",
              "<table border=\"1\" class=\"dataframe\">\n",
              "  <thead>\n",
              "    <tr style=\"text-align: right;\">\n",
              "      <th></th>\n",
              "      <th>home_team_rank</th>\n",
              "      <th>country_full</th>\n",
              "      <th>country_abrv</th>\n",
              "      <th>total_points</th>\n",
              "      <th>previous_points</th>\n",
              "      <th>rank_change</th>\n",
              "      <th>cur_year_avg</th>\n",
              "      <th>cur_year_avg_weighted</th>\n",
              "      <th>last_year_avg</th>\n",
              "      <th>last_year_avg_weighted</th>\n",
              "      <th>two_year_ago_avg</th>\n",
              "      <th>two_year_ago_weighted</th>\n",
              "      <th>three_year_ago_avg</th>\n",
              "      <th>three_year_ago_weighted</th>\n",
              "      <th>confederation</th>\n",
              "      <th>year</th>\n",
              "      <th>home_team</th>\n",
              "      <th>away_team</th>\n",
              "      <th>home_score</th>\n",
              "      <th>away_score</th>\n",
              "      <th>tournament</th>\n",
              "      <th>city</th>\n",
              "      <th>country</th>\n",
              "      <th>neutral</th>\n",
              "      <th>date</th>\n",
              "      <th>away_team_rank</th>\n",
              "      <th>tournament_1</th>\n",
              "    </tr>\n",
              "  </thead>\n",
              "  <tbody>\n",
              "    <tr>\n",
              "      <th>0</th>\n",
              "      <td>114</td>\n",
              "      <td>Guyana</td>\n",
              "      <td>GUY</td>\n",
              "      <td>260.28</td>\n",
              "      <td>269</td>\n",
              "      <td>0</td>\n",
              "      <td>183.89</td>\n",
              "      <td>183.89</td>\n",
              "      <td>68.85</td>\n",
              "      <td>34.43</td>\n",
              "      <td>60.92</td>\n",
              "      <td>18.28</td>\n",
              "      <td>118.41</td>\n",
              "      <td>23.68</td>\n",
              "      <td>CONCACAF</td>\n",
              "      <td>2011</td>\n",
              "      <td>Guyana</td>\n",
              "      <td>India</td>\n",
              "      <td>2</td>\n",
              "      <td>1</td>\n",
              "      <td>Friendly</td>\n",
              "      <td>Providence</td>\n",
              "      <td>Guyana</td>\n",
              "      <td>False</td>\n",
              "      <td>2011-08-24</td>\n",
              "      <td>158</td>\n",
              "      <td>Friendly</td>\n",
              "    </tr>\n",
              "    <tr>\n",
              "      <th>1</th>\n",
              "      <td>120</td>\n",
              "      <td>Thailand</td>\n",
              "      <td>THA</td>\n",
              "      <td>245.77</td>\n",
              "      <td>252</td>\n",
              "      <td>-2</td>\n",
              "      <td>111.99</td>\n",
              "      <td>111.99</td>\n",
              "      <td>123.07</td>\n",
              "      <td>61.53</td>\n",
              "      <td>129.94</td>\n",
              "      <td>38.98</td>\n",
              "      <td>166.33</td>\n",
              "      <td>33.27</td>\n",
              "      <td>AFC</td>\n",
              "      <td>2011</td>\n",
              "      <td>Thailand</td>\n",
              "      <td>Singapore</td>\n",
              "      <td>0</td>\n",
              "      <td>0</td>\n",
              "      <td>Friendly</td>\n",
              "      <td>Bangkok</td>\n",
              "      <td>Thailand</td>\n",
              "      <td>False</td>\n",
              "      <td>2011-08-24</td>\n",
              "      <td>129</td>\n",
              "      <td>Friendly</td>\n",
              "    </tr>\n",
              "    <tr>\n",
              "      <th>2</th>\n",
              "      <td>108</td>\n",
              "      <td>United Arab Emirates</td>\n",
              "      <td>UAE</td>\n",
              "      <td>298.87</td>\n",
              "      <td>301</td>\n",
              "      <td>1</td>\n",
              "      <td>132.31</td>\n",
              "      <td>132.31</td>\n",
              "      <td>230.12</td>\n",
              "      <td>115.06</td>\n",
              "      <td>66.82</td>\n",
              "      <td>20.05</td>\n",
              "      <td>157.27</td>\n",
              "      <td>31.45</td>\n",
              "      <td>AFC</td>\n",
              "      <td>2011</td>\n",
              "      <td>United Arab Emirates</td>\n",
              "      <td>Qatar</td>\n",
              "      <td>3</td>\n",
              "      <td>1</td>\n",
              "      <td>Friendly</td>\n",
              "      <td>al-Ain</td>\n",
              "      <td>United Arab Emirates</td>\n",
              "      <td>False</td>\n",
              "      <td>2011-08-25</td>\n",
              "      <td>88</td>\n",
              "      <td>Friendly</td>\n",
              "    </tr>\n",
              "    <tr>\n",
              "      <th>3</th>\n",
              "      <td>101</td>\n",
              "      <td>Bahrain</td>\n",
              "      <td>BHR</td>\n",
              "      <td>325.01</td>\n",
              "      <td>331</td>\n",
              "      <td>-3</td>\n",
              "      <td>88.45</td>\n",
              "      <td>88.45</td>\n",
              "      <td>196.12</td>\n",
              "      <td>98.06</td>\n",
              "      <td>264.59</td>\n",
              "      <td>79.38</td>\n",
              "      <td>295.59</td>\n",
              "      <td>59.12</td>\n",
              "      <td>AFC</td>\n",
              "      <td>2011</td>\n",
              "      <td>Bahrain</td>\n",
              "      <td>Sudan</td>\n",
              "      <td>1</td>\n",
              "      <td>0</td>\n",
              "      <td>Friendly</td>\n",
              "      <td>Riffa</td>\n",
              "      <td>Bahrain</td>\n",
              "      <td>False</td>\n",
              "      <td>2011-08-26</td>\n",
              "      <td>98</td>\n",
              "      <td>Friendly</td>\n",
              "    </tr>\n",
              "    <tr>\n",
              "      <th>4</th>\n",
              "      <td>92</td>\n",
              "      <td>Jordan</td>\n",
              "      <td>JOR</td>\n",
              "      <td>348.42</td>\n",
              "      <td>364</td>\n",
              "      <td>-1</td>\n",
              "      <td>215.10</td>\n",
              "      <td>215.10</td>\n",
              "      <td>171.87</td>\n",
              "      <td>85.94</td>\n",
              "      <td>55.46</td>\n",
              "      <td>16.64</td>\n",
              "      <td>153.72</td>\n",
              "      <td>30.74</td>\n",
              "      <td>AFC</td>\n",
              "      <td>2011</td>\n",
              "      <td>Jordan</td>\n",
              "      <td>Indonesia</td>\n",
              "      <td>1</td>\n",
              "      <td>0</td>\n",
              "      <td>Friendly</td>\n",
              "      <td>Amman</td>\n",
              "      <td>Jordan</td>\n",
              "      <td>False</td>\n",
              "      <td>2011-08-27</td>\n",
              "      <td>131</td>\n",
              "      <td>Friendly</td>\n",
              "    </tr>\n",
              "  </tbody>\n",
              "</table>\n",
              "</div>"
            ],
            "text/plain": [
              "   home_team_rank          country_full  ... away_team_rank  tournament_1\n",
              "0             114                Guyana  ...            158      Friendly\n",
              "1             120              Thailand  ...            129      Friendly\n",
              "2             108  United Arab Emirates  ...             88      Friendly\n",
              "3             101               Bahrain  ...             98      Friendly\n",
              "4              92                Jordan  ...            131      Friendly\n",
              "\n",
              "[5 rows x 27 columns]"
            ]
          },
          "metadata": {
            "tags": []
          },
          "execution_count": 113
        }
      ]
    },
    {
      "cell_type": "code",
      "metadata": {
        "id": "ORHH-JdZk1nC",
        "colab_type": "code",
        "colab": {
          "base_uri": "https://localhost:8080/",
          "height": 394
        },
        "outputId": "f78028f1-1e79-4dac-8a6f-be946efff57c"
      },
      "source": [
        "#creating conditions for the match results and assigning the results to a new column\n",
        "win = (data[\"home_score\"] > data[\"away_score\"])\n",
        "loss = (data[\"home_score\"] < data[\"away_score\"])\n",
        "draw = (data[\"home_score\"] == data[\"away_score\"])\n",
        "conditions = [win, loss, draw]\n",
        "choices = [\"Win\", \"Loss\", \"Draw\"]\n",
        "data[\"result\"] = np.select(conditions,choices,default=\"\")\n",
        "data.head()"
      ],
      "execution_count": 114,
      "outputs": [
        {
          "output_type": "execute_result",
          "data": {
            "text/html": [
              "<div>\n",
              "<style scoped>\n",
              "    .dataframe tbody tr th:only-of-type {\n",
              "        vertical-align: middle;\n",
              "    }\n",
              "\n",
              "    .dataframe tbody tr th {\n",
              "        vertical-align: top;\n",
              "    }\n",
              "\n",
              "    .dataframe thead th {\n",
              "        text-align: right;\n",
              "    }\n",
              "</style>\n",
              "<table border=\"1\" class=\"dataframe\">\n",
              "  <thead>\n",
              "    <tr style=\"text-align: right;\">\n",
              "      <th></th>\n",
              "      <th>home_team_rank</th>\n",
              "      <th>country_full</th>\n",
              "      <th>country_abrv</th>\n",
              "      <th>total_points</th>\n",
              "      <th>previous_points</th>\n",
              "      <th>rank_change</th>\n",
              "      <th>cur_year_avg</th>\n",
              "      <th>cur_year_avg_weighted</th>\n",
              "      <th>last_year_avg</th>\n",
              "      <th>last_year_avg_weighted</th>\n",
              "      <th>two_year_ago_avg</th>\n",
              "      <th>two_year_ago_weighted</th>\n",
              "      <th>three_year_ago_avg</th>\n",
              "      <th>three_year_ago_weighted</th>\n",
              "      <th>confederation</th>\n",
              "      <th>year</th>\n",
              "      <th>home_team</th>\n",
              "      <th>away_team</th>\n",
              "      <th>home_score</th>\n",
              "      <th>away_score</th>\n",
              "      <th>tournament</th>\n",
              "      <th>city</th>\n",
              "      <th>country</th>\n",
              "      <th>neutral</th>\n",
              "      <th>date</th>\n",
              "      <th>away_team_rank</th>\n",
              "      <th>tournament_1</th>\n",
              "      <th>result</th>\n",
              "    </tr>\n",
              "  </thead>\n",
              "  <tbody>\n",
              "    <tr>\n",
              "      <th>0</th>\n",
              "      <td>114</td>\n",
              "      <td>Guyana</td>\n",
              "      <td>GUY</td>\n",
              "      <td>260.28</td>\n",
              "      <td>269</td>\n",
              "      <td>0</td>\n",
              "      <td>183.89</td>\n",
              "      <td>183.89</td>\n",
              "      <td>68.85</td>\n",
              "      <td>34.43</td>\n",
              "      <td>60.92</td>\n",
              "      <td>18.28</td>\n",
              "      <td>118.41</td>\n",
              "      <td>23.68</td>\n",
              "      <td>CONCACAF</td>\n",
              "      <td>2011</td>\n",
              "      <td>Guyana</td>\n",
              "      <td>India</td>\n",
              "      <td>2</td>\n",
              "      <td>1</td>\n",
              "      <td>Friendly</td>\n",
              "      <td>Providence</td>\n",
              "      <td>Guyana</td>\n",
              "      <td>False</td>\n",
              "      <td>2011-08-24</td>\n",
              "      <td>158</td>\n",
              "      <td>Friendly</td>\n",
              "      <td>Win</td>\n",
              "    </tr>\n",
              "    <tr>\n",
              "      <th>1</th>\n",
              "      <td>120</td>\n",
              "      <td>Thailand</td>\n",
              "      <td>THA</td>\n",
              "      <td>245.77</td>\n",
              "      <td>252</td>\n",
              "      <td>-2</td>\n",
              "      <td>111.99</td>\n",
              "      <td>111.99</td>\n",
              "      <td>123.07</td>\n",
              "      <td>61.53</td>\n",
              "      <td>129.94</td>\n",
              "      <td>38.98</td>\n",
              "      <td>166.33</td>\n",
              "      <td>33.27</td>\n",
              "      <td>AFC</td>\n",
              "      <td>2011</td>\n",
              "      <td>Thailand</td>\n",
              "      <td>Singapore</td>\n",
              "      <td>0</td>\n",
              "      <td>0</td>\n",
              "      <td>Friendly</td>\n",
              "      <td>Bangkok</td>\n",
              "      <td>Thailand</td>\n",
              "      <td>False</td>\n",
              "      <td>2011-08-24</td>\n",
              "      <td>129</td>\n",
              "      <td>Friendly</td>\n",
              "      <td>Draw</td>\n",
              "    </tr>\n",
              "    <tr>\n",
              "      <th>2</th>\n",
              "      <td>108</td>\n",
              "      <td>United Arab Emirates</td>\n",
              "      <td>UAE</td>\n",
              "      <td>298.87</td>\n",
              "      <td>301</td>\n",
              "      <td>1</td>\n",
              "      <td>132.31</td>\n",
              "      <td>132.31</td>\n",
              "      <td>230.12</td>\n",
              "      <td>115.06</td>\n",
              "      <td>66.82</td>\n",
              "      <td>20.05</td>\n",
              "      <td>157.27</td>\n",
              "      <td>31.45</td>\n",
              "      <td>AFC</td>\n",
              "      <td>2011</td>\n",
              "      <td>United Arab Emirates</td>\n",
              "      <td>Qatar</td>\n",
              "      <td>3</td>\n",
              "      <td>1</td>\n",
              "      <td>Friendly</td>\n",
              "      <td>al-Ain</td>\n",
              "      <td>United Arab Emirates</td>\n",
              "      <td>False</td>\n",
              "      <td>2011-08-25</td>\n",
              "      <td>88</td>\n",
              "      <td>Friendly</td>\n",
              "      <td>Win</td>\n",
              "    </tr>\n",
              "    <tr>\n",
              "      <th>3</th>\n",
              "      <td>101</td>\n",
              "      <td>Bahrain</td>\n",
              "      <td>BHR</td>\n",
              "      <td>325.01</td>\n",
              "      <td>331</td>\n",
              "      <td>-3</td>\n",
              "      <td>88.45</td>\n",
              "      <td>88.45</td>\n",
              "      <td>196.12</td>\n",
              "      <td>98.06</td>\n",
              "      <td>264.59</td>\n",
              "      <td>79.38</td>\n",
              "      <td>295.59</td>\n",
              "      <td>59.12</td>\n",
              "      <td>AFC</td>\n",
              "      <td>2011</td>\n",
              "      <td>Bahrain</td>\n",
              "      <td>Sudan</td>\n",
              "      <td>1</td>\n",
              "      <td>0</td>\n",
              "      <td>Friendly</td>\n",
              "      <td>Riffa</td>\n",
              "      <td>Bahrain</td>\n",
              "      <td>False</td>\n",
              "      <td>2011-08-26</td>\n",
              "      <td>98</td>\n",
              "      <td>Friendly</td>\n",
              "      <td>Win</td>\n",
              "    </tr>\n",
              "    <tr>\n",
              "      <th>4</th>\n",
              "      <td>92</td>\n",
              "      <td>Jordan</td>\n",
              "      <td>JOR</td>\n",
              "      <td>348.42</td>\n",
              "      <td>364</td>\n",
              "      <td>-1</td>\n",
              "      <td>215.10</td>\n",
              "      <td>215.10</td>\n",
              "      <td>171.87</td>\n",
              "      <td>85.94</td>\n",
              "      <td>55.46</td>\n",
              "      <td>16.64</td>\n",
              "      <td>153.72</td>\n",
              "      <td>30.74</td>\n",
              "      <td>AFC</td>\n",
              "      <td>2011</td>\n",
              "      <td>Jordan</td>\n",
              "      <td>Indonesia</td>\n",
              "      <td>1</td>\n",
              "      <td>0</td>\n",
              "      <td>Friendly</td>\n",
              "      <td>Amman</td>\n",
              "      <td>Jordan</td>\n",
              "      <td>False</td>\n",
              "      <td>2011-08-27</td>\n",
              "      <td>131</td>\n",
              "      <td>Friendly</td>\n",
              "      <td>Win</td>\n",
              "    </tr>\n",
              "  </tbody>\n",
              "</table>\n",
              "</div>"
            ],
            "text/plain": [
              "   home_team_rank          country_full  ... tournament_1  result\n",
              "0             114                Guyana  ...     Friendly     Win\n",
              "1             120              Thailand  ...     Friendly    Draw\n",
              "2             108  United Arab Emirates  ...     Friendly     Win\n",
              "3             101               Bahrain  ...     Friendly     Win\n",
              "4              92                Jordan  ...     Friendly     Win\n",
              "\n",
              "[5 rows x 28 columns]"
            ]
          },
          "metadata": {
            "tags": []
          },
          "execution_count": 114
        }
      ]
    },
    {
      "cell_type": "code",
      "metadata": {
        "id": "NU5cKSTAnFi3",
        "colab_type": "code",
        "colab": {}
      },
      "source": [
        "#creating a new column for the total scores in a match\n",
        "data['total_scores'] = data['home_score'] + data['away_score']"
      ],
      "execution_count": 115,
      "outputs": []
    },
    {
      "cell_type": "markdown",
      "metadata": {
        "id": "O0nX7WEUvbhd",
        "colab_type": "text"
      },
      "source": [
        "**Comprehensive Cleaned Dataset**"
      ]
    },
    {
      "cell_type": "code",
      "metadata": {
        "id": "2Nr2vicOvbMa",
        "colab_type": "code",
        "colab": {
          "base_uri": "https://localhost:8080/",
          "height": 394
        },
        "outputId": "bdd7a001-dd79-431a-98b6-cb9b5ad92c8a"
      },
      "source": [
        "data.head()"
      ],
      "execution_count": 116,
      "outputs": [
        {
          "output_type": "execute_result",
          "data": {
            "text/html": [
              "<div>\n",
              "<style scoped>\n",
              "    .dataframe tbody tr th:only-of-type {\n",
              "        vertical-align: middle;\n",
              "    }\n",
              "\n",
              "    .dataframe tbody tr th {\n",
              "        vertical-align: top;\n",
              "    }\n",
              "\n",
              "    .dataframe thead th {\n",
              "        text-align: right;\n",
              "    }\n",
              "</style>\n",
              "<table border=\"1\" class=\"dataframe\">\n",
              "  <thead>\n",
              "    <tr style=\"text-align: right;\">\n",
              "      <th></th>\n",
              "      <th>home_team_rank</th>\n",
              "      <th>country_full</th>\n",
              "      <th>country_abrv</th>\n",
              "      <th>total_points</th>\n",
              "      <th>previous_points</th>\n",
              "      <th>rank_change</th>\n",
              "      <th>cur_year_avg</th>\n",
              "      <th>cur_year_avg_weighted</th>\n",
              "      <th>last_year_avg</th>\n",
              "      <th>last_year_avg_weighted</th>\n",
              "      <th>two_year_ago_avg</th>\n",
              "      <th>two_year_ago_weighted</th>\n",
              "      <th>three_year_ago_avg</th>\n",
              "      <th>three_year_ago_weighted</th>\n",
              "      <th>confederation</th>\n",
              "      <th>year</th>\n",
              "      <th>home_team</th>\n",
              "      <th>away_team</th>\n",
              "      <th>home_score</th>\n",
              "      <th>away_score</th>\n",
              "      <th>tournament</th>\n",
              "      <th>city</th>\n",
              "      <th>country</th>\n",
              "      <th>neutral</th>\n",
              "      <th>date</th>\n",
              "      <th>away_team_rank</th>\n",
              "      <th>tournament_1</th>\n",
              "      <th>result</th>\n",
              "      <th>total_scores</th>\n",
              "    </tr>\n",
              "  </thead>\n",
              "  <tbody>\n",
              "    <tr>\n",
              "      <th>0</th>\n",
              "      <td>114</td>\n",
              "      <td>Guyana</td>\n",
              "      <td>GUY</td>\n",
              "      <td>260.28</td>\n",
              "      <td>269</td>\n",
              "      <td>0</td>\n",
              "      <td>183.89</td>\n",
              "      <td>183.89</td>\n",
              "      <td>68.85</td>\n",
              "      <td>34.43</td>\n",
              "      <td>60.92</td>\n",
              "      <td>18.28</td>\n",
              "      <td>118.41</td>\n",
              "      <td>23.68</td>\n",
              "      <td>CONCACAF</td>\n",
              "      <td>2011</td>\n",
              "      <td>Guyana</td>\n",
              "      <td>India</td>\n",
              "      <td>2</td>\n",
              "      <td>1</td>\n",
              "      <td>Friendly</td>\n",
              "      <td>Providence</td>\n",
              "      <td>Guyana</td>\n",
              "      <td>False</td>\n",
              "      <td>2011-08-24</td>\n",
              "      <td>158</td>\n",
              "      <td>Friendly</td>\n",
              "      <td>Win</td>\n",
              "      <td>3</td>\n",
              "    </tr>\n",
              "    <tr>\n",
              "      <th>1</th>\n",
              "      <td>120</td>\n",
              "      <td>Thailand</td>\n",
              "      <td>THA</td>\n",
              "      <td>245.77</td>\n",
              "      <td>252</td>\n",
              "      <td>-2</td>\n",
              "      <td>111.99</td>\n",
              "      <td>111.99</td>\n",
              "      <td>123.07</td>\n",
              "      <td>61.53</td>\n",
              "      <td>129.94</td>\n",
              "      <td>38.98</td>\n",
              "      <td>166.33</td>\n",
              "      <td>33.27</td>\n",
              "      <td>AFC</td>\n",
              "      <td>2011</td>\n",
              "      <td>Thailand</td>\n",
              "      <td>Singapore</td>\n",
              "      <td>0</td>\n",
              "      <td>0</td>\n",
              "      <td>Friendly</td>\n",
              "      <td>Bangkok</td>\n",
              "      <td>Thailand</td>\n",
              "      <td>False</td>\n",
              "      <td>2011-08-24</td>\n",
              "      <td>129</td>\n",
              "      <td>Friendly</td>\n",
              "      <td>Draw</td>\n",
              "      <td>0</td>\n",
              "    </tr>\n",
              "    <tr>\n",
              "      <th>2</th>\n",
              "      <td>108</td>\n",
              "      <td>United Arab Emirates</td>\n",
              "      <td>UAE</td>\n",
              "      <td>298.87</td>\n",
              "      <td>301</td>\n",
              "      <td>1</td>\n",
              "      <td>132.31</td>\n",
              "      <td>132.31</td>\n",
              "      <td>230.12</td>\n",
              "      <td>115.06</td>\n",
              "      <td>66.82</td>\n",
              "      <td>20.05</td>\n",
              "      <td>157.27</td>\n",
              "      <td>31.45</td>\n",
              "      <td>AFC</td>\n",
              "      <td>2011</td>\n",
              "      <td>United Arab Emirates</td>\n",
              "      <td>Qatar</td>\n",
              "      <td>3</td>\n",
              "      <td>1</td>\n",
              "      <td>Friendly</td>\n",
              "      <td>al-Ain</td>\n",
              "      <td>United Arab Emirates</td>\n",
              "      <td>False</td>\n",
              "      <td>2011-08-25</td>\n",
              "      <td>88</td>\n",
              "      <td>Friendly</td>\n",
              "      <td>Win</td>\n",
              "      <td>4</td>\n",
              "    </tr>\n",
              "    <tr>\n",
              "      <th>3</th>\n",
              "      <td>101</td>\n",
              "      <td>Bahrain</td>\n",
              "      <td>BHR</td>\n",
              "      <td>325.01</td>\n",
              "      <td>331</td>\n",
              "      <td>-3</td>\n",
              "      <td>88.45</td>\n",
              "      <td>88.45</td>\n",
              "      <td>196.12</td>\n",
              "      <td>98.06</td>\n",
              "      <td>264.59</td>\n",
              "      <td>79.38</td>\n",
              "      <td>295.59</td>\n",
              "      <td>59.12</td>\n",
              "      <td>AFC</td>\n",
              "      <td>2011</td>\n",
              "      <td>Bahrain</td>\n",
              "      <td>Sudan</td>\n",
              "      <td>1</td>\n",
              "      <td>0</td>\n",
              "      <td>Friendly</td>\n",
              "      <td>Riffa</td>\n",
              "      <td>Bahrain</td>\n",
              "      <td>False</td>\n",
              "      <td>2011-08-26</td>\n",
              "      <td>98</td>\n",
              "      <td>Friendly</td>\n",
              "      <td>Win</td>\n",
              "      <td>1</td>\n",
              "    </tr>\n",
              "    <tr>\n",
              "      <th>4</th>\n",
              "      <td>92</td>\n",
              "      <td>Jordan</td>\n",
              "      <td>JOR</td>\n",
              "      <td>348.42</td>\n",
              "      <td>364</td>\n",
              "      <td>-1</td>\n",
              "      <td>215.10</td>\n",
              "      <td>215.10</td>\n",
              "      <td>171.87</td>\n",
              "      <td>85.94</td>\n",
              "      <td>55.46</td>\n",
              "      <td>16.64</td>\n",
              "      <td>153.72</td>\n",
              "      <td>30.74</td>\n",
              "      <td>AFC</td>\n",
              "      <td>2011</td>\n",
              "      <td>Jordan</td>\n",
              "      <td>Indonesia</td>\n",
              "      <td>1</td>\n",
              "      <td>0</td>\n",
              "      <td>Friendly</td>\n",
              "      <td>Amman</td>\n",
              "      <td>Jordan</td>\n",
              "      <td>False</td>\n",
              "      <td>2011-08-27</td>\n",
              "      <td>131</td>\n",
              "      <td>Friendly</td>\n",
              "      <td>Win</td>\n",
              "      <td>1</td>\n",
              "    </tr>\n",
              "  </tbody>\n",
              "</table>\n",
              "</div>"
            ],
            "text/plain": [
              "   home_team_rank          country_full  ... result  total_scores\n",
              "0             114                Guyana  ...    Win             3\n",
              "1             120              Thailand  ...   Draw             0\n",
              "2             108  United Arab Emirates  ...    Win             4\n",
              "3             101               Bahrain  ...    Win             1\n",
              "4              92                Jordan  ...    Win             1\n",
              "\n",
              "[5 rows x 29 columns]"
            ]
          },
          "metadata": {
            "tags": []
          },
          "execution_count": 116
        }
      ]
    },
    {
      "cell_type": "code",
      "metadata": {
        "id": "BjwSCTa003iS",
        "colab_type": "code",
        "colab": {
          "base_uri": "https://localhost:8080/",
          "height": 282
        },
        "outputId": "5dc58514-60e8-4e4a-f9d4-241b9f04d950"
      },
      "source": [
        "#plotting a histogram for the total scores\n",
        "plt.hist(data['total_scores'],color='orange')\n",
        "plt.show"
      ],
      "execution_count": 117,
      "outputs": [
        {
          "output_type": "execute_result",
          "data": {
            "text/plain": [
              "<function matplotlib.pyplot.show>"
            ]
          },
          "metadata": {
            "tags": []
          },
          "execution_count": 117
        },
        {
          "output_type": "display_data",
          "data": {
            "image/png": "[encoded data removed]",
            "text/plain": [
              "<Figure size 432x288 with 1 Axes>"
            ]
          },
          "metadata": {
            "tags": [],
            "needs_background": "light"
          }
        }
      ]
    },
    {
      "cell_type": "markdown",
      "metadata": {
        "id": "Xkdc9sTgfQOH",
        "colab_type": "text"
      },
      "source": [
        "Most matches have a total score of between 3 and 4 goals"
      ]
    },
    {
      "cell_type": "code",
      "metadata": {
        "id": "4-g_20WbbNwr",
        "colab_type": "code",
        "colab": {
          "base_uri": "https://localhost:8080/",
          "height": 265
        },
        "outputId": "647550d7-1e5d-48a7-ea63-390c08a6be8c"
      },
      "source": [
        "#plotting a histogram for the away scores\n",
        "plt.hist(data['away_score'])\n",
        "plt.show()"
      ],
      "execution_count": 118,
      "outputs": [
        {
          "output_type": "display_data",
          "data": {
            "image/png": "[encoded data removed]",
            "text/plain": [
              "<Figure size 432x288 with 1 Axes>"
            ]
          },
          "metadata": {
            "tags": [],
            "needs_background": "light"
          }
        }
      ]
    },
    {
      "cell_type": "markdown",
      "metadata": {
        "id": "6FzHaEiafhBr",
        "colab_type": "text"
      },
      "source": [
        "Most teams either score 0 or 1."
      ]
    },
    {
      "cell_type": "code",
      "metadata": {
        "id": "Lonts5g8hgM6",
        "colab_type": "code",
        "colab": {
          "base_uri": "https://localhost:8080/",
          "height": 265
        },
        "outputId": "4a3cb1ce-c183-4a73-c5a9-2d55aa0edbf6"
      },
      "source": [
        "plt.hist(data['home_score'])\n",
        "plt.show()"
      ],
      "execution_count": 119,
      "outputs": [
        {
          "output_type": "display_data",
          "data": {
            "image/png": "[encoded data removed]",
            "text/plain": [
              "<Figure size 432x288 with 1 Axes>"
            ]
          },
          "metadata": {
            "tags": [],
            "needs_background": "light"
          }
        }
      ]
    },
    {
      "cell_type": "markdown",
      "metadata": {
        "id": "Zwd-fTHff1Sd",
        "colab_type": "text"
      },
      "source": [
        "Most home teams score 0 or 1"
      ]
    },
    {
      "cell_type": "code",
      "metadata": {
        "id": "WlvD8e9phovn",
        "colab_type": "code",
        "colab": {
          "base_uri": "https://localhost:8080/",
          "height": 279
        },
        "outputId": "f0becfec-0758-4854-e618-7453ca5e1cad"
      },
      "source": [
        "#a scatter plot for home scores and away scores\n",
        "plt.scatter(data['home_score'],data['away_score'],color='orange')\n",
        "plt.xlabel('Home Score')\n",
        "plt.ylabel(\"Away Score\")\n",
        "plt.show()"
      ],
      "execution_count": 120,
      "outputs": [
        {
          "output_type": "display_data",
          "data": {
            "image/png": "[encoded data removed]",
            "text/plain": [
              "<Figure size 432x288 with 1 Axes>"
            ]
          },
          "metadata": {
            "tags": [],
            "needs_background": "light"
          }
        }
      ]
    },
    {
      "cell_type": "markdown",
      "metadata": {
        "id": "jEKdLyC9gHBP",
        "colab_type": "text"
      },
      "source": [
        "This scatter plot shows some type of relationship between the home scores and the away scores."
      ]
    },
    {
      "cell_type": "code",
      "metadata": {
        "id": "F9e5t_p3h2R4",
        "colab_type": "code",
        "colab": {
          "base_uri": "https://localhost:8080/",
          "height": 279
        },
        "outputId": "289fe4cc-666a-4d9c-9b5f-f4e07f540df4"
      },
      "source": [
        "#a scatter plot for the home team rank and the home score.\n",
        "plt.scatter(data['home_team_rank'], data['home_score'], color='red')\n",
        "plt.xlabel('Home Team Rank')\n",
        "plt.ylabel(\"Home Score\")\n",
        "plt.show()"
      ],
      "execution_count": 121,
      "outputs": [
        {
          "output_type": "display_data",
          "data": {
            "image/png": "[encoded data removed]",
            "text/plain": [
              "<Figure size 432x288 with 1 Axes>"
            ]
          },
          "metadata": {
            "tags": [],
            "needs_background": "light"
          }
        }
      ]
    },
    {
      "cell_type": "markdown",
      "metadata": {
        "id": "1WfhEqasgV-R",
        "colab_type": "text"
      },
      "source": [
        "This plot shows that there might also be a relationship between the home team rank and their score."
      ]
    },
    {
      "cell_type": "code",
      "metadata": {
        "id": "kAPwtfzVjFa3",
        "colab_type": "code",
        "colab": {
          "base_uri": "https://localhost:8080/",
          "height": 279
        },
        "outputId": "70bf54a0-7b90-41b0-e8ba-011933b6c384"
      },
      "source": [
        "#scatter plot for away team rank and away scores.\n",
        "plt.scatter(data['away_team_rank'], data['away_score'], color='red')\n",
        "plt.xlabel('Away Team Rank')\n",
        "plt.ylabel(\"Away Score\")\n",
        "plt.show()"
      ],
      "execution_count": 122,
      "outputs": [
        {
          "output_type": "display_data",
          "data": {
            "image/png": "[encoded data removed]",
            "text/plain": [
              "<Figure size 432x288 with 1 Axes>"
            ]
          },
          "metadata": {
            "tags": [],
            "needs_background": "light"
          }
        }
      ]
    },
    {
      "cell_type": "markdown",
      "metadata": {
        "id": "e9R25qqEgjtL",
        "colab_type": "text"
      },
      "source": [
        "This plot almost looks identical to the previous plot and there might be a similar relationship between the fields."
      ]
    },
    {
      "cell_type": "code",
      "metadata": {
        "id": "qhCUZB_djriI",
        "colab_type": "code",
        "colab": {
          "base_uri": "https://localhost:8080/",
          "height": 34
        },
        "outputId": "335b5615-677d-4a19-8541-cedab0d405cf"
      },
      "source": [
        "#sum of home scores.\n",
        "data['home_score'].sum()"
      ],
      "execution_count": 123,
      "outputs": [
        {
          "output_type": "execute_result",
          "data": {
            "text/plain": [
              "4779"
            ]
          },
          "metadata": {
            "tags": []
          },
          "execution_count": 123
        }
      ]
    },
    {
      "cell_type": "code",
      "metadata": {
        "id": "0J0FTDr7j3L6",
        "colab_type": "code",
        "colab": {
          "base_uri": "https://localhost:8080/",
          "height": 34
        },
        "outputId": "de7fecad-b94f-4eec-c3fa-1312c59e6578"
      },
      "source": [
        "#sum of away scores.\n",
        "data['away_score'].sum()"
      ],
      "execution_count": 124,
      "outputs": [
        {
          "output_type": "execute_result",
          "data": {
            "text/plain": [
              "3122"
            ]
          },
          "metadata": {
            "tags": []
          },
          "execution_count": 124
        }
      ]
    },
    {
      "cell_type": "markdown",
      "metadata": {
        "id": "IAfn-HoBg3Jn",
        "colab_type": "text"
      },
      "source": [
        "Home scores are more than away scores."
      ]
    },
    {
      "cell_type": "code",
      "metadata": {
        "id": "kl8QRu7xoEU2",
        "colab_type": "code",
        "colab": {
          "base_uri": "https://localhost:8080/",
          "height": 282
        },
        "outputId": "33d7f6e6-574e-4089-8b70-493e988c800b"
      },
      "source": [
        "#plotting bar graph for the tournament types.\n",
        "plt.bar(data['tournament_1'], data['total_scores'])\n",
        "plt.figure(figsize = (10,5))\n",
        "plt.show()"
      ],
      "execution_count": 125,
      "outputs": [
        {
          "output_type": "display_data",
          "data": {
            "image/png": "[encoded data removed]",
            "text/plain": [
              "<Figure size 432x288 with 1 Axes>"
            ]
          },
          "metadata": {
            "tags": [],
            "needs_background": "light"
          }
        },
        {
          "output_type": "display_data",
          "data": {
            "text/plain": [
              "<Figure size 720x360 with 0 Axes>"
            ]
          },
          "metadata": {
            "tags": []
          }
        }
      ]
    },
    {
      "cell_type": "markdown",
      "metadata": {
        "id": "Y4Bcj44wyyhQ",
        "colab_type": "text"
      },
      "source": [
        "More Scores are scored in the World cup followed by other tournaments and finally friendly matches."
      ]
    },
    {
      "cell_type": "code",
      "metadata": {
        "id": "I_6F_M6rkOXd",
        "colab_type": "code",
        "colab": {
          "base_uri": "https://localhost:8080/",
          "height": 248
        },
        "outputId": "6c3b3333-7787-4b21-b3de-e629fa5d982d"
      },
      "source": [
        "#a pie plot for wins, draws and losses.\n",
        "colours = ['green','orange','red']\n",
        "plt.pie(data['result'].value_counts(), colors=colours, labels=['Win', 'Draw', 'Loss'], autopct='%1.0f%%')\n",
        "plt.show()"
      ],
      "execution_count": 127,
      "outputs": [
        {
          "output_type": "display_data",
          "data": {
            "image/png": "[encoded data removed]",
            "text/plain": [
              "<Figure size 432x288 with 1 Axes>"
            ]
          },
          "metadata": {
            "tags": []
          }
        }
      ]
    },
    {
      "cell_type": "markdown",
      "metadata": {
        "id": "_jjBAEhJy-_6",
        "colab_type": "text"
      },
      "source": [
        "Wins are the majority in the matches."
      ]
    },
    {
      "cell_type": "code",
      "metadata": {
        "id": "o9ap_2Hylzvx",
        "colab_type": "code",
        "colab": {
          "base_uri": "https://localhost:8080/",
          "height": 265
        },
        "outputId": "b2e590af-4dbb-43d8-a518-25451c7c6494"
      },
      "source": [
        "#plotting a histogram for the total points for the countries.\n",
        "plt.hist(data['total_points'])\n",
        "plt.show()"
      ],
      "execution_count": 128,
      "outputs": [
        {
          "output_type": "display_data",
          "data": {
            "image/png": "[encoded data removed]",
            "text/plain": [
              "<Figure size 432x288 with 1 Axes>"
            ]
          },
          "metadata": {
            "tags": [],
            "needs_background": "light"
          }
        }
      ]
    },
    {
      "cell_type": "markdown",
      "metadata": {
        "id": "7NcZNqy2zFyI",
        "colab_type": "text"
      },
      "source": [
        "Most countries are within the range of 200 and 300 points"
      ]
    },
    {
      "cell_type": "code",
      "metadata": {
        "id": "-ILuvkEHp3sh",
        "colab_type": "code",
        "colab": {
          "base_uri": "https://localhost:8080/",
          "height": 204
        },
        "outputId": "2b491842-fba9-4d34-8a39-151252bbe8d3"
      },
      "source": [
        "#creating a new dataset for use in our models.\n",
        "match_data = data[['home_team','home_score','away_team','away_score','home_team_rank','away_team_rank','tournament','result']]\n",
        "match_data.head()"
      ],
      "execution_count": 129,
      "outputs": [
        {
          "output_type": "execute_result",
          "data": {
            "text/html": [
              "<div>\n",
              "<style scoped>\n",
              "    .dataframe tbody tr th:only-of-type {\n",
              "        vertical-align: middle;\n",
              "    }\n",
              "\n",
              "    .dataframe tbody tr th {\n",
              "        vertical-align: top;\n",
              "    }\n",
              "\n",
              "    .dataframe thead th {\n",
              "        text-align: right;\n",
              "    }\n",
              "</style>\n",
              "<table border=\"1\" class=\"dataframe\">\n",
              "  <thead>\n",
              "    <tr style=\"text-align: right;\">\n",
              "      <th></th>\n",
              "      <th>home_team</th>\n",
              "      <th>home_score</th>\n",
              "      <th>away_team</th>\n",
              "      <th>away_score</th>\n",
              "      <th>home_team_rank</th>\n",
              "      <th>away_team_rank</th>\n",
              "      <th>tournament</th>\n",
              "      <th>result</th>\n",
              "    </tr>\n",
              "  </thead>\n",
              "  <tbody>\n",
              "    <tr>\n",
              "      <th>0</th>\n",
              "      <td>Guyana</td>\n",
              "      <td>2</td>\n",
              "      <td>India</td>\n",
              "      <td>1</td>\n",
              "      <td>114</td>\n",
              "      <td>158</td>\n",
              "      <td>Friendly</td>\n",
              "      <td>Win</td>\n",
              "    </tr>\n",
              "    <tr>\n",
              "      <th>1</th>\n",
              "      <td>Thailand</td>\n",
              "      <td>0</td>\n",
              "      <td>Singapore</td>\n",
              "      <td>0</td>\n",
              "      <td>120</td>\n",
              "      <td>129</td>\n",
              "      <td>Friendly</td>\n",
              "      <td>Draw</td>\n",
              "    </tr>\n",
              "    <tr>\n",
              "      <th>2</th>\n",
              "      <td>United Arab Emirates</td>\n",
              "      <td>3</td>\n",
              "      <td>Qatar</td>\n",
              "      <td>1</td>\n",
              "      <td>108</td>\n",
              "      <td>88</td>\n",
              "      <td>Friendly</td>\n",
              "      <td>Win</td>\n",
              "    </tr>\n",
              "    <tr>\n",
              "      <th>3</th>\n",
              "      <td>Bahrain</td>\n",
              "      <td>1</td>\n",
              "      <td>Sudan</td>\n",
              "      <td>0</td>\n",
              "      <td>101</td>\n",
              "      <td>98</td>\n",
              "      <td>Friendly</td>\n",
              "      <td>Win</td>\n",
              "    </tr>\n",
              "    <tr>\n",
              "      <th>4</th>\n",
              "      <td>Jordan</td>\n",
              "      <td>1</td>\n",
              "      <td>Indonesia</td>\n",
              "      <td>0</td>\n",
              "      <td>92</td>\n",
              "      <td>131</td>\n",
              "      <td>Friendly</td>\n",
              "      <td>Win</td>\n",
              "    </tr>\n",
              "  </tbody>\n",
              "</table>\n",
              "</div>"
            ],
            "text/plain": [
              "              home_team  home_score  ... tournament  result\n",
              "0                Guyana           2  ...   Friendly     Win\n",
              "1              Thailand           0  ...   Friendly    Draw\n",
              "2  United Arab Emirates           3  ...   Friendly     Win\n",
              "3               Bahrain           1  ...   Friendly     Win\n",
              "4                Jordan           1  ...   Friendly     Win\n",
              "\n",
              "[5 rows x 8 columns]"
            ]
          },
          "metadata": {
            "tags": []
          },
          "execution_count": 129
        }
      ]
    },
    {
      "cell_type": "markdown",
      "metadata": {
        "id": "onqUkjNZqjbI",
        "colab_type": "text"
      },
      "source": [
        "## **Approach 1 : Polynomial Regression**"
      ]
    },
    {
      "cell_type": "code",
      "metadata": {
        "id": "pmnwZqzLqi4j",
        "colab_type": "code",
        "colab": {}
      },
      "source": [
        "#importing the necessary libraries.\n",
        "from sklearn.preprocessing import PolynomialFeatures\n",
        "from sklearn.model_selection import train_test_split\n",
        "from sklearn.linear_model import LinearRegression\n",
        "from sklearn.linear_model import LogisticRegression\n",
        "from sklearn.metrics import confusion_matrix\n",
        "from sklearn import preprocessing\n",
        "from sklearn import metrics\n",
        "from scipy.stats import bartlett\n",
        "from math import sqrt"
      ],
      "execution_count": 130,
      "outputs": []
    },
    {
      "cell_type": "markdown",
      "metadata": {
        "id": "R9OqIOrJsWft",
        "colab_type": "text"
      },
      "source": [
        "### **1st Polynomial Regression**"
      ]
    },
    {
      "cell_type": "markdown",
      "metadata": {
        "id": "ytIXx0qosKaq",
        "colab_type": "text"
      },
      "source": [
        "**The Data**"
      ]
    },
    {
      "cell_type": "code",
      "metadata": {
        "id": "H-Dq7f79tNgW",
        "colab_type": "code",
        "colab": {
          "base_uri": "https://localhost:8080/",
          "height": 204
        },
        "outputId": "3dbac4b1-e25e-4adc-c35c-d750478dc698"
      },
      "source": [
        "#previewing the data.\n",
        "match_data.head()"
      ],
      "execution_count": 131,
      "outputs": [
        {
          "output_type": "execute_result",
          "data": {
            "text/html": [
              "<div>\n",
              "<style scoped>\n",
              "    .dataframe tbody tr th:only-of-type {\n",
              "        vertical-align: middle;\n",
              "    }\n",
              "\n",
              "    .dataframe tbody tr th {\n",
              "        vertical-align: top;\n",
              "    }\n",
              "\n",
              "    .dataframe thead th {\n",
              "        text-align: right;\n",
              "    }\n",
              "</style>\n",
              "<table border=\"1\" class=\"dataframe\">\n",
              "  <thead>\n",
              "    <tr style=\"text-align: right;\">\n",
              "      <th></th>\n",
              "      <th>home_team</th>\n",
              "      <th>home_score</th>\n",
              "      <th>away_team</th>\n",
              "      <th>away_score</th>\n",
              "      <th>home_team_rank</th>\n",
              "      <th>away_team_rank</th>\n",
              "      <th>tournament</th>\n",
              "      <th>result</th>\n",
              "    </tr>\n",
              "  </thead>\n",
              "  <tbody>\n",
              "    <tr>\n",
              "      <th>0</th>\n",
              "      <td>Guyana</td>\n",
              "      <td>2</td>\n",
              "      <td>India</td>\n",
              "      <td>1</td>\n",
              "      <td>114</td>\n",
              "      <td>158</td>\n",
              "      <td>Friendly</td>\n",
              "      <td>Win</td>\n",
              "    </tr>\n",
              "    <tr>\n",
              "      <th>1</th>\n",
              "      <td>Thailand</td>\n",
              "      <td>0</td>\n",
              "      <td>Singapore</td>\n",
              "      <td>0</td>\n",
              "      <td>120</td>\n",
              "      <td>129</td>\n",
              "      <td>Friendly</td>\n",
              "      <td>Draw</td>\n",
              "    </tr>\n",
              "    <tr>\n",
              "      <th>2</th>\n",
              "      <td>United Arab Emirates</td>\n",
              "      <td>3</td>\n",
              "      <td>Qatar</td>\n",
              "      <td>1</td>\n",
              "      <td>108</td>\n",
              "      <td>88</td>\n",
              "      <td>Friendly</td>\n",
              "      <td>Win</td>\n",
              "    </tr>\n",
              "    <tr>\n",
              "      <th>3</th>\n",
              "      <td>Bahrain</td>\n",
              "      <td>1</td>\n",
              "      <td>Sudan</td>\n",
              "      <td>0</td>\n",
              "      <td>101</td>\n",
              "      <td>98</td>\n",
              "      <td>Friendly</td>\n",
              "      <td>Win</td>\n",
              "    </tr>\n",
              "    <tr>\n",
              "      <th>4</th>\n",
              "      <td>Jordan</td>\n",
              "      <td>1</td>\n",
              "      <td>Indonesia</td>\n",
              "      <td>0</td>\n",
              "      <td>92</td>\n",
              "      <td>131</td>\n",
              "      <td>Friendly</td>\n",
              "      <td>Win</td>\n",
              "    </tr>\n",
              "  </tbody>\n",
              "</table>\n",
              "</div>"
            ],
            "text/plain": [
              "              home_team  home_score  ... tournament  result\n",
              "0                Guyana           2  ...   Friendly     Win\n",
              "1              Thailand           0  ...   Friendly    Draw\n",
              "2  United Arab Emirates           3  ...   Friendly     Win\n",
              "3               Bahrain           1  ...   Friendly     Win\n",
              "4                Jordan           1  ...   Friendly     Win\n",
              "\n",
              "[5 rows x 8 columns]"
            ]
          },
          "metadata": {
            "tags": []
          },
          "execution_count": 131
        }
      ]
    },
    {
      "cell_type": "markdown",
      "metadata": {
        "id": "AUGZBrabsO0q",
        "colab_type": "text"
      },
      "source": [
        "**Encoding**"
      ]
    },
    {
      "cell_type": "code",
      "metadata": {
        "id": "6vh_VqSDxzjO",
        "colab_type": "code",
        "colab": {
          "base_uri": "https://localhost:8080/",
          "height": 119
        },
        "outputId": "3bdc7fcb-8261-4d7b-edad-c1719116d0f1"
      },
      "source": [
        "#using an encoder to tranform our tournament column to numerical value.\n",
        "le = preprocessing.LabelEncoder()\n",
        "le.fit(match_data[\"tournament\"])\n",
        "match_data[\"tournament\"] = le.transform(match_data[\"tournament\"])"
      ],
      "execution_count": 132,
      "outputs": [
        {
          "output_type": "stream",
          "text": [
            "/usr/local/lib/python3.6/dist-packages/ipykernel_launcher.py:4: SettingWithCopyWarning: \n",
            "A value is trying to be set on a copy of a slice from a DataFrame.\n",
            "Try using .loc[row_indexer,col_indexer] = value instead\n",
            "\n",
            "See the caveats in the documentation: https://pandas.pydata.org/pandas-docs/stable/user_guide/indexing.html#returning-a-view-versus-a-copy\n",
            "  after removing the cwd from sys.path.\n"
          ],
          "name": "stderr"
        }
      ]
    },
    {
      "cell_type": "code",
      "metadata": {
        "id": "x2z8OmOSytdb",
        "colab_type": "code",
        "colab": {
          "base_uri": "https://localhost:8080/",
          "height": 204
        },
        "outputId": "f2f747d4-e506-45c0-df8b-d2c426761300"
      },
      "source": [
        "#previewing the data.\n",
        "match_data.head()"
      ],
      "execution_count": 133,
      "outputs": [
        {
          "output_type": "execute_result",
          "data": {
            "text/html": [
              "<div>\n",
              "<style scoped>\n",
              "    .dataframe tbody tr th:only-of-type {\n",
              "        vertical-align: middle;\n",
              "    }\n",
              "\n",
              "    .dataframe tbody tr th {\n",
              "        vertical-align: top;\n",
              "    }\n",
              "\n",
              "    .dataframe thead th {\n",
              "        text-align: right;\n",
              "    }\n",
              "</style>\n",
              "<table border=\"1\" class=\"dataframe\">\n",
              "  <thead>\n",
              "    <tr style=\"text-align: right;\">\n",
              "      <th></th>\n",
              "      <th>home_team</th>\n",
              "      <th>home_score</th>\n",
              "      <th>away_team</th>\n",
              "      <th>away_score</th>\n",
              "      <th>home_team_rank</th>\n",
              "      <th>away_team_rank</th>\n",
              "      <th>tournament</th>\n",
              "      <th>result</th>\n",
              "    </tr>\n",
              "  </thead>\n",
              "  <tbody>\n",
              "    <tr>\n",
              "      <th>0</th>\n",
              "      <td>Guyana</td>\n",
              "      <td>2</td>\n",
              "      <td>India</td>\n",
              "      <td>1</td>\n",
              "      <td>114</td>\n",
              "      <td>158</td>\n",
              "      <td>22</td>\n",
              "      <td>Win</td>\n",
              "    </tr>\n",
              "    <tr>\n",
              "      <th>1</th>\n",
              "      <td>Thailand</td>\n",
              "      <td>0</td>\n",
              "      <td>Singapore</td>\n",
              "      <td>0</td>\n",
              "      <td>120</td>\n",
              "      <td>129</td>\n",
              "      <td>22</td>\n",
              "      <td>Draw</td>\n",
              "    </tr>\n",
              "    <tr>\n",
              "      <th>2</th>\n",
              "      <td>United Arab Emirates</td>\n",
              "      <td>3</td>\n",
              "      <td>Qatar</td>\n",
              "      <td>1</td>\n",
              "      <td>108</td>\n",
              "      <td>88</td>\n",
              "      <td>22</td>\n",
              "      <td>Win</td>\n",
              "    </tr>\n",
              "    <tr>\n",
              "      <th>3</th>\n",
              "      <td>Bahrain</td>\n",
              "      <td>1</td>\n",
              "      <td>Sudan</td>\n",
              "      <td>0</td>\n",
              "      <td>101</td>\n",
              "      <td>98</td>\n",
              "      <td>22</td>\n",
              "      <td>Win</td>\n",
              "    </tr>\n",
              "    <tr>\n",
              "      <th>4</th>\n",
              "      <td>Jordan</td>\n",
              "      <td>1</td>\n",
              "      <td>Indonesia</td>\n",
              "      <td>0</td>\n",
              "      <td>92</td>\n",
              "      <td>131</td>\n",
              "      <td>22</td>\n",
              "      <td>Win</td>\n",
              "    </tr>\n",
              "  </tbody>\n",
              "</table>\n",
              "</div>"
            ],
            "text/plain": [
              "              home_team  home_score  ... tournament  result\n",
              "0                Guyana           2  ...         22     Win\n",
              "1              Thailand           0  ...         22    Draw\n",
              "2  United Arab Emirates           3  ...         22     Win\n",
              "3               Bahrain           1  ...         22     Win\n",
              "4                Jordan           1  ...         22     Win\n",
              "\n",
              "[5 rows x 8 columns]"
            ]
          },
          "metadata": {
            "tags": []
          },
          "execution_count": 133
        }
      ]
    },
    {
      "cell_type": "code",
      "metadata": {
        "id": "2UfwHsvxsBe5",
        "colab_type": "code",
        "colab": {
          "base_uri": "https://localhost:8080/",
          "height": 204
        },
        "outputId": "b5c40eaa-e7a0-482c-ca87-3732be706b6c"
      },
      "source": [
        "#finding the correlation between the columns. \n",
        "match_data.corr()"
      ],
      "execution_count": 134,
      "outputs": [
        {
          "output_type": "execute_result",
          "data": {
            "text/html": [
              "<div>\n",
              "<style scoped>\n",
              "    .dataframe tbody tr th:only-of-type {\n",
              "        vertical-align: middle;\n",
              "    }\n",
              "\n",
              "    .dataframe tbody tr th {\n",
              "        vertical-align: top;\n",
              "    }\n",
              "\n",
              "    .dataframe thead th {\n",
              "        text-align: right;\n",
              "    }\n",
              "</style>\n",
              "<table border=\"1\" class=\"dataframe\">\n",
              "  <thead>\n",
              "    <tr style=\"text-align: right;\">\n",
              "      <th></th>\n",
              "      <th>home_score</th>\n",
              "      <th>away_score</th>\n",
              "      <th>home_team_rank</th>\n",
              "      <th>away_team_rank</th>\n",
              "      <th>tournament</th>\n",
              "    </tr>\n",
              "  </thead>\n",
              "  <tbody>\n",
              "    <tr>\n",
              "      <th>home_score</th>\n",
              "      <td>1.000000</td>\n",
              "      <td>-0.176862</td>\n",
              "      <td>-0.167987</td>\n",
              "      <td>0.306215</td>\n",
              "      <td>-0.008996</td>\n",
              "    </tr>\n",
              "    <tr>\n",
              "      <th>away_score</th>\n",
              "      <td>-0.176862</td>\n",
              "      <td>1.000000</td>\n",
              "      <td>0.201893</td>\n",
              "      <td>-0.260094</td>\n",
              "      <td>0.066543</td>\n",
              "    </tr>\n",
              "    <tr>\n",
              "      <th>home_team_rank</th>\n",
              "      <td>-0.167987</td>\n",
              "      <td>0.201893</td>\n",
              "      <td>1.000000</td>\n",
              "      <td>0.459219</td>\n",
              "      <td>-0.251846</td>\n",
              "    </tr>\n",
              "    <tr>\n",
              "      <th>away_team_rank</th>\n",
              "      <td>0.306215</td>\n",
              "      <td>-0.260094</td>\n",
              "      <td>0.459219</td>\n",
              "      <td>1.000000</td>\n",
              "      <td>-0.221240</td>\n",
              "    </tr>\n",
              "    <tr>\n",
              "      <th>tournament</th>\n",
              "      <td>-0.008996</td>\n",
              "      <td>0.066543</td>\n",
              "      <td>-0.251846</td>\n",
              "      <td>-0.221240</td>\n",
              "      <td>1.000000</td>\n",
              "    </tr>\n",
              "  </tbody>\n",
              "</table>\n",
              "</div>"
            ],
            "text/plain": [
              "                home_score  away_score  ...  away_team_rank  tournament\n",
              "home_score        1.000000   -0.176862  ...        0.306215   -0.008996\n",
              "away_score       -0.176862    1.000000  ...       -0.260094    0.066543\n",
              "home_team_rank   -0.167987    0.201893  ...        0.459219   -0.251846\n",
              "away_team_rank    0.306215   -0.260094  ...        1.000000   -0.221240\n",
              "tournament       -0.008996    0.066543  ...       -0.221240    1.000000\n",
              "\n",
              "[5 rows x 5 columns]"
            ]
          },
          "metadata": {
            "tags": []
          },
          "execution_count": 134
        }
      ]
    },
    {
      "cell_type": "markdown",
      "metadata": {
        "id": "hj0OIMdfst48",
        "colab_type": "text"
      },
      "source": [
        "**Polynomial Regression**"
      ]
    },
    {
      "cell_type": "code",
      "metadata": {
        "id": "sahlOG-vrKNf",
        "colab_type": "code",
        "colab": {}
      },
      "source": [
        "#assigning the independent variables and dependent variables to 'X' and 'y' respectively.\n",
        "X = match_data.drop([\"home_score\",\"home_team\",\"away_team\",\"result\"],axis=1)\n",
        "y = match_data[\"home_score\"]"
      ],
      "execution_count": 135,
      "outputs": []
    },
    {
      "cell_type": "code",
      "metadata": {
        "id": "MDOZtrnD7NbV",
        "colab_type": "code",
        "colab": {
          "base_uri": "https://localhost:8080/",
          "height": 51
        },
        "outputId": "23e242cb-b876-4244-add9-fc7f3eb96f22"
      },
      "source": [
        "#splitting the dataset\n",
        "#fitting the linear regression.\n",
        "X_train, X_test, y_train, y_test = train_test_split(X, y, test_size = .2, random_state=1)\n",
        "poly = PolynomialFeatures(degree=2)\n",
        "poly_X = poly.fit_transform(X)\n",
        "poly_X_train, poly_X_test, y_train, y_test = train_test_split(poly_X, y, test_size = 0.2, random_state = 0)\n",
        "regression = LinearRegression()\n",
        "#determining the working of the model and the score\n",
        "model = regression.fit(poly_X_train, y_train)\n",
        "score = model.score(poly_X_test, y_test)\n",
        "print(model)\n",
        "print(score)"
      ],
      "execution_count": 136,
      "outputs": [
        {
          "output_type": "stream",
          "text": [
            "LinearRegression(copy_X=True, fit_intercept=True, n_jobs=None, normalize=False)\n",
            "0.24017422402601765\n"
          ],
          "name": "stdout"
        }
      ]
    },
    {
      "cell_type": "code",
      "metadata": {
        "id": "yBCcnxpF0qP0",
        "colab_type": "code",
        "colab": {
          "base_uri": "https://localhost:8080/",
          "height": 297
        },
        "outputId": "06ef03b9-8e69-4e81-ebfa-4a7f8ea31000"
      },
      "source": [
        "#predicting using the regression and comparing the results with the actual values.\n",
        "y_pred = regression.predict(poly_X_test)\n",
        "differ = pd.DataFrame({'Actual': y_test, 'Predicted': y_pred})\n",
        "differ.describe()"
      ],
      "execution_count": 137,
      "outputs": [
        {
          "output_type": "execute_result",
          "data": {
            "text/html": [
              "<div>\n",
              "<style scoped>\n",
              "    .dataframe tbody tr th:only-of-type {\n",
              "        vertical-align: middle;\n",
              "    }\n",
              "\n",
              "    .dataframe tbody tr th {\n",
              "        vertical-align: top;\n",
              "    }\n",
              "\n",
              "    .dataframe thead th {\n",
              "        text-align: right;\n",
              "    }\n",
              "</style>\n",
              "<table border=\"1\" class=\"dataframe\">\n",
              "  <thead>\n",
              "    <tr style=\"text-align: right;\">\n",
              "      <th></th>\n",
              "      <th>Actual</th>\n",
              "      <th>Predicted</th>\n",
              "    </tr>\n",
              "  </thead>\n",
              "  <tbody>\n",
              "    <tr>\n",
              "      <th>count</th>\n",
              "      <td>604.000000</td>\n",
              "      <td>604.000000</td>\n",
              "    </tr>\n",
              "    <tr>\n",
              "      <th>mean</th>\n",
              "      <td>1.582781</td>\n",
              "      <td>1.566223</td>\n",
              "    </tr>\n",
              "    <tr>\n",
              "      <th>std</th>\n",
              "      <td>1.473290</td>\n",
              "      <td>0.712025</td>\n",
              "    </tr>\n",
              "    <tr>\n",
              "      <th>min</th>\n",
              "      <td>0.000000</td>\n",
              "      <td>-0.206407</td>\n",
              "    </tr>\n",
              "    <tr>\n",
              "      <th>25%</th>\n",
              "      <td>1.000000</td>\n",
              "      <td>1.092980</td>\n",
              "    </tr>\n",
              "    <tr>\n",
              "      <th>50%</th>\n",
              "      <td>1.000000</td>\n",
              "      <td>1.510779</td>\n",
              "    </tr>\n",
              "    <tr>\n",
              "      <th>75%</th>\n",
              "      <td>2.000000</td>\n",
              "      <td>1.970177</td>\n",
              "    </tr>\n",
              "    <tr>\n",
              "      <th>max</th>\n",
              "      <td>10.000000</td>\n",
              "      <td>5.006936</td>\n",
              "    </tr>\n",
              "  </tbody>\n",
              "</table>\n",
              "</div>"
            ],
            "text/plain": [
              "           Actual   Predicted\n",
              "count  604.000000  604.000000\n",
              "mean     1.582781    1.566223\n",
              "std      1.473290    0.712025\n",
              "min      0.000000   -0.206407\n",
              "25%      1.000000    1.092980\n",
              "50%      1.000000    1.510779\n",
              "75%      2.000000    1.970177\n",
              "max     10.000000    5.006936"
            ]
          },
          "metadata": {
            "tags": []
          },
          "execution_count": 137
        }
      ]
    },
    {
      "cell_type": "code",
      "metadata": {
        "id": "TyVE_ToXB8zT",
        "colab_type": "code",
        "colab": {
          "base_uri": "https://localhost:8080/",
          "height": 51
        },
        "outputId": "6402d072-c15c-4bf4-a7fe-f0930ed2f18f"
      },
      "source": [
        "#finding the MSE and RMSE\n",
        "MSE = metrics.mean_squared_error(y_test, y_pred)\n",
        "RMSE = sqrt(MSE)\n",
        "print(\"The Mean Squared Error for Model 1 is: \", MSE)\n",
        "print(\"The Root Mean Squared Error for Model 1 is: \", RMSE )"
      ],
      "execution_count": 140,
      "outputs": [
        {
          "output_type": "stream",
          "text": [
            "The Mean Squared Error for Model 1 is:  1.6465335589661194\n",
            "The Root Mean Squared Error for Model 1 is:  1.2831732380961347\n"
          ],
          "name": "stdout"
        }
      ]
    },
    {
      "cell_type": "markdown",
      "metadata": {
        "id": "uJdHdNLg0lzi",
        "colab_type": "text"
      },
      "source": [
        "The value for our RMSE is 1.2831732380961347 and it shows that our model is not that much accurate. We thus cannot use it."
      ]
    },
    {
      "cell_type": "code",
      "metadata": {
        "id": "iKJah_iHKhQk",
        "colab_type": "code",
        "colab": {
          "base_uri": "https://localhost:8080/",
          "height": 170
        },
        "outputId": "e4816592-bab5-41aa-d9c7-03a710633ef8"
      },
      "source": [
        "#finding the residuals.\n",
        "residuals = np.subtract(y_pred, y_test)\n",
        "residuals.describe()"
      ],
      "execution_count": 141,
      "outputs": [
        {
          "output_type": "execute_result",
          "data": {
            "text/plain": [
              "count    604.000000\n",
              "mean      -0.016558\n",
              "std        1.284130\n",
              "min       -7.779474\n",
              "25%       -0.664854\n",
              "50%        0.136989\n",
              "75%        0.801982\n",
              "max        3.206827\n",
              "Name: home_score, dtype: float64"
            ]
          },
          "metadata": {
            "tags": []
          },
          "execution_count": 141
        }
      ]
    },
    {
      "cell_type": "code",
      "metadata": {
        "id": "QjA76H_oKu1Z",
        "colab_type": "code",
        "colab": {
          "base_uri": "https://localhost:8080/",
          "height": 295
        },
        "outputId": "63ed83c5-50f3-419d-c84e-85d3ace6488b"
      },
      "source": [
        "#plotting the heteroscedasticity\n",
        "plt.scatter(residuals,y_pred)\n",
        "plt.title(\"Heteroscedasticity Test\")\n",
        "plt.xlabel(\"Predicted values\")\n",
        "plt.ylabel(\"Residuals\")\n",
        "plt.show()"
      ],
      "execution_count": 142,
      "outputs": [
        {
          "output_type": "display_data",
          "data": {
            "image/png": "[encoded data removed]",
            "text/plain": [
              "<Figure size 432x288 with 1 Axes>"
            ]
          },
          "metadata": {
            "tags": [],
            "needs_background": "light"
          }
        }
      ]
    },
    {
      "cell_type": "markdown",
      "metadata": {
        "id": "vp5ltZam09jV",
        "colab_type": "text"
      },
      "source": [
        "The resulting graph for the heteroscedasticity test is not as cone shaped as one would be and this shows that the variables aren't heteroscedastic."
      ]
    },
    {
      "cell_type": "markdown",
      "metadata": {
        "id": "DFmIvAnusmfK",
        "colab_type": "text"
      },
      "source": [
        "### **2nd Polynomial Regression**"
      ]
    },
    {
      "cell_type": "code",
      "metadata": {
        "id": "Xv7C254rAO-S",
        "colab_type": "code",
        "colab": {}
      },
      "source": [
        "#assigning the independent variables and dependent variables to 'X' and 'y' respectively.\n",
        "X2 = match_data.drop([\"away_score\",\"home_team\",\"away_team\",\"result\"],axis=1)\n",
        "y2 = match_data[\"away_score\"]"
      ],
      "execution_count": 144,
      "outputs": []
    },
    {
      "cell_type": "code",
      "metadata": {
        "id": "oQ5-ZEpXAU7p",
        "colab_type": "code",
        "colab": {
          "base_uri": "https://localhost:8080/",
          "height": 51
        },
        "outputId": "ab02d735-55a9-4e63-e070-16eded7dbe78"
      },
      "source": [
        "#splitting the dataset\n",
        "#fitting the linear regression.\n",
        "X2_train, X2_test, y2_train, y2_test = train_test_split(X2, y2, test_size = .2, random_state=0)\n",
        "poly = PolynomialFeatures(degree=2)\n",
        "poly_X2 = poly.fit_transform(X2)\n",
        "poly_X2_train, poly_X2_test, y2_train, y2_test = train_test_split(poly_X2, y2, test_size = 0.2, random_state = 0)\n",
        "regression = LinearRegression()\n",
        "#determining the working of the model and the score\n",
        "model = regression.fit(poly_X2_train, y2_train)\n",
        "score = model.score(poly_X2_test, y2_test)\n",
        "print(model)\n",
        "print(score)"
      ],
      "execution_count": 145,
      "outputs": [
        {
          "output_type": "stream",
          "text": [
            "LinearRegression(copy_X=True, fit_intercept=True, n_jobs=None, normalize=False)\n",
            "0.2373898460098115\n"
          ],
          "name": "stdout"
        }
      ]
    },
    {
      "cell_type": "code",
      "metadata": {
        "id": "ATrnz0CMAiPF",
        "colab_type": "code",
        "colab": {
          "base_uri": "https://localhost:8080/",
          "height": 297
        },
        "outputId": "bd2b381c-ae9c-44e7-c1bc-6fa1e9f00093"
      },
      "source": [
        "#predicting using the regression and comparing the results with the actual values.\n",
        "y2_pred = regression.predict(poly_X2_test)\n",
        "differ = pd.DataFrame({'Actual': y2_test, 'Predicted': y2_pred})\n",
        "differ.describe()"
      ],
      "execution_count": 146,
      "outputs": [
        {
          "output_type": "execute_result",
          "data": {
            "text/html": [
              "<div>\n",
              "<style scoped>\n",
              "    .dataframe tbody tr th:only-of-type {\n",
              "        vertical-align: middle;\n",
              "    }\n",
              "\n",
              "    .dataframe tbody tr th {\n",
              "        vertical-align: top;\n",
              "    }\n",
              "\n",
              "    .dataframe thead th {\n",
              "        text-align: right;\n",
              "    }\n",
              "</style>\n",
              "<table border=\"1\" class=\"dataframe\">\n",
              "  <thead>\n",
              "    <tr style=\"text-align: right;\">\n",
              "      <th></th>\n",
              "      <th>Actual</th>\n",
              "      <th>Predicted</th>\n",
              "    </tr>\n",
              "  </thead>\n",
              "  <tbody>\n",
              "    <tr>\n",
              "      <th>count</th>\n",
              "      <td>604.000000</td>\n",
              "      <td>604.000000</td>\n",
              "    </tr>\n",
              "    <tr>\n",
              "      <th>mean</th>\n",
              "      <td>0.996689</td>\n",
              "      <td>1.042406</td>\n",
              "    </tr>\n",
              "    <tr>\n",
              "      <th>std</th>\n",
              "      <td>1.249871</td>\n",
              "      <td>0.563353</td>\n",
              "    </tr>\n",
              "    <tr>\n",
              "      <th>min</th>\n",
              "      <td>0.000000</td>\n",
              "      <td>-0.015675</td>\n",
              "    </tr>\n",
              "    <tr>\n",
              "      <th>25%</th>\n",
              "      <td>0.000000</td>\n",
              "      <td>0.658098</td>\n",
              "    </tr>\n",
              "    <tr>\n",
              "      <th>50%</th>\n",
              "      <td>1.000000</td>\n",
              "      <td>0.957566</td>\n",
              "    </tr>\n",
              "    <tr>\n",
              "      <th>75%</th>\n",
              "      <td>2.000000</td>\n",
              "      <td>1.303644</td>\n",
              "    </tr>\n",
              "    <tr>\n",
              "      <th>max</th>\n",
              "      <td>8.000000</td>\n",
              "      <td>4.286101</td>\n",
              "    </tr>\n",
              "  </tbody>\n",
              "</table>\n",
              "</div>"
            ],
            "text/plain": [
              "           Actual   Predicted\n",
              "count  604.000000  604.000000\n",
              "mean     0.996689    1.042406\n",
              "std      1.249871    0.563353\n",
              "min      0.000000   -0.015675\n",
              "25%      0.000000    0.658098\n",
              "50%      1.000000    0.957566\n",
              "75%      2.000000    1.303644\n",
              "max      8.000000    4.286101"
            ]
          },
          "metadata": {
            "tags": []
          },
          "execution_count": 146
        }
      ]
    },
    {
      "cell_type": "code",
      "metadata": {
        "id": "V7h9x-okAsB7",
        "colab_type": "code",
        "colab": {
          "base_uri": "https://localhost:8080/",
          "height": 51
        },
        "outputId": "2e4de61c-4a28-43a9-9e8c-4e27c461f7d5"
      },
      "source": [
        "#finding the MSE and RMSE\n",
        "MSE = metrics.mean_squared_error(y2_test, y2_pred)\n",
        "RMSE = sqrt(MSE)\n",
        "print(\"The Mean Squared Error for Model 2 is: \", MSE)\n",
        "print(\"The Root Mean Squared Error for Model 2 is: \", RMSE )"
      ],
      "execution_count": 147,
      "outputs": [
        {
          "output_type": "stream",
          "text": [
            "The Mean Squared Error for Model 2 is:  1.1893604547357395\n",
            "The Root Mean Squared Error for Model 2 is:  1.0905780369766023\n"
          ],
          "name": "stdout"
        }
      ]
    },
    {
      "cell_type": "markdown",
      "metadata": {
        "id": "fCy13Ql21aa0",
        "colab_type": "text"
      },
      "source": [
        "The value for our RMSE is 1.0905780369766023 and it shows that our model is not that much accurate. We thus cannot use it."
      ]
    },
    {
      "cell_type": "code",
      "metadata": {
        "id": "UQr4OjbKDuob",
        "colab_type": "code",
        "colab": {
          "base_uri": "https://localhost:8080/",
          "height": 170
        },
        "outputId": "f591ed81-183b-4bfc-d81c-e60bcba0d263"
      },
      "source": [
        "#finding the residuals.\n",
        "residuals2 = np.subtract(y2_pred, y2_test)\n",
        "residuals2.describe()"
      ],
      "execution_count": 148,
      "outputs": [
        {
          "output_type": "execute_result",
          "data": {
            "text/plain": [
              "count    604.000000\n",
              "mean       0.045717\n",
              "std        1.090522\n",
              "min       -6.256470\n",
              "25%       -0.466870\n",
              "50%        0.274983\n",
              "75%        0.786910\n",
              "max        2.580497\n",
              "Name: away_score, dtype: float64"
            ]
          },
          "metadata": {
            "tags": []
          },
          "execution_count": 148
        }
      ]
    },
    {
      "cell_type": "code",
      "metadata": {
        "id": "4miPq3_iJ9b4",
        "colab_type": "code",
        "colab": {
          "base_uri": "https://localhost:8080/",
          "height": 295
        },
        "outputId": "e4e375f9-f670-4da0-f078-ba3ae6d0b6e4"
      },
      "source": [
        "#plotting the heteroscedasticity\n",
        "plt.scatter(residuals2,y2_pred)\n",
        "plt.title(\"Heteroscedasticity Test\")\n",
        "plt.xlabel(\"Predicted values\")\n",
        "plt.ylabel(\"Residuals\")\n",
        "plt.show()"
      ],
      "execution_count": 149,
      "outputs": [
        {
          "output_type": "display_data",
          "data": {
            "image/png": "[encoded data removed]",
            "text/plain": [
              "<Figure size 432x288 with 1 Axes>"
            ]
          },
          "metadata": {
            "tags": [],
            "needs_background": "light"
          }
        }
      ]
    },
    {
      "cell_type": "markdown",
      "metadata": {
        "id": "sWeu91Vm1Uar",
        "colab_type": "text"
      },
      "source": [
        "The resulting graph for the heteroscedasticity test is not as cone shaped as one would be and this shows that the variables aren't heteroscedastic."
      ]
    },
    {
      "cell_type": "markdown",
      "metadata": {
        "id": "OdF4Eq3CMFLq",
        "colab_type": "text"
      },
      "source": [
        "## **Approach 2 : Logistic Approach**"
      ]
    },
    {
      "cell_type": "markdown",
      "metadata": {
        "id": "x6FRJu3ZrIcx",
        "colab_type": "text"
      },
      "source": [
        "**The data**"
      ]
    },
    {
      "cell_type": "code",
      "metadata": {
        "id": "KaKjw7AkINrh",
        "colab_type": "code",
        "colab": {
          "base_uri": "https://localhost:8080/",
          "height": 204
        },
        "outputId": "5e285672-6071-441d-a147-942be5e439da"
      },
      "source": [
        "match_data.head()"
      ],
      "execution_count": 150,
      "outputs": [
        {
          "output_type": "execute_result",
          "data": {
            "text/html": [
              "<div>\n",
              "<style scoped>\n",
              "    .dataframe tbody tr th:only-of-type {\n",
              "        vertical-align: middle;\n",
              "    }\n",
              "\n",
              "    .dataframe tbody tr th {\n",
              "        vertical-align: top;\n",
              "    }\n",
              "\n",
              "    .dataframe thead th {\n",
              "        text-align: right;\n",
              "    }\n",
              "</style>\n",
              "<table border=\"1\" class=\"dataframe\">\n",
              "  <thead>\n",
              "    <tr style=\"text-align: right;\">\n",
              "      <th></th>\n",
              "      <th>home_team</th>\n",
              "      <th>home_score</th>\n",
              "      <th>away_team</th>\n",
              "      <th>away_score</th>\n",
              "      <th>home_team_rank</th>\n",
              "      <th>away_team_rank</th>\n",
              "      <th>tournament</th>\n",
              "      <th>result</th>\n",
              "    </tr>\n",
              "  </thead>\n",
              "  <tbody>\n",
              "    <tr>\n",
              "      <th>0</th>\n",
              "      <td>Guyana</td>\n",
              "      <td>2</td>\n",
              "      <td>India</td>\n",
              "      <td>1</td>\n",
              "      <td>114</td>\n",
              "      <td>158</td>\n",
              "      <td>22</td>\n",
              "      <td>Win</td>\n",
              "    </tr>\n",
              "    <tr>\n",
              "      <th>1</th>\n",
              "      <td>Thailand</td>\n",
              "      <td>0</td>\n",
              "      <td>Singapore</td>\n",
              "      <td>0</td>\n",
              "      <td>120</td>\n",
              "      <td>129</td>\n",
              "      <td>22</td>\n",
              "      <td>Draw</td>\n",
              "    </tr>\n",
              "    <tr>\n",
              "      <th>2</th>\n",
              "      <td>United Arab Emirates</td>\n",
              "      <td>3</td>\n",
              "      <td>Qatar</td>\n",
              "      <td>1</td>\n",
              "      <td>108</td>\n",
              "      <td>88</td>\n",
              "      <td>22</td>\n",
              "      <td>Win</td>\n",
              "    </tr>\n",
              "    <tr>\n",
              "      <th>3</th>\n",
              "      <td>Bahrain</td>\n",
              "      <td>1</td>\n",
              "      <td>Sudan</td>\n",
              "      <td>0</td>\n",
              "      <td>101</td>\n",
              "      <td>98</td>\n",
              "      <td>22</td>\n",
              "      <td>Win</td>\n",
              "    </tr>\n",
              "    <tr>\n",
              "      <th>4</th>\n",
              "      <td>Jordan</td>\n",
              "      <td>1</td>\n",
              "      <td>Indonesia</td>\n",
              "      <td>0</td>\n",
              "      <td>92</td>\n",
              "      <td>131</td>\n",
              "      <td>22</td>\n",
              "      <td>Win</td>\n",
              "    </tr>\n",
              "  </tbody>\n",
              "</table>\n",
              "</div>"
            ],
            "text/plain": [
              "              home_team  home_score  ... tournament  result\n",
              "0                Guyana           2  ...         22     Win\n",
              "1              Thailand           0  ...         22    Draw\n",
              "2  United Arab Emirates           3  ...         22     Win\n",
              "3               Bahrain           1  ...         22     Win\n",
              "4                Jordan           1  ...         22     Win\n",
              "\n",
              "[5 rows x 8 columns]"
            ]
          },
          "metadata": {
            "tags": []
          },
          "execution_count": 150
        }
      ]
    },
    {
      "cell_type": "markdown",
      "metadata": {
        "id": "UYyPB4QErRLd",
        "colab_type": "text"
      },
      "source": [
        "**Encoding**"
      ]
    },
    {
      "cell_type": "code",
      "metadata": {
        "id": "LxYa6fK9OB9Y",
        "colab_type": "code",
        "colab": {
          "base_uri": "https://localhost:8080/",
          "height": 306
        },
        "outputId": "a546ba56-2ae3-440d-bccd-42e009c83d2f"
      },
      "source": [
        "#using an encoder to tranform our result column to numerical value.\n",
        "le = preprocessing.LabelEncoder()\n",
        "le.fit(match_data[\"result\"])\n",
        "match_data[\"result\"] = le.transform(match_data[\"result\"])\n",
        "match_data.head()"
      ],
      "execution_count": 151,
      "outputs": [
        {
          "output_type": "stream",
          "text": [
            "/usr/local/lib/python3.6/dist-packages/ipykernel_launcher.py:4: SettingWithCopyWarning: \n",
            "A value is trying to be set on a copy of a slice from a DataFrame.\n",
            "Try using .loc[row_indexer,col_indexer] = value instead\n",
            "\n",
            "See the caveats in the documentation: https://pandas.pydata.org/pandas-docs/stable/user_guide/indexing.html#returning-a-view-versus-a-copy\n",
            "  after removing the cwd from sys.path.\n"
          ],
          "name": "stderr"
        },
        {
          "output_type": "execute_result",
          "data": {
            "text/html": [
              "<div>\n",
              "<style scoped>\n",
              "    .dataframe tbody tr th:only-of-type {\n",
              "        vertical-align: middle;\n",
              "    }\n",
              "\n",
              "    .dataframe tbody tr th {\n",
              "        vertical-align: top;\n",
              "    }\n",
              "\n",
              "    .dataframe thead th {\n",
              "        text-align: right;\n",
              "    }\n",
              "</style>\n",
              "<table border=\"1\" class=\"dataframe\">\n",
              "  <thead>\n",
              "    <tr style=\"text-align: right;\">\n",
              "      <th></th>\n",
              "      <th>home_team</th>\n",
              "      <th>home_score</th>\n",
              "      <th>away_team</th>\n",
              "      <th>away_score</th>\n",
              "      <th>home_team_rank</th>\n",
              "      <th>away_team_rank</th>\n",
              "      <th>tournament</th>\n",
              "      <th>result</th>\n",
              "    </tr>\n",
              "  </thead>\n",
              "  <tbody>\n",
              "    <tr>\n",
              "      <th>0</th>\n",
              "      <td>Guyana</td>\n",
              "      <td>2</td>\n",
              "      <td>India</td>\n",
              "      <td>1</td>\n",
              "      <td>114</td>\n",
              "      <td>158</td>\n",
              "      <td>22</td>\n",
              "      <td>2</td>\n",
              "    </tr>\n",
              "    <tr>\n",
              "      <th>1</th>\n",
              "      <td>Thailand</td>\n",
              "      <td>0</td>\n",
              "      <td>Singapore</td>\n",
              "      <td>0</td>\n",
              "      <td>120</td>\n",
              "      <td>129</td>\n",
              "      <td>22</td>\n",
              "      <td>0</td>\n",
              "    </tr>\n",
              "    <tr>\n",
              "      <th>2</th>\n",
              "      <td>United Arab Emirates</td>\n",
              "      <td>3</td>\n",
              "      <td>Qatar</td>\n",
              "      <td>1</td>\n",
              "      <td>108</td>\n",
              "      <td>88</td>\n",
              "      <td>22</td>\n",
              "      <td>2</td>\n",
              "    </tr>\n",
              "    <tr>\n",
              "      <th>3</th>\n",
              "      <td>Bahrain</td>\n",
              "      <td>1</td>\n",
              "      <td>Sudan</td>\n",
              "      <td>0</td>\n",
              "      <td>101</td>\n",
              "      <td>98</td>\n",
              "      <td>22</td>\n",
              "      <td>2</td>\n",
              "    </tr>\n",
              "    <tr>\n",
              "      <th>4</th>\n",
              "      <td>Jordan</td>\n",
              "      <td>1</td>\n",
              "      <td>Indonesia</td>\n",
              "      <td>0</td>\n",
              "      <td>92</td>\n",
              "      <td>131</td>\n",
              "      <td>22</td>\n",
              "      <td>2</td>\n",
              "    </tr>\n",
              "  </tbody>\n",
              "</table>\n",
              "</div>"
            ],
            "text/plain": [
              "              home_team  home_score  ... tournament  result\n",
              "0                Guyana           2  ...         22       2\n",
              "1              Thailand           0  ...         22       0\n",
              "2  United Arab Emirates           3  ...         22       2\n",
              "3               Bahrain           1  ...         22       2\n",
              "4                Jordan           1  ...         22       2\n",
              "\n",
              "[5 rows x 8 columns]"
            ]
          },
          "metadata": {
            "tags": []
          },
          "execution_count": 151
        }
      ]
    },
    {
      "cell_type": "markdown",
      "metadata": {
        "id": "cp56jEUwrVVa",
        "colab_type": "text"
      },
      "source": [
        "### **Logistic Regression**"
      ]
    },
    {
      "cell_type": "code",
      "metadata": {
        "id": "TrglK_q9OQsG",
        "colab_type": "code",
        "colab": {}
      },
      "source": [
        "#assigning the independent variables and dependent variables to 'X' and 'y' respectively.\n",
        "X3 = match_data.drop([\"home_team\",\"away_team\"],axis=1)\n",
        "y3 = match_data[\"result\"]"
      ],
      "execution_count": 152,
      "outputs": []
    },
    {
      "cell_type": "code",
      "metadata": {
        "id": "c9-UYf-kVJRP",
        "colab_type": "code",
        "colab": {
          "base_uri": "https://localhost:8080/",
          "height": 238
        },
        "outputId": "b97e49d1-a32b-470f-dcec-6159857ef712"
      },
      "source": [
        "#fitting out logistic regression model\n",
        "X3_train, X3_test, y3_train, y3_test = train_test_split(X3, y3, test_size = 0.2, random_state=1)\n",
        "logistic = LogisticRegression()\n",
        "logistic.fit(X3_train, y3_train)"
      ],
      "execution_count": 153,
      "outputs": [
        {
          "output_type": "stream",
          "text": [
            "/usr/local/lib/python3.6/dist-packages/sklearn/linear_model/_logistic.py:940: ConvergenceWarning: lbfgs failed to converge (status=1):\n",
            "STOP: TOTAL NO. of ITERATIONS REACHED LIMIT.\n",
            "\n",
            "Increase the number of iterations (max_iter) or scale the data as shown in:\n",
            "    https://scikit-learn.org/stable/modules/preprocessing.html\n",
            "Please also refer to the documentation for alternative solver options:\n",
            "    https://scikit-learn.org/stable/modules/linear_model.html#logistic-regression\n",
            "  extra_warning_msg=_LOGISTIC_SOLVER_CONVERGENCE_MSG)\n"
          ],
          "name": "stderr"
        },
        {
          "output_type": "execute_result",
          "data": {
            "text/plain": [
              "LogisticRegression(C=1.0, class_weight=None, dual=False, fit_intercept=True,\n",
              "                   intercept_scaling=1, l1_ratio=None, max_iter=100,\n",
              "                   multi_class='auto', n_jobs=None, penalty='l2',\n",
              "                   random_state=None, solver='lbfgs', tol=0.0001, verbose=0,\n",
              "                   warm_start=False)"
            ]
          },
          "metadata": {
            "tags": []
          },
          "execution_count": 153
        }
      ]
    },
    {
      "cell_type": "code",
      "metadata": {
        "id": "w_TYy4BPVau0",
        "colab_type": "code",
        "colab": {}
      },
      "source": [
        "#predicting using the regression\n",
        "y3_pred = logistic.predict(X3_test)"
      ],
      "execution_count": 154,
      "outputs": []
    },
    {
      "cell_type": "code",
      "metadata": {
        "id": "Qksg9F8PjJxR",
        "colab_type": "code",
        "colab": {
          "base_uri": "https://localhost:8080/",
          "height": 297
        },
        "outputId": "e9a6bdba-ecd4-4d43-bc7b-29b9252f6a7e"
      },
      "source": [
        "#comparing the results with the actual values.\n",
        "differ3 = pd.DataFrame({'Actual': y3_test, 'Predicted': y3_pred})\n",
        "differ3.describe()"
      ],
      "execution_count": 155,
      "outputs": [
        {
          "output_type": "execute_result",
          "data": {
            "text/html": [
              "<div>\n",
              "<style scoped>\n",
              "    .dataframe tbody tr th:only-of-type {\n",
              "        vertical-align: middle;\n",
              "    }\n",
              "\n",
              "    .dataframe tbody tr th {\n",
              "        vertical-align: top;\n",
              "    }\n",
              "\n",
              "    .dataframe thead th {\n",
              "        text-align: right;\n",
              "    }\n",
              "</style>\n",
              "<table border=\"1\" class=\"dataframe\">\n",
              "  <thead>\n",
              "    <tr style=\"text-align: right;\">\n",
              "      <th></th>\n",
              "      <th>Actual</th>\n",
              "      <th>Predicted</th>\n",
              "    </tr>\n",
              "  </thead>\n",
              "  <tbody>\n",
              "    <tr>\n",
              "      <th>count</th>\n",
              "      <td>604.000000</td>\n",
              "      <td>604.000000</td>\n",
              "    </tr>\n",
              "    <tr>\n",
              "      <th>mean</th>\n",
              "      <td>1.293046</td>\n",
              "      <td>1.293046</td>\n",
              "    </tr>\n",
              "    <tr>\n",
              "      <th>std</th>\n",
              "      <td>0.817644</td>\n",
              "      <td>0.817644</td>\n",
              "    </tr>\n",
              "    <tr>\n",
              "      <th>min</th>\n",
              "      <td>0.000000</td>\n",
              "      <td>0.000000</td>\n",
              "    </tr>\n",
              "    <tr>\n",
              "      <th>25%</th>\n",
              "      <td>1.000000</td>\n",
              "      <td>1.000000</td>\n",
              "    </tr>\n",
              "    <tr>\n",
              "      <th>50%</th>\n",
              "      <td>2.000000</td>\n",
              "      <td>2.000000</td>\n",
              "    </tr>\n",
              "    <tr>\n",
              "      <th>75%</th>\n",
              "      <td>2.000000</td>\n",
              "      <td>2.000000</td>\n",
              "    </tr>\n",
              "    <tr>\n",
              "      <th>max</th>\n",
              "      <td>2.000000</td>\n",
              "      <td>2.000000</td>\n",
              "    </tr>\n",
              "  </tbody>\n",
              "</table>\n",
              "</div>"
            ],
            "text/plain": [
              "           Actual   Predicted\n",
              "count  604.000000  604.000000\n",
              "mean     1.293046    1.293046\n",
              "std      0.817644    0.817644\n",
              "min      0.000000    0.000000\n",
              "25%      1.000000    1.000000\n",
              "50%      2.000000    2.000000\n",
              "75%      2.000000    2.000000\n",
              "max      2.000000    2.000000"
            ]
          },
          "metadata": {
            "tags": []
          },
          "execution_count": 155
        }
      ]
    },
    {
      "cell_type": "markdown",
      "metadata": {
        "id": "cVrQR4vircsk",
        "colab_type": "text"
      },
      "source": [
        "### **Verification**"
      ]
    },
    {
      "cell_type": "code",
      "metadata": {
        "id": "M-XyjbHeVkoO",
        "colab_type": "code",
        "colab": {}
      },
      "source": [
        "#creating a confusion matrix for accuracy determination\n",
        "confusion_matrix = confusion_matrix(y3_test, y3_pred)"
      ],
      "execution_count": 156,
      "outputs": []
    },
    {
      "cell_type": "code",
      "metadata": {
        "id": "ApFJUeZxjBvt",
        "colab_type": "code",
        "colab": {
          "base_uri": "https://localhost:8080/",
          "height": 68
        },
        "outputId": "9b578182-e00e-4d8c-d418-264e67367e63"
      },
      "source": [
        "#viewing the confusion matrix.\n",
        "confusion_matrix"
      ],
      "execution_count": 157,
      "outputs": [
        {
          "output_type": "execute_result",
          "data": {
            "text/plain": [
              "array([[139,   0,   0],\n",
              "       [  0, 149,   0],\n",
              "       [  0,   0, 316]])"
            ]
          },
          "metadata": {
            "tags": []
          },
          "execution_count": 157
        }
      ]
    },
    {
      "cell_type": "markdown",
      "metadata": {
        "id": "rbb_Fkzr1qEf",
        "colab_type": "text"
      },
      "source": [
        "The confusion matrix shows perfect accuracy."
      ]
    },
    {
      "cell_type": "markdown",
      "metadata": {
        "id": "_YcvmvoMp07c",
        "colab_type": "text"
      },
      "source": [
        "## **Conclusion**"
      ]
    },
    {
      "cell_type": "markdown",
      "metadata": {
        "id": "WWGi6LLyp6H2",
        "colab_type": "text"
      },
      "source": [
        "* The confusion matrix shows that we have attained 100% accuracy and this shows that this model is perfect for prediction.\n",
        "* Data from the rankings from the date (8-24-2020) should be used for prediction"
      ]
    },
    {
      "cell_type": "markdown",
      "metadata": {
        "id": "a3jD5ftZqw7Q",
        "colab_type": "text"
      },
      "source": [
        "From the conclusions, I can derive that I have achieved my goal, which was to find a suitable model for prediction.\n",
        "The correct model is **Logistic regression** since it has an accuracy level of 100%"
      ]
    }
  ]
}
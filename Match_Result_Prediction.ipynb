{
  "nbformat": 4,
  "nbformat_minor": 0,
  "metadata": {
    "colab": {
      "name": "Match Result Prediction.ipynb",
      "provenance": [],
      "toc_visible": true,
      "authorship_tag": "ABX9TyNoHWpPCSCqDkkHU5uOrPWB",
      "include_colab_link": true
    },
    "kernelspec": {
      "name": "python3",
      "display_name": "Python 3"
    }
  },
  "cells": [
    {
      "cell_type": "markdown",
      "metadata": {
        "id": "view-in-github",
        "colab_type": "text"
      },
      "source": [
        "<a href=\"https://colab.research.google.com/github/Mumo-vicky/Match-Result-Prediction/blob/master/Match_Result_Prediction.ipynb\" target=\"_parent\"><img src=\"https://colab.research.google.com/assets/colab-badge.svg\" alt=\"Open In Colab\"/></a>"
      ]
    },
    {
      "cell_type": "markdown",
      "metadata": {
        "id": "o-iX4f44dE4b",
        "colab_type": "text"
      },
      "source": [
        "# **Match Result Prediction**"
      ]
    },
    {
      "cell_type": "markdown",
      "metadata": {
        "id": "ec8VoWj0Xh0y",
        "colab_type": "text"
      },
      "source": [
        "## **Defining Question**"
      ]
    },
    {
      "cell_type": "markdown",
      "metadata": {
        "id": "8wuL6-ZnX0xL",
        "colab_type": "text"
      },
      "source": [
        "I have been recruited as a football analyst in a company - Mchezopesa Ltd and tasked to accomplish the task below.\n",
        "A prediction result of a game between team 1 and team 2, based on who's home and who's away, and on whether or not the game is friendly (include rank in your training)."
      ]
    },
    {
      "cell_type": "markdown",
      "metadata": {
        "id": "TRr4y62aYF3n",
        "colab_type": "text"
      },
      "source": [
        "## **Defining Metric For Success**"
      ]
    },
    {
      "cell_type": "markdown",
      "metadata": {
        "id": "i--FaMzhYT70",
        "colab_type": "text"
      },
      "source": [
        "I am suppossed to find a suitable model that will have the highest accuracy for the prediction of the matches."
      ]
    },
    {
      "cell_type": "markdown",
      "metadata": {
        "id": "kSqzTzS9Xv8b",
        "colab_type": "text"
      },
      "source": [
        "## **Understanding The Context**"
      ]
    },
    {
      "cell_type": "markdown",
      "metadata": {
        "id": "tobZa5AEccYL",
        "colab_type": "text"
      },
      "source": [
        "There are national teams and the matches that they have played and their rankings over the years. Finding out a way to predict the outcome based on the various factors is what I want to achieve and I thus have to find a suitable model for that."
      ]
    },
    {
      "cell_type": "markdown",
      "metadata": {
        "id": "_7XXl6uOcV86",
        "colab_type": "text"
      },
      "source": [
        "## **Data Relevance**"
      ]
    },
    {
      "cell_type": "markdown",
      "metadata": {
        "id": "sBxHuBkMYsU1",
        "colab_type": "text"
      },
      "source": [
        "The data provided are two csv files namely:\n",
        "*   fifa_ranking.csv\n",
        "*   results.csv\n",
        "\n",
        "They contain various columns with extensive data.\n",
        "The fifa ranking started in the year 2006 and thus the data after this year from table is more precise.\n",
        "However, on looking at the data, I noticed that most values remained zero for most part of the data up until 8/24/2011.\n",
        "I thus decided that I would use the data from this date onwards so as to attain more accuracy with regards to the ranks.\n",
        "I am suppossed to clean the datasets, join them sets so as to get information for the matches all in one dataset and perform various types of regressions."
      ]
    },
    {
      "cell_type": "markdown",
      "metadata": {
        "id": "lyyZCEAUb7Dj",
        "colab_type": "text"
      },
      "source": [
        "**Loading The Data.**"
      ]
    },
    {
      "cell_type": "code",
      "metadata": {
        "id": "dfMk1lLeaaQ0",
        "colab_type": "code",
        "colab": {}
      },
      "source": [
        "#importing the appropriate libraries\n",
        "import pandas as pd\n",
        "import numpy as np"
      ],
      "execution_count": 4,
      "outputs": []
    },
    {
      "cell_type": "code",
      "metadata": {
        "id": "O7oiX7RizCv4",
        "colab_type": "code",
        "colab": {}
      },
      "source": [
        "#loading our dataset to our environment\n",
        "ranking = pd.read_csv('fifa_ranking.csv')\n",
        "results = pd.read_csv('results.csv')"
      ],
      "execution_count": 5,
      "outputs": []
    },
    {
      "cell_type": "markdown",
      "metadata": {
        "id": "hX-PHZO_cEGo",
        "colab_type": "text"
      },
      "source": [
        "**Exploration of The Data**"
      ]
    },
    {
      "cell_type": "code",
      "metadata": {
        "id": "8my-BTXdzPqk",
        "colab_type": "code",
        "colab": {}
      },
      "source": [
        "#displaying the rows and columns in our datasets.\n",
        "print('Ranking rows and columns: ', ranking.shape)\n",
        "print('Results rows and columns: ', results.shape)"
      ],
      "execution_count": null,
      "outputs": []
    },
    {
      "cell_type": "code",
      "metadata": {
        "id": "9QEEWabGzb2P",
        "colab_type": "code",
        "colab": {}
      },
      "source": [
        "#previewing the top of our dataset\n",
        "ranking.head()"
      ],
      "execution_count": null,
      "outputs": []
    },
    {
      "cell_type": "code",
      "metadata": {
        "id": "KdgtAkPOzewT",
        "colab_type": "code",
        "colab": {}
      },
      "source": [
        "#previewing the top of our dataset\n",
        "results.head()"
      ],
      "execution_count": null,
      "outputs": []
    },
    {
      "cell_type": "code",
      "metadata": {
        "id": "4ua1tcZtzjEP",
        "colab_type": "code",
        "colab": {}
      },
      "source": [
        "#previewing the bottom of our dataset\n",
        "ranking.tail()"
      ],
      "execution_count": null,
      "outputs": []
    },
    {
      "cell_type": "code",
      "metadata": {
        "id": "l_wZSVg6zxve",
        "colab_type": "code",
        "colab": {}
      },
      "source": [
        "#previewing the bottom of our dataset\n",
        "results.tail()"
      ],
      "execution_count": null,
      "outputs": []
    },
    {
      "cell_type": "code",
      "metadata": {
        "id": "2rPKAyq0zzb3",
        "colab_type": "code",
        "colab": {}
      },
      "source": [
        "#describing of our dataset.\n",
        "ranking.describe()"
      ],
      "execution_count": null,
      "outputs": []
    },
    {
      "cell_type": "code",
      "metadata": {
        "id": "b4cHa0eyz2CQ",
        "colab_type": "code",
        "colab": {}
      },
      "source": [
        "#describing of our dataset.\n",
        "results.describe()"
      ],
      "execution_count": null,
      "outputs": []
    },
    {
      "cell_type": "code",
      "metadata": {
        "id": "1xmBp2dEz4vE",
        "colab_type": "code",
        "colab": {}
      },
      "source": [
        "#checking for null values.\n",
        "ranking.isnull().sum()"
      ],
      "execution_count": null,
      "outputs": []
    },
    {
      "cell_type": "code",
      "metadata": {
        "id": "lJQae-Y6z_78",
        "colab_type": "code",
        "colab": {}
      },
      "source": [
        "#checking for null values\n",
        "results.isnull().sum()"
      ],
      "execution_count": null,
      "outputs": []
    },
    {
      "cell_type": "code",
      "metadata": {
        "id": "1SVyAYFp0DGy",
        "colab_type": "code",
        "colab": {}
      },
      "source": [
        "#checkig for missing values\n",
        "ranking.isna().sum()"
      ],
      "execution_count": null,
      "outputs": []
    },
    {
      "cell_type": "code",
      "metadata": {
        "id": "L-CqqRIQ0Fxo",
        "colab_type": "code",
        "colab": {}
      },
      "source": [
        "#checkig for missing values\n",
        "results.isna().sum()"
      ],
      "execution_count": null,
      "outputs": []
    },
    {
      "cell_type": "code",
      "metadata": {
        "id": "erdgpFbs0LBl",
        "colab_type": "code",
        "colab": {}
      },
      "source": [
        "#viewing information about our dataset.\n",
        "results.info()"
      ],
      "execution_count": null,
      "outputs": []
    },
    {
      "cell_type": "code",
      "metadata": {
        "id": "1mEyofvU1aFA",
        "colab_type": "code",
        "colab": {}
      },
      "source": [
        "#changing the date to datetime type and adding columns for the years, months and days for merging.\n",
        "results['date_parsed'] = pd.to_datetime(results['date'], format = \"%Y-%m-%d\")\n",
        "results = results.drop(columns='date')\n",
        "results['year'] = results['date_parsed'].dt.year\n",
        "results['month'] = results['date_parsed'].dt.month\n",
        "results['day'] = results['date_parsed'].dt.day\n",
        "results.head()"
      ],
      "execution_count": null,
      "outputs": []
    },
    {
      "cell_type": "code",
      "metadata": {
        "id": "uxK_e5nU3QR_",
        "colab_type": "code",
        "colab": {}
      },
      "source": [
        "#selecting data from the specified dates since that is when fifa ranking started and the data collected within the time is better.\n",
        "date1 = '2011-08-24'\n",
        "within = (results['date_parsed'] >= date1)\n",
        "results1 = results.loc[within].reset_index()\n",
        "results1 = results1.drop(columns='index')\n",
        "results1.head()"
      ],
      "execution_count": null,
      "outputs": []
    },
    {
      "cell_type": "code",
      "metadata": {
        "id": "srXwWZ7t6xdk",
        "colab_type": "code",
        "colab": {
          "base_uri": "https://localhost:8080/",
          "height": 34
        },
        "outputId": "ff9dd4d2-c226-4e61-e551-4a839140b055"
      },
      "source": [
        "#checking the rows and columns of the new dataset\n",
        "results1.shape"
      ],
      "execution_count": 20,
      "outputs": [
        {
          "output_type": "execute_result",
          "data": {
            "text/plain": [
              "(7560, 12)"
            ]
          },
          "metadata": {
            "tags": []
          },
          "execution_count": 20
        }
      ]
    },
    {
      "cell_type": "code",
      "metadata": {
        "id": "Huv0XGHk4XIm",
        "colab_type": "code",
        "colab": {}
      },
      "source": [
        "#changing the date to datetime type and adding columns for the years, months and days for merging.\n",
        "ranking['date_parsed'] = pd.to_datetime(ranking['rank_date'], format = \"%Y-%m-%d\")\n",
        "ranking = ranking.drop(columns='rank_date')\n",
        "ranking['year'] = ranking['date_parsed'].dt.year\n",
        "ranking['month'] = ranking['date_parsed'].dt.month\n",
        "ranking['day'] = ranking['date_parsed'].dt.day\n",
        "ranking.head()"
      ],
      "execution_count": null,
      "outputs": []
    },
    {
      "cell_type": "code",
      "metadata": {
        "id": "KCH5CJpD5Spl",
        "colab_type": "code",
        "colab": {}
      },
      "source": [
        "#selecting data from the specified dates since that is when fifa ranking started and the data collected within the time is better.\n",
        "within = (ranking['date_parsed'] >= date1)\n",
        "ranking1 = ranking.loc[within].reset_index()\n",
        "ranking1 = ranking1.drop(columns='index')\n",
        "ranking1.head()"
      ],
      "execution_count": null,
      "outputs": []
    },
    {
      "cell_type": "code",
      "metadata": {
        "id": "V45D4Sbl6jjU",
        "colab_type": "code",
        "colab": {}
      },
      "source": [
        "#checking the rows and columns\n",
        "#there is a significant reduction proving that most of the data wouldn't fit our analysis and prediction.\n",
        "ranking1.shape"
      ],
      "execution_count": null,
      "outputs": []
    },
    {
      "cell_type": "code",
      "metadata": {
        "id": "xP8-LI946sHF",
        "colab_type": "code",
        "colab": {
          "base_uri": "https://localhost:8080/",
          "height": 275
        },
        "outputId": "6d2139d0-0f52-4b1e-e6d4-3914722eecf9"
      },
      "source": [
        "#creating a dataset for home teams by merging the two datasets conveniently\n",
        "home_data=pd.merge(ranking1,results1, left_on=['country_full','year', 'month'], right_on=['home_team','year','month'],how='inner')\n",
        "home_data.head()"
      ],
      "execution_count": 30,
      "outputs": [
        {
          "output_type": "execute_result",
          "data": {
            "text/html": [
              "<div>\n",
              "<style scoped>\n",
              "    .dataframe tbody tr th:only-of-type {\n",
              "        vertical-align: middle;\n",
              "    }\n",
              "\n",
              "    .dataframe tbody tr th {\n",
              "        vertical-align: top;\n",
              "    }\n",
              "\n",
              "    .dataframe thead th {\n",
              "        text-align: right;\n",
              "    }\n",
              "</style>\n",
              "<table border=\"1\" class=\"dataframe\">\n",
              "  <thead>\n",
              "    <tr style=\"text-align: right;\">\n",
              "      <th></th>\n",
              "      <th>rank</th>\n",
              "      <th>country_full</th>\n",
              "      <th>country_abrv</th>\n",
              "      <th>total_points</th>\n",
              "      <th>previous_points</th>\n",
              "      <th>rank_change</th>\n",
              "      <th>cur_year_avg</th>\n",
              "      <th>cur_year_avg_weighted</th>\n",
              "      <th>last_year_avg</th>\n",
              "      <th>last_year_avg_weighted</th>\n",
              "      <th>two_year_ago_avg</th>\n",
              "      <th>two_year_ago_weighted</th>\n",
              "      <th>three_year_ago_avg</th>\n",
              "      <th>three_year_ago_weighted</th>\n",
              "      <th>confederation</th>\n",
              "      <th>date_parsed_x</th>\n",
              "      <th>year</th>\n",
              "      <th>month</th>\n",
              "      <th>day_x</th>\n",
              "      <th>home_team</th>\n",
              "      <th>away_team</th>\n",
              "      <th>home_score</th>\n",
              "      <th>away_score</th>\n",
              "      <th>tournament</th>\n",
              "      <th>city</th>\n",
              "      <th>country</th>\n",
              "      <th>neutral</th>\n",
              "      <th>date_parsed_y</th>\n",
              "      <th>day_y</th>\n",
              "    </tr>\n",
              "  </thead>\n",
              "  <tbody>\n",
              "    <tr>\n",
              "      <th>0</th>\n",
              "      <td>92</td>\n",
              "      <td>Jordan</td>\n",
              "      <td>JOR</td>\n",
              "      <td>348.42</td>\n",
              "      <td>364</td>\n",
              "      <td>-1</td>\n",
              "      <td>215.10</td>\n",
              "      <td>215.10</td>\n",
              "      <td>171.87</td>\n",
              "      <td>85.94</td>\n",
              "      <td>55.46</td>\n",
              "      <td>16.64</td>\n",
              "      <td>153.72</td>\n",
              "      <td>30.74</td>\n",
              "      <td>AFC</td>\n",
              "      <td>2011-08-24</td>\n",
              "      <td>2011</td>\n",
              "      <td>8</td>\n",
              "      <td>24</td>\n",
              "      <td>Jordan</td>\n",
              "      <td>Indonesia</td>\n",
              "      <td>1</td>\n",
              "      <td>0</td>\n",
              "      <td>Friendly</td>\n",
              "      <td>Amman</td>\n",
              "      <td>Jordan</td>\n",
              "      <td>False</td>\n",
              "      <td>2011-08-27</td>\n",
              "      <td>27</td>\n",
              "    </tr>\n",
              "    <tr>\n",
              "      <th>1</th>\n",
              "      <td>96</td>\n",
              "      <td>Angola</td>\n",
              "      <td>ANG</td>\n",
              "      <td>338.07</td>\n",
              "      <td>330</td>\n",
              "      <td>4</td>\n",
              "      <td>166.89</td>\n",
              "      <td>166.89</td>\n",
              "      <td>170.24</td>\n",
              "      <td>85.12</td>\n",
              "      <td>106.93</td>\n",
              "      <td>32.08</td>\n",
              "      <td>269.88</td>\n",
              "      <td>53.98</td>\n",
              "      <td>CAF</td>\n",
              "      <td>2011-08-24</td>\n",
              "      <td>2011</td>\n",
              "      <td>8</td>\n",
              "      <td>24</td>\n",
              "      <td>Angola</td>\n",
              "      <td>DR Congo</td>\n",
              "      <td>1</td>\n",
              "      <td>2</td>\n",
              "      <td>Friendly</td>\n",
              "      <td>Dundo</td>\n",
              "      <td>Angola</td>\n",
              "      <td>False</td>\n",
              "      <td>2011-08-27</td>\n",
              "      <td>27</td>\n",
              "    </tr>\n",
              "    <tr>\n",
              "      <th>2</th>\n",
              "      <td>101</td>\n",
              "      <td>Bahrain</td>\n",
              "      <td>BHR</td>\n",
              "      <td>325.01</td>\n",
              "      <td>331</td>\n",
              "      <td>-3</td>\n",
              "      <td>88.45</td>\n",
              "      <td>88.45</td>\n",
              "      <td>196.12</td>\n",
              "      <td>98.06</td>\n",
              "      <td>264.59</td>\n",
              "      <td>79.38</td>\n",
              "      <td>295.59</td>\n",
              "      <td>59.12</td>\n",
              "      <td>AFC</td>\n",
              "      <td>2011-08-24</td>\n",
              "      <td>2011</td>\n",
              "      <td>8</td>\n",
              "      <td>24</td>\n",
              "      <td>Bahrain</td>\n",
              "      <td>Sudan</td>\n",
              "      <td>1</td>\n",
              "      <td>0</td>\n",
              "      <td>Friendly</td>\n",
              "      <td>Riffa</td>\n",
              "      <td>Bahrain</td>\n",
              "      <td>False</td>\n",
              "      <td>2011-08-26</td>\n",
              "      <td>26</td>\n",
              "    </tr>\n",
              "    <tr>\n",
              "      <th>3</th>\n",
              "      <td>103</td>\n",
              "      <td>Oman</td>\n",
              "      <td>OMA</td>\n",
              "      <td>311.64</td>\n",
              "      <td>308</td>\n",
              "      <td>3</td>\n",
              "      <td>138.89</td>\n",
              "      <td>138.89</td>\n",
              "      <td>130.90</td>\n",
              "      <td>65.45</td>\n",
              "      <td>239.68</td>\n",
              "      <td>71.90</td>\n",
              "      <td>177.02</td>\n",
              "      <td>35.40</td>\n",
              "      <td>AFC</td>\n",
              "      <td>2011-08-24</td>\n",
              "      <td>2011</td>\n",
              "      <td>8</td>\n",
              "      <td>24</td>\n",
              "      <td>Oman</td>\n",
              "      <td>Kuwait</td>\n",
              "      <td>1</td>\n",
              "      <td>0</td>\n",
              "      <td>Friendly</td>\n",
              "      <td>Muscat</td>\n",
              "      <td>Oman</td>\n",
              "      <td>False</td>\n",
              "      <td>2011-08-27</td>\n",
              "      <td>27</td>\n",
              "    </tr>\n",
              "    <tr>\n",
              "      <th>4</th>\n",
              "      <td>106</td>\n",
              "      <td>Antigua and Barbuda</td>\n",
              "      <td>ATG</td>\n",
              "      <td>307.77</td>\n",
              "      <td>308</td>\n",
              "      <td>0</td>\n",
              "      <td>219.95</td>\n",
              "      <td>219.95</td>\n",
              "      <td>0.00</td>\n",
              "      <td>0.00</td>\n",
              "      <td>217.18</td>\n",
              "      <td>65.15</td>\n",
              "      <td>113.33</td>\n",
              "      <td>22.67</td>\n",
              "      <td>CONCACAF</td>\n",
              "      <td>2011-08-24</td>\n",
              "      <td>2011</td>\n",
              "      <td>8</td>\n",
              "      <td>24</td>\n",
              "      <td>Antigua and Barbuda</td>\n",
              "      <td>Saint Vincent and the Grenadines</td>\n",
              "      <td>2</td>\n",
              "      <td>2</td>\n",
              "      <td>Friendly</td>\n",
              "      <td>Osbourn</td>\n",
              "      <td>Antigua and Barbuda</td>\n",
              "      <td>False</td>\n",
              "      <td>2011-08-28</td>\n",
              "      <td>28</td>\n",
              "    </tr>\n",
              "  </tbody>\n",
              "</table>\n",
              "</div>"
            ],
            "text/plain": [
              "   rank         country_full country_abrv  ...  neutral  date_parsed_y  day_y\n",
              "0    92               Jordan          JOR  ...    False     2011-08-27     27\n",
              "1    96               Angola          ANG  ...    False     2011-08-27     27\n",
              "2   101              Bahrain          BHR  ...    False     2011-08-26     26\n",
              "3   103                 Oman          OMA  ...    False     2011-08-27     27\n",
              "4   106  Antigua and Barbuda          ATG  ...    False     2011-08-28     28\n",
              "\n",
              "[5 rows x 29 columns]"
            ]
          },
          "metadata": {
            "tags": []
          },
          "execution_count": 30
        }
      ]
    },
    {
      "cell_type": "code",
      "metadata": {
        "id": "8shIRn47nxWe",
        "colab_type": "code",
        "colab": {
          "base_uri": "https://localhost:8080/",
          "height": 34
        },
        "outputId": "be7634e1-f342-4e95-e944-6a0beca40d9e"
      },
      "source": [
        "#checking for the rows and columns\n",
        "home_data.shape"
      ],
      "execution_count": 31,
      "outputs": [
        {
          "output_type": "execute_result",
          "data": {
            "text/plain": [
              "(5815, 29)"
            ]
          },
          "metadata": {
            "tags": []
          },
          "execution_count": 31
        }
      ]
    },
    {
      "cell_type": "code",
      "metadata": {
        "id": "pJN5twv8C9v0",
        "colab_type": "code",
        "colab": {}
      },
      "source": [
        "#creating a dataset for the away teams by conveniently merging the two datasets conveniently\n",
        "away_data=pd.merge(ranking1,results1, left_on=['country_full','year', 'month'], right_on=['away_team','year','month'],how='inner')\n",
        "away_data.head()"
      ],
      "execution_count": null,
      "outputs": []
    },
    {
      "cell_type": "code",
      "metadata": {
        "id": "Q5Z2USMVn1TV",
        "colab_type": "code",
        "colab": {
          "base_uri": "https://localhost:8080/",
          "height": 34
        },
        "outputId": "e88abfd8-4512-42a0-8b0e-9b59b71e352a"
      },
      "source": [
        "#checking for the rows and columns.\n",
        "away_data.shape"
      ],
      "execution_count": 15,
      "outputs": [
        {
          "output_type": "execute_result",
          "data": {
            "text/plain": [
              "(5750, 29)"
            ]
          },
          "metadata": {
            "tags": []
          },
          "execution_count": 15
        }
      ]
    },
    {
      "cell_type": "code",
      "metadata": {
        "id": "lRehwUrzEzqL",
        "colab_type": "code",
        "colab": {}
      },
      "source": [
        "#dropping the columns that we don't need for merging since they will be duplicated on merging if not removed.\n",
        "new_away = away_data.drop(columns = ['country_full', 'country_abrv', 'total_points', 'previous_points', 'rank_change', 'cur_year_avg', 'cur_year_avg_weighted', 'last_year_avg', 'last_year_avg_weighted','two_year_ago_avg', 'two_year_ago_weighted', 'three_year_ago_avg', 'three_year_ago_weighted', 'confederation', 'date_parsed_x', 'day_x', 'home_team', 'home_score', 'away_score','tournament', 'city', 'country', 'neutral', 'date_parsed_y', 'day_y'])\n",
        "new_away.head()"
      ],
      "execution_count": null,
      "outputs": []
    },
    {
      "cell_type": "code",
      "metadata": {
        "id": "9-MZnciRF3ua",
        "colab_type": "code",
        "colab": {
          "base_uri": "https://localhost:8080/",
          "height": 258
        },
        "outputId": "72bfb0e4-6ff3-4e9b-84d1-47ef1708ec9d"
      },
      "source": [
        "#creating our comprehensive dataset for use with all the information we need by merging our home team dataset and our new away team dataset.\n",
        "data = pd.merge(home_data,new_away, left_on=['away_team','year','month'],right_on=['away_team','year','month'],how='inner')\n",
        "data.head()"
      ],
      "execution_count": 39,
      "outputs": [
        {
          "output_type": "execute_result",
          "data": {
            "text/html": [
              "<div>\n",
              "<style scoped>\n",
              "    .dataframe tbody tr th:only-of-type {\n",
              "        vertical-align: middle;\n",
              "    }\n",
              "\n",
              "    .dataframe tbody tr th {\n",
              "        vertical-align: top;\n",
              "    }\n",
              "\n",
              "    .dataframe thead th {\n",
              "        text-align: right;\n",
              "    }\n",
              "</style>\n",
              "<table border=\"1\" class=\"dataframe\">\n",
              "  <thead>\n",
              "    <tr style=\"text-align: right;\">\n",
              "      <th></th>\n",
              "      <th>rank_x</th>\n",
              "      <th>country_full</th>\n",
              "      <th>country_abrv</th>\n",
              "      <th>total_points</th>\n",
              "      <th>previous_points</th>\n",
              "      <th>rank_change</th>\n",
              "      <th>cur_year_avg</th>\n",
              "      <th>cur_year_avg_weighted</th>\n",
              "      <th>last_year_avg</th>\n",
              "      <th>last_year_avg_weighted</th>\n",
              "      <th>two_year_ago_avg</th>\n",
              "      <th>two_year_ago_weighted</th>\n",
              "      <th>three_year_ago_avg</th>\n",
              "      <th>three_year_ago_weighted</th>\n",
              "      <th>confederation</th>\n",
              "      <th>date_parsed_x</th>\n",
              "      <th>year</th>\n",
              "      <th>month</th>\n",
              "      <th>day_x</th>\n",
              "      <th>home_team</th>\n",
              "      <th>away_team</th>\n",
              "      <th>home_score</th>\n",
              "      <th>away_score</th>\n",
              "      <th>tournament</th>\n",
              "      <th>city</th>\n",
              "      <th>country</th>\n",
              "      <th>neutral</th>\n",
              "      <th>date_parsed_y</th>\n",
              "      <th>day_y</th>\n",
              "      <th>rank_y</th>\n",
              "    </tr>\n",
              "  </thead>\n",
              "  <tbody>\n",
              "    <tr>\n",
              "      <th>0</th>\n",
              "      <td>92</td>\n",
              "      <td>Jordan</td>\n",
              "      <td>JOR</td>\n",
              "      <td>348.42</td>\n",
              "      <td>364</td>\n",
              "      <td>-1</td>\n",
              "      <td>215.10</td>\n",
              "      <td>215.10</td>\n",
              "      <td>171.87</td>\n",
              "      <td>85.94</td>\n",
              "      <td>55.46</td>\n",
              "      <td>16.64</td>\n",
              "      <td>153.72</td>\n",
              "      <td>30.74</td>\n",
              "      <td>AFC</td>\n",
              "      <td>2011-08-24</td>\n",
              "      <td>2011</td>\n",
              "      <td>8</td>\n",
              "      <td>24</td>\n",
              "      <td>Jordan</td>\n",
              "      <td>Indonesia</td>\n",
              "      <td>1</td>\n",
              "      <td>0</td>\n",
              "      <td>Friendly</td>\n",
              "      <td>Amman</td>\n",
              "      <td>Jordan</td>\n",
              "      <td>False</td>\n",
              "      <td>2011-08-27</td>\n",
              "      <td>27</td>\n",
              "      <td>131</td>\n",
              "    </tr>\n",
              "    <tr>\n",
              "      <th>1</th>\n",
              "      <td>101</td>\n",
              "      <td>Bahrain</td>\n",
              "      <td>BHR</td>\n",
              "      <td>325.01</td>\n",
              "      <td>331</td>\n",
              "      <td>-3</td>\n",
              "      <td>88.45</td>\n",
              "      <td>88.45</td>\n",
              "      <td>196.12</td>\n",
              "      <td>98.06</td>\n",
              "      <td>264.59</td>\n",
              "      <td>79.38</td>\n",
              "      <td>295.59</td>\n",
              "      <td>59.12</td>\n",
              "      <td>AFC</td>\n",
              "      <td>2011-08-24</td>\n",
              "      <td>2011</td>\n",
              "      <td>8</td>\n",
              "      <td>24</td>\n",
              "      <td>Bahrain</td>\n",
              "      <td>Sudan</td>\n",
              "      <td>1</td>\n",
              "      <td>0</td>\n",
              "      <td>Friendly</td>\n",
              "      <td>Riffa</td>\n",
              "      <td>Bahrain</td>\n",
              "      <td>False</td>\n",
              "      <td>2011-08-26</td>\n",
              "      <td>26</td>\n",
              "      <td>98</td>\n",
              "    </tr>\n",
              "    <tr>\n",
              "      <th>2</th>\n",
              "      <td>103</td>\n",
              "      <td>Oman</td>\n",
              "      <td>OMA</td>\n",
              "      <td>311.64</td>\n",
              "      <td>308</td>\n",
              "      <td>3</td>\n",
              "      <td>138.89</td>\n",
              "      <td>138.89</td>\n",
              "      <td>130.90</td>\n",
              "      <td>65.45</td>\n",
              "      <td>239.68</td>\n",
              "      <td>71.90</td>\n",
              "      <td>177.02</td>\n",
              "      <td>35.40</td>\n",
              "      <td>AFC</td>\n",
              "      <td>2011-08-24</td>\n",
              "      <td>2011</td>\n",
              "      <td>8</td>\n",
              "      <td>24</td>\n",
              "      <td>Oman</td>\n",
              "      <td>Kuwait</td>\n",
              "      <td>1</td>\n",
              "      <td>0</td>\n",
              "      <td>Friendly</td>\n",
              "      <td>Muscat</td>\n",
              "      <td>Oman</td>\n",
              "      <td>False</td>\n",
              "      <td>2011-08-27</td>\n",
              "      <td>27</td>\n",
              "      <td>95</td>\n",
              "    </tr>\n",
              "    <tr>\n",
              "      <th>3</th>\n",
              "      <td>108</td>\n",
              "      <td>United Arab Emirates</td>\n",
              "      <td>UAE</td>\n",
              "      <td>298.87</td>\n",
              "      <td>301</td>\n",
              "      <td>1</td>\n",
              "      <td>132.31</td>\n",
              "      <td>132.31</td>\n",
              "      <td>230.12</td>\n",
              "      <td>115.06</td>\n",
              "      <td>66.82</td>\n",
              "      <td>20.05</td>\n",
              "      <td>157.27</td>\n",
              "      <td>31.45</td>\n",
              "      <td>AFC</td>\n",
              "      <td>2011-08-24</td>\n",
              "      <td>2011</td>\n",
              "      <td>8</td>\n",
              "      <td>24</td>\n",
              "      <td>United Arab Emirates</td>\n",
              "      <td>Qatar</td>\n",
              "      <td>3</td>\n",
              "      <td>1</td>\n",
              "      <td>Friendly</td>\n",
              "      <td>al-Ain</td>\n",
              "      <td>United Arab Emirates</td>\n",
              "      <td>False</td>\n",
              "      <td>2011-08-25</td>\n",
              "      <td>25</td>\n",
              "      <td>88</td>\n",
              "    </tr>\n",
              "    <tr>\n",
              "      <th>4</th>\n",
              "      <td>114</td>\n",
              "      <td>Guyana</td>\n",
              "      <td>GUY</td>\n",
              "      <td>260.28</td>\n",
              "      <td>269</td>\n",
              "      <td>0</td>\n",
              "      <td>183.89</td>\n",
              "      <td>183.89</td>\n",
              "      <td>68.85</td>\n",
              "      <td>34.43</td>\n",
              "      <td>60.92</td>\n",
              "      <td>18.28</td>\n",
              "      <td>118.41</td>\n",
              "      <td>23.68</td>\n",
              "      <td>CONCACAF</td>\n",
              "      <td>2011-08-24</td>\n",
              "      <td>2011</td>\n",
              "      <td>8</td>\n",
              "      <td>24</td>\n",
              "      <td>Guyana</td>\n",
              "      <td>India</td>\n",
              "      <td>2</td>\n",
              "      <td>1</td>\n",
              "      <td>Friendly</td>\n",
              "      <td>Providence</td>\n",
              "      <td>Guyana</td>\n",
              "      <td>False</td>\n",
              "      <td>2011-08-24</td>\n",
              "      <td>24</td>\n",
              "      <td>158</td>\n",
              "    </tr>\n",
              "  </tbody>\n",
              "</table>\n",
              "</div>"
            ],
            "text/plain": [
              "   rank_x          country_full country_abrv  ...  date_parsed_y  day_y  rank_y\n",
              "0      92                Jordan          JOR  ...     2011-08-27     27     131\n",
              "1     101               Bahrain          BHR  ...     2011-08-26     26      98\n",
              "2     103                  Oman          OMA  ...     2011-08-27     27      95\n",
              "3     108  United Arab Emirates          UAE  ...     2011-08-25     25      88\n",
              "4     114                Guyana          GUY  ...     2011-08-24     24     158\n",
              "\n",
              "[5 rows x 30 columns]"
            ]
          },
          "metadata": {
            "tags": []
          },
          "execution_count": 39
        }
      ]
    },
    {
      "cell_type": "code",
      "metadata": {
        "id": "GnVmWPw_oAw1",
        "colab_type": "code",
        "colab": {
          "base_uri": "https://localhost:8080/",
          "height": 34
        },
        "outputId": "466bfb1f-9932-4ada-9d19-3cef6e0d38bf"
      },
      "source": [
        "#checking for the rows and columns\n",
        "data.shape"
      ],
      "execution_count": 40,
      "outputs": [
        {
          "output_type": "execute_result",
          "data": {
            "text/plain": [
              "(8549, 30)"
            ]
          },
          "metadata": {
            "tags": []
          },
          "execution_count": 40
        }
      ]
    },
    {
      "cell_type": "code",
      "metadata": {
        "id": "IQU4s7OMKx4e",
        "colab_type": "code",
        "colab": {
          "base_uri": "https://localhost:8080/",
          "height": 394
        },
        "outputId": "278c5633-0079-4fb5-fa9f-c403963bbcfb"
      },
      "source": [
        "#organising the dataset columns and removing the repeated ones.\n",
        "data.rename({'rank_x' : 'home_team_rank','rank_y' : 'away_team_rank', 'date_parsed_y' : 'date'}, axis = 1, inplace = True)\n",
        "data = data.sort_values(by='date').reset_index()\n",
        "data = data.drop(columns=['date_parsed_x','day_x','day_y','month','index'])\n",
        "data.head()"
      ],
      "execution_count": 41,
      "outputs": [
        {
          "output_type": "execute_result",
          "data": {
            "text/html": [
              "<div>\n",
              "<style scoped>\n",
              "    .dataframe tbody tr th:only-of-type {\n",
              "        vertical-align: middle;\n",
              "    }\n",
              "\n",
              "    .dataframe tbody tr th {\n",
              "        vertical-align: top;\n",
              "    }\n",
              "\n",
              "    .dataframe thead th {\n",
              "        text-align: right;\n",
              "    }\n",
              "</style>\n",
              "<table border=\"1\" class=\"dataframe\">\n",
              "  <thead>\n",
              "    <tr style=\"text-align: right;\">\n",
              "      <th></th>\n",
              "      <th>home_team_rank</th>\n",
              "      <th>country_full</th>\n",
              "      <th>country_abrv</th>\n",
              "      <th>total_points</th>\n",
              "      <th>previous_points</th>\n",
              "      <th>rank_change</th>\n",
              "      <th>cur_year_avg</th>\n",
              "      <th>cur_year_avg_weighted</th>\n",
              "      <th>last_year_avg</th>\n",
              "      <th>last_year_avg_weighted</th>\n",
              "      <th>two_year_ago_avg</th>\n",
              "      <th>two_year_ago_weighted</th>\n",
              "      <th>three_year_ago_avg</th>\n",
              "      <th>three_year_ago_weighted</th>\n",
              "      <th>confederation</th>\n",
              "      <th>year</th>\n",
              "      <th>home_team</th>\n",
              "      <th>away_team</th>\n",
              "      <th>home_score</th>\n",
              "      <th>away_score</th>\n",
              "      <th>tournament</th>\n",
              "      <th>city</th>\n",
              "      <th>country</th>\n",
              "      <th>neutral</th>\n",
              "      <th>date</th>\n",
              "      <th>away_team_rank</th>\n",
              "    </tr>\n",
              "  </thead>\n",
              "  <tbody>\n",
              "    <tr>\n",
              "      <th>0</th>\n",
              "      <td>114</td>\n",
              "      <td>Guyana</td>\n",
              "      <td>GUY</td>\n",
              "      <td>260.28</td>\n",
              "      <td>269</td>\n",
              "      <td>0</td>\n",
              "      <td>183.89</td>\n",
              "      <td>183.89</td>\n",
              "      <td>68.85</td>\n",
              "      <td>34.43</td>\n",
              "      <td>60.92</td>\n",
              "      <td>18.28</td>\n",
              "      <td>118.41</td>\n",
              "      <td>23.68</td>\n",
              "      <td>CONCACAF</td>\n",
              "      <td>2011</td>\n",
              "      <td>Guyana</td>\n",
              "      <td>India</td>\n",
              "      <td>2</td>\n",
              "      <td>1</td>\n",
              "      <td>Friendly</td>\n",
              "      <td>Providence</td>\n",
              "      <td>Guyana</td>\n",
              "      <td>False</td>\n",
              "      <td>2011-08-24</td>\n",
              "      <td>158</td>\n",
              "    </tr>\n",
              "    <tr>\n",
              "      <th>1</th>\n",
              "      <td>120</td>\n",
              "      <td>Thailand</td>\n",
              "      <td>THA</td>\n",
              "      <td>245.77</td>\n",
              "      <td>252</td>\n",
              "      <td>-2</td>\n",
              "      <td>111.99</td>\n",
              "      <td>111.99</td>\n",
              "      <td>123.07</td>\n",
              "      <td>61.53</td>\n",
              "      <td>129.94</td>\n",
              "      <td>38.98</td>\n",
              "      <td>166.33</td>\n",
              "      <td>33.27</td>\n",
              "      <td>AFC</td>\n",
              "      <td>2011</td>\n",
              "      <td>Thailand</td>\n",
              "      <td>Singapore</td>\n",
              "      <td>0</td>\n",
              "      <td>0</td>\n",
              "      <td>Friendly</td>\n",
              "      <td>Bangkok</td>\n",
              "      <td>Thailand</td>\n",
              "      <td>False</td>\n",
              "      <td>2011-08-24</td>\n",
              "      <td>129</td>\n",
              "    </tr>\n",
              "    <tr>\n",
              "      <th>2</th>\n",
              "      <td>108</td>\n",
              "      <td>United Arab Emirates</td>\n",
              "      <td>UAE</td>\n",
              "      <td>298.87</td>\n",
              "      <td>301</td>\n",
              "      <td>1</td>\n",
              "      <td>132.31</td>\n",
              "      <td>132.31</td>\n",
              "      <td>230.12</td>\n",
              "      <td>115.06</td>\n",
              "      <td>66.82</td>\n",
              "      <td>20.05</td>\n",
              "      <td>157.27</td>\n",
              "      <td>31.45</td>\n",
              "      <td>AFC</td>\n",
              "      <td>2011</td>\n",
              "      <td>United Arab Emirates</td>\n",
              "      <td>Qatar</td>\n",
              "      <td>3</td>\n",
              "      <td>1</td>\n",
              "      <td>Friendly</td>\n",
              "      <td>al-Ain</td>\n",
              "      <td>United Arab Emirates</td>\n",
              "      <td>False</td>\n",
              "      <td>2011-08-25</td>\n",
              "      <td>88</td>\n",
              "    </tr>\n",
              "    <tr>\n",
              "      <th>3</th>\n",
              "      <td>101</td>\n",
              "      <td>Bahrain</td>\n",
              "      <td>BHR</td>\n",
              "      <td>325.01</td>\n",
              "      <td>331</td>\n",
              "      <td>-3</td>\n",
              "      <td>88.45</td>\n",
              "      <td>88.45</td>\n",
              "      <td>196.12</td>\n",
              "      <td>98.06</td>\n",
              "      <td>264.59</td>\n",
              "      <td>79.38</td>\n",
              "      <td>295.59</td>\n",
              "      <td>59.12</td>\n",
              "      <td>AFC</td>\n",
              "      <td>2011</td>\n",
              "      <td>Bahrain</td>\n",
              "      <td>Sudan</td>\n",
              "      <td>1</td>\n",
              "      <td>0</td>\n",
              "      <td>Friendly</td>\n",
              "      <td>Riffa</td>\n",
              "      <td>Bahrain</td>\n",
              "      <td>False</td>\n",
              "      <td>2011-08-26</td>\n",
              "      <td>98</td>\n",
              "    </tr>\n",
              "    <tr>\n",
              "      <th>4</th>\n",
              "      <td>92</td>\n",
              "      <td>Jordan</td>\n",
              "      <td>JOR</td>\n",
              "      <td>348.42</td>\n",
              "      <td>364</td>\n",
              "      <td>-1</td>\n",
              "      <td>215.10</td>\n",
              "      <td>215.10</td>\n",
              "      <td>171.87</td>\n",
              "      <td>85.94</td>\n",
              "      <td>55.46</td>\n",
              "      <td>16.64</td>\n",
              "      <td>153.72</td>\n",
              "      <td>30.74</td>\n",
              "      <td>AFC</td>\n",
              "      <td>2011</td>\n",
              "      <td>Jordan</td>\n",
              "      <td>Indonesia</td>\n",
              "      <td>1</td>\n",
              "      <td>0</td>\n",
              "      <td>Friendly</td>\n",
              "      <td>Amman</td>\n",
              "      <td>Jordan</td>\n",
              "      <td>False</td>\n",
              "      <td>2011-08-27</td>\n",
              "      <td>131</td>\n",
              "    </tr>\n",
              "  </tbody>\n",
              "</table>\n",
              "</div>"
            ],
            "text/plain": [
              "   home_team_rank          country_full  ...       date  away_team_rank\n",
              "0             114                Guyana  ... 2011-08-24             158\n",
              "1             120              Thailand  ... 2011-08-24             129\n",
              "2             108  United Arab Emirates  ... 2011-08-25              88\n",
              "3             101               Bahrain  ... 2011-08-26              98\n",
              "4              92                Jordan  ... 2011-08-27             131\n",
              "\n",
              "[5 rows x 26 columns]"
            ]
          },
          "metadata": {
            "tags": []
          },
          "execution_count": 41
        }
      ]
    },
    {
      "cell_type": "code",
      "metadata": {
        "id": "Pz_nDcMjrgXu",
        "colab_type": "code",
        "colab": {
          "base_uri": "https://localhost:8080/",
          "height": 34
        },
        "outputId": "705c9547-2f4c-4963-be0c-4c626fba2d4f"
      },
      "source": [
        "#checking for duplicated instances in the dataset.\n",
        "data.duplicated().sum()"
      ],
      "execution_count": 42,
      "outputs": [
        {
          "output_type": "execute_result",
          "data": {
            "text/plain": [
              "3280"
            ]
          },
          "metadata": {
            "tags": []
          },
          "execution_count": 42
        }
      ]
    },
    {
      "cell_type": "code",
      "metadata": {
        "id": "dxc5tWQassM1",
        "colab_type": "code",
        "colab": {}
      },
      "source": [
        "#dropping the duplicates.\n",
        "data.drop_duplicates(keep=False,inplace=True)"
      ],
      "execution_count": 43,
      "outputs": []
    },
    {
      "cell_type": "code",
      "metadata": {
        "id": "mBDXumFBsv9a",
        "colab_type": "code",
        "colab": {
          "base_uri": "https://localhost:8080/",
          "height": 34
        },
        "outputId": "74cfb44a-30e8-41ff-9806-bde375aaebe7"
      },
      "source": [
        "#confirming the deletion of the duplicates.\n",
        "data.duplicated().sum()"
      ],
      "execution_count": 44,
      "outputs": [
        {
          "output_type": "execute_result",
          "data": {
            "text/plain": [
              "0"
            ]
          },
          "metadata": {
            "tags": []
          },
          "execution_count": 44
        }
      ]
    },
    {
      "cell_type": "code",
      "metadata": {
        "id": "ftvJVoDn2WwK",
        "colab_type": "code",
        "colab": {
          "base_uri": "https://localhost:8080/",
          "height": 34
        },
        "outputId": "c96ed662-7519-4a58-b3eb-654a4bd893a6"
      },
      "source": [
        "data.shape"
      ],
      "execution_count": 45,
      "outputs": [
        {
          "output_type": "execute_result",
          "data": {
            "text/plain": [
              "(3016, 26)"
            ]
          },
          "metadata": {
            "tags": []
          },
          "execution_count": 45
        }
      ]
    },
    {
      "cell_type": "code",
      "metadata": {
        "id": "OzI08TDWNm87",
        "colab_type": "code",
        "colab": {}
      },
      "source": [
        "#importing libraries for plotting.\n",
        "import matplotlib.pyplot as plt"
      ],
      "execution_count": 46,
      "outputs": []
    },
    {
      "cell_type": "code",
      "metadata": {
        "id": "78Rfwd0rMxsX",
        "colab_type": "code",
        "colab": {}
      },
      "source": [
        "#asigning the rows to different lists for plotting in order to check for outliers.\n",
        "data_1 = data['home_team_rank']\n",
        "data_2 = data['away_team_rank']\n",
        "data_3 = data['previous_points']\n",
        "data_4 = data['rank_change']\n",
        "data_5 = data['home_score']\n",
        "data_6 = data['away_score']\n",
        "data_7 = data['total_points']\n",
        "data_8 = data['cur_year_avg']\n",
        "data_9 = data['cur_year_avg_weighted']\n",
        "data_10 = data['last_year_avg']\n",
        "data_11 = data['last_year_avg_weighted']\n",
        "data_12 = data['two_year_ago_avg']\n",
        "data_13 = data['two_year_ago_weighted']\n",
        "data_14 = data['three_year_ago_avg']\n",
        "data_15 = data['three_year_ago_weighted']"
      ],
      "execution_count": 47,
      "outputs": []
    },
    {
      "cell_type": "code",
      "metadata": {
        "id": "qa-suw3iePdc",
        "colab_type": "code",
        "colab": {
          "base_uri": "https://localhost:8080/",
          "height": 568
        },
        "outputId": "940a87d9-c40e-4964-f47c-68470fcfea59"
      },
      "source": [
        "#declaring the lists(rows) to plot to see outliers.\n",
        "plots1 = [data_7, data_8, data_9, data_10, data_11, data_12, data_13, data_14, data_15] \n",
        "#plotting the boxplots.\n",
        "fig = plt.figure(figsize =(10, 7)) \n",
        "ax = fig.add_axes([0,0,1,1]) \n",
        "bp = ax.boxplot(plots1)\n",
        "plt.title('Outliers.')\n",
        "plt.show() "
      ],
      "execution_count": 48,
      "outputs": [
        {
          "output_type": "display_data",
          "data": {
            "image/png": "[encoded data removed]",
            "text/plain": [
              "<Figure size 720x504 with 1 Axes>"
            ]
          },
          "metadata": {
            "tags": [],
            "needs_background": "light"
          }
        }
      ]
    },
    {
      "cell_type": "code",
      "metadata": {
        "id": "it_G_f-SeX3u",
        "colab_type": "code",
        "colab": {
          "base_uri": "https://localhost:8080/",
          "height": 568
        },
        "outputId": "083cf8cd-26e5-488c-c9f9-9cdbf49bb25f"
      },
      "source": [
        "#declaring the lists(rows) to plot to see outliers.\n",
        "plots2 = [data_4, data_5, data_6] \n",
        "#plotting the boxplots.\n",
        "fig = plt.figure(figsize =(10, 7)) \n",
        "ax = fig.add_axes([0,0,1,1]) \n",
        "bp = ax.boxplot(plots2)\n",
        "plt.title('Outliers.')\n",
        "plt.show() "
      ],
      "execution_count": 49,
      "outputs": [
        {
          "output_type": "display_data",
          "data": {
            "image/png": "[encoded data removed]",
            "text/plain": [
              "<Figure size 720x504 with 1 Axes>"
            ]
          },
          "metadata": {
            "tags": [],
            "needs_background": "light"
          }
        }
      ]
    },
    {
      "cell_type": "code",
      "metadata": {
        "id": "s_ar3hBteh3A",
        "colab_type": "code",
        "colab": {
          "base_uri": "https://localhost:8080/",
          "height": 568
        },
        "outputId": "14a286eb-37e0-4e38-bf5e-aaf3713e6cb9"
      },
      "source": [
        "#declaring the lists(rows) to plot to see outliers.\n",
        "plots3 = [data_1, data_2] \n",
        "#plotting the boxplots.\n",
        "fig = plt.figure(figsize =(10, 7)) \n",
        "ax = fig.add_axes([0,0,1,1]) \n",
        "bp = ax.boxplot(plots3)\n",
        "plt.title('Outliers.')\n",
        "plt.show() "
      ],
      "execution_count": 50,
      "outputs": [
        {
          "output_type": "display_data",
          "data": {
            "image/png": "[encoded data removed]",
            "text/plain": [
              "<Figure size 720x504 with 1 Axes>"
            ]
          },
          "metadata": {
            "tags": [],
            "needs_background": "light"
          }
        }
      ]
    },
    {
      "cell_type": "code",
      "metadata": {
        "id": "UkKiRw37bejb",
        "colab_type": "code",
        "colab": {
          "base_uri": "https://localhost:8080/",
          "height": 265
        },
        "outputId": "bc6b488f-330c-4b19-b128-4ad244439f42"
      },
      "source": [
        "#declaring the lists(rows) to plot to see outliers.\n",
        "#plotting the boxplot\n",
        "plt.boxplot(data_3)\n",
        "plt.title('')\n",
        "plt.show()"
      ],
      "execution_count": 51,
      "outputs": [
        {
          "output_type": "display_data",
          "data": {
            "image/png": "[encoded data removed]",
            "text/plain": [
              "<Figure size 432x288 with 1 Axes>"
            ]
          },
          "metadata": {
            "tags": [],
            "needs_background": "light"
          }
        }
      ]
    },
    {
      "cell_type": "code",
      "metadata": {
        "id": "QXOoCnWRWrT_",
        "colab_type": "code",
        "colab": {
          "base_uri": "https://localhost:8080/",
          "height": 394
        },
        "outputId": "69cbf7d5-e743-4acf-c337-e1921d697e5f"
      },
      "source": [
        "#creating conditions for the tournaments and assigning the results to a new column\n",
        "friendly = (data[\"tournament\"] == \"Friendly\")\n",
        "worldcup = (data[\"tournament\"] == 'FIFA World Cup qualification') | (data['tournament'] == 'FIFA World Cup')\n",
        "other = (data[\"tournament\"] != \"Friendly\") & (data[\"tournament\"] != \"FIFA World Cup qualification\") & (data[\"tournament\"] != \"FIFA World Cup\")\n",
        "conditions = [friendly, worldcup, other]\n",
        "choices = [\"Friendly\", \"WorldCup\", \"Other\"]\n",
        "data[\"tournament_1\"] = np.select(conditions,choices)\n",
        "data.head()"
      ],
      "execution_count": 53,
      "outputs": [
        {
          "output_type": "execute_result",
          "data": {
            "text/html": [
              "<div>\n",
              "<style scoped>\n",
              "    .dataframe tbody tr th:only-of-type {\n",
              "        vertical-align: middle;\n",
              "    }\n",
              "\n",
              "    .dataframe tbody tr th {\n",
              "        vertical-align: top;\n",
              "    }\n",
              "\n",
              "    .dataframe thead th {\n",
              "        text-align: right;\n",
              "    }\n",
              "</style>\n",
              "<table border=\"1\" class=\"dataframe\">\n",
              "  <thead>\n",
              "    <tr style=\"text-align: right;\">\n",
              "      <th></th>\n",
              "      <th>home_team_rank</th>\n",
              "      <th>country_full</th>\n",
              "      <th>country_abrv</th>\n",
              "      <th>total_points</th>\n",
              "      <th>previous_points</th>\n",
              "      <th>rank_change</th>\n",
              "      <th>cur_year_avg</th>\n",
              "      <th>cur_year_avg_weighted</th>\n",
              "      <th>last_year_avg</th>\n",
              "      <th>last_year_avg_weighted</th>\n",
              "      <th>two_year_ago_avg</th>\n",
              "      <th>two_year_ago_weighted</th>\n",
              "      <th>three_year_ago_avg</th>\n",
              "      <th>three_year_ago_weighted</th>\n",
              "      <th>confederation</th>\n",
              "      <th>year</th>\n",
              "      <th>home_team</th>\n",
              "      <th>away_team</th>\n",
              "      <th>home_score</th>\n",
              "      <th>away_score</th>\n",
              "      <th>tournament</th>\n",
              "      <th>city</th>\n",
              "      <th>country</th>\n",
              "      <th>neutral</th>\n",
              "      <th>date</th>\n",
              "      <th>away_team_rank</th>\n",
              "      <th>tournament_1</th>\n",
              "    </tr>\n",
              "  </thead>\n",
              "  <tbody>\n",
              "    <tr>\n",
              "      <th>0</th>\n",
              "      <td>114</td>\n",
              "      <td>Guyana</td>\n",
              "      <td>GUY</td>\n",
              "      <td>260.28</td>\n",
              "      <td>269</td>\n",
              "      <td>0</td>\n",
              "      <td>183.89</td>\n",
              "      <td>183.89</td>\n",
              "      <td>68.85</td>\n",
              "      <td>34.43</td>\n",
              "      <td>60.92</td>\n",
              "      <td>18.28</td>\n",
              "      <td>118.41</td>\n",
              "      <td>23.68</td>\n",
              "      <td>CONCACAF</td>\n",
              "      <td>2011</td>\n",
              "      <td>Guyana</td>\n",
              "      <td>India</td>\n",
              "      <td>2</td>\n",
              "      <td>1</td>\n",
              "      <td>Friendly</td>\n",
              "      <td>Providence</td>\n",
              "      <td>Guyana</td>\n",
              "      <td>False</td>\n",
              "      <td>2011-08-24</td>\n",
              "      <td>158</td>\n",
              "      <td>Friendly</td>\n",
              "    </tr>\n",
              "    <tr>\n",
              "      <th>1</th>\n",
              "      <td>120</td>\n",
              "      <td>Thailand</td>\n",
              "      <td>THA</td>\n",
              "      <td>245.77</td>\n",
              "      <td>252</td>\n",
              "      <td>-2</td>\n",
              "      <td>111.99</td>\n",
              "      <td>111.99</td>\n",
              "      <td>123.07</td>\n",
              "      <td>61.53</td>\n",
              "      <td>129.94</td>\n",
              "      <td>38.98</td>\n",
              "      <td>166.33</td>\n",
              "      <td>33.27</td>\n",
              "      <td>AFC</td>\n",
              "      <td>2011</td>\n",
              "      <td>Thailand</td>\n",
              "      <td>Singapore</td>\n",
              "      <td>0</td>\n",
              "      <td>0</td>\n",
              "      <td>Friendly</td>\n",
              "      <td>Bangkok</td>\n",
              "      <td>Thailand</td>\n",
              "      <td>False</td>\n",
              "      <td>2011-08-24</td>\n",
              "      <td>129</td>\n",
              "      <td>Friendly</td>\n",
              "    </tr>\n",
              "    <tr>\n",
              "      <th>2</th>\n",
              "      <td>108</td>\n",
              "      <td>United Arab Emirates</td>\n",
              "      <td>UAE</td>\n",
              "      <td>298.87</td>\n",
              "      <td>301</td>\n",
              "      <td>1</td>\n",
              "      <td>132.31</td>\n",
              "      <td>132.31</td>\n",
              "      <td>230.12</td>\n",
              "      <td>115.06</td>\n",
              "      <td>66.82</td>\n",
              "      <td>20.05</td>\n",
              "      <td>157.27</td>\n",
              "      <td>31.45</td>\n",
              "      <td>AFC</td>\n",
              "      <td>2011</td>\n",
              "      <td>United Arab Emirates</td>\n",
              "      <td>Qatar</td>\n",
              "      <td>3</td>\n",
              "      <td>1</td>\n",
              "      <td>Friendly</td>\n",
              "      <td>al-Ain</td>\n",
              "      <td>United Arab Emirates</td>\n",
              "      <td>False</td>\n",
              "      <td>2011-08-25</td>\n",
              "      <td>88</td>\n",
              "      <td>Friendly</td>\n",
              "    </tr>\n",
              "    <tr>\n",
              "      <th>3</th>\n",
              "      <td>101</td>\n",
              "      <td>Bahrain</td>\n",
              "      <td>BHR</td>\n",
              "      <td>325.01</td>\n",
              "      <td>331</td>\n",
              "      <td>-3</td>\n",
              "      <td>88.45</td>\n",
              "      <td>88.45</td>\n",
              "      <td>196.12</td>\n",
              "      <td>98.06</td>\n",
              "      <td>264.59</td>\n",
              "      <td>79.38</td>\n",
              "      <td>295.59</td>\n",
              "      <td>59.12</td>\n",
              "      <td>AFC</td>\n",
              "      <td>2011</td>\n",
              "      <td>Bahrain</td>\n",
              "      <td>Sudan</td>\n",
              "      <td>1</td>\n",
              "      <td>0</td>\n",
              "      <td>Friendly</td>\n",
              "      <td>Riffa</td>\n",
              "      <td>Bahrain</td>\n",
              "      <td>False</td>\n",
              "      <td>2011-08-26</td>\n",
              "      <td>98</td>\n",
              "      <td>Friendly</td>\n",
              "    </tr>\n",
              "    <tr>\n",
              "      <th>4</th>\n",
              "      <td>92</td>\n",
              "      <td>Jordan</td>\n",
              "      <td>JOR</td>\n",
              "      <td>348.42</td>\n",
              "      <td>364</td>\n",
              "      <td>-1</td>\n",
              "      <td>215.10</td>\n",
              "      <td>215.10</td>\n",
              "      <td>171.87</td>\n",
              "      <td>85.94</td>\n",
              "      <td>55.46</td>\n",
              "      <td>16.64</td>\n",
              "      <td>153.72</td>\n",
              "      <td>30.74</td>\n",
              "      <td>AFC</td>\n",
              "      <td>2011</td>\n",
              "      <td>Jordan</td>\n",
              "      <td>Indonesia</td>\n",
              "      <td>1</td>\n",
              "      <td>0</td>\n",
              "      <td>Friendly</td>\n",
              "      <td>Amman</td>\n",
              "      <td>Jordan</td>\n",
              "      <td>False</td>\n",
              "      <td>2011-08-27</td>\n",
              "      <td>131</td>\n",
              "      <td>Friendly</td>\n",
              "    </tr>\n",
              "  </tbody>\n",
              "</table>\n",
              "</div>"
            ],
            "text/plain": [
              "   home_team_rank          country_full  ... away_team_rank  tournament_1\n",
              "0             114                Guyana  ...            158      Friendly\n",
              "1             120              Thailand  ...            129      Friendly\n",
              "2             108  United Arab Emirates  ...             88      Friendly\n",
              "3             101               Bahrain  ...             98      Friendly\n",
              "4              92                Jordan  ...            131      Friendly\n",
              "\n",
              "[5 rows x 27 columns]"
            ]
          },
          "metadata": {
            "tags": []
          },
          "execution_count": 53
        }
      ]
    },
    {
      "cell_type": "code",
      "metadata": {
        "id": "ORHH-JdZk1nC",
        "colab_type": "code",
        "colab": {
          "base_uri": "https://localhost:8080/",
          "height": 394
        },
        "outputId": "aa471a99-6a65-4eb0-8e14-3f492922d6a6"
      },
      "source": [
        "#creating conditions for the match results and assigning the results to a new column\n",
        "win = (data[\"home_score\"] > data[\"away_score\"])\n",
        "loss = (data[\"home_score\"] < data[\"away_score\"])\n",
        "draw = (data[\"home_score\"] == data[\"away_score\"])\n",
        "conditions = [win, loss, draw]\n",
        "choices = [\"Win\", \"Loss\", \"Draw\"]\n",
        "data[\"result\"] = np.select(conditions,choices,default=\"\")\n",
        "data.head()"
      ],
      "execution_count": 55,
      "outputs": [
        {
          "output_type": "execute_result",
          "data": {
            "text/html": [
              "<div>\n",
              "<style scoped>\n",
              "    .dataframe tbody tr th:only-of-type {\n",
              "        vertical-align: middle;\n",
              "    }\n",
              "\n",
              "    .dataframe tbody tr th {\n",
              "        vertical-align: top;\n",
              "    }\n",
              "\n",
              "    .dataframe thead th {\n",
              "        text-align: right;\n",
              "    }\n",
              "</style>\n",
              "<table border=\"1\" class=\"dataframe\">\n",
              "  <thead>\n",
              "    <tr style=\"text-align: right;\">\n",
              "      <th></th>\n",
              "      <th>home_team_rank</th>\n",
              "      <th>country_full</th>\n",
              "      <th>country_abrv</th>\n",
              "      <th>total_points</th>\n",
              "      <th>previous_points</th>\n",
              "      <th>rank_change</th>\n",
              "      <th>cur_year_avg</th>\n",
              "      <th>cur_year_avg_weighted</th>\n",
              "      <th>last_year_avg</th>\n",
              "      <th>last_year_avg_weighted</th>\n",
              "      <th>two_year_ago_avg</th>\n",
              "      <th>two_year_ago_weighted</th>\n",
              "      <th>three_year_ago_avg</th>\n",
              "      <th>three_year_ago_weighted</th>\n",
              "      <th>confederation</th>\n",
              "      <th>year</th>\n",
              "      <th>home_team</th>\n",
              "      <th>away_team</th>\n",
              "      <th>home_score</th>\n",
              "      <th>away_score</th>\n",
              "      <th>tournament</th>\n",
              "      <th>city</th>\n",
              "      <th>country</th>\n",
              "      <th>neutral</th>\n",
              "      <th>date</th>\n",
              "      <th>away_team_rank</th>\n",
              "      <th>tournament_1</th>\n",
              "      <th>result</th>\n",
              "    </tr>\n",
              "  </thead>\n",
              "  <tbody>\n",
              "    <tr>\n",
              "      <th>0</th>\n",
              "      <td>114</td>\n",
              "      <td>Guyana</td>\n",
              "      <td>GUY</td>\n",
              "      <td>260.28</td>\n",
              "      <td>269</td>\n",
              "      <td>0</td>\n",
              "      <td>183.89</td>\n",
              "      <td>183.89</td>\n",
              "      <td>68.85</td>\n",
              "      <td>34.43</td>\n",
              "      <td>60.92</td>\n",
              "      <td>18.28</td>\n",
              "      <td>118.41</td>\n",
              "      <td>23.68</td>\n",
              "      <td>CONCACAF</td>\n",
              "      <td>2011</td>\n",
              "      <td>Guyana</td>\n",
              "      <td>India</td>\n",
              "      <td>2</td>\n",
              "      <td>1</td>\n",
              "      <td>Friendly</td>\n",
              "      <td>Providence</td>\n",
              "      <td>Guyana</td>\n",
              "      <td>False</td>\n",
              "      <td>2011-08-24</td>\n",
              "      <td>158</td>\n",
              "      <td>Friendly</td>\n",
              "      <td>Win</td>\n",
              "    </tr>\n",
              "    <tr>\n",
              "      <th>1</th>\n",
              "      <td>120</td>\n",
              "      <td>Thailand</td>\n",
              "      <td>THA</td>\n",
              "      <td>245.77</td>\n",
              "      <td>252</td>\n",
              "      <td>-2</td>\n",
              "      <td>111.99</td>\n",
              "      <td>111.99</td>\n",
              "      <td>123.07</td>\n",
              "      <td>61.53</td>\n",
              "      <td>129.94</td>\n",
              "      <td>38.98</td>\n",
              "      <td>166.33</td>\n",
              "      <td>33.27</td>\n",
              "      <td>AFC</td>\n",
              "      <td>2011</td>\n",
              "      <td>Thailand</td>\n",
              "      <td>Singapore</td>\n",
              "      <td>0</td>\n",
              "      <td>0</td>\n",
              "      <td>Friendly</td>\n",
              "      <td>Bangkok</td>\n",
              "      <td>Thailand</td>\n",
              "      <td>False</td>\n",
              "      <td>2011-08-24</td>\n",
              "      <td>129</td>\n",
              "      <td>Friendly</td>\n",
              "      <td>Draw</td>\n",
              "    </tr>\n",
              "    <tr>\n",
              "      <th>2</th>\n",
              "      <td>108</td>\n",
              "      <td>United Arab Emirates</td>\n",
              "      <td>UAE</td>\n",
              "      <td>298.87</td>\n",
              "      <td>301</td>\n",
              "      <td>1</td>\n",
              "      <td>132.31</td>\n",
              "      <td>132.31</td>\n",
              "      <td>230.12</td>\n",
              "      <td>115.06</td>\n",
              "      <td>66.82</td>\n",
              "      <td>20.05</td>\n",
              "      <td>157.27</td>\n",
              "      <td>31.45</td>\n",
              "      <td>AFC</td>\n",
              "      <td>2011</td>\n",
              "      <td>United Arab Emirates</td>\n",
              "      <td>Qatar</td>\n",
              "      <td>3</td>\n",
              "      <td>1</td>\n",
              "      <td>Friendly</td>\n",
              "      <td>al-Ain</td>\n",
              "      <td>United Arab Emirates</td>\n",
              "      <td>False</td>\n",
              "      <td>2011-08-25</td>\n",
              "      <td>88</td>\n",
              "      <td>Friendly</td>\n",
              "      <td>Win</td>\n",
              "    </tr>\n",
              "    <tr>\n",
              "      <th>3</th>\n",
              "      <td>101</td>\n",
              "      <td>Bahrain</td>\n",
              "      <td>BHR</td>\n",
              "      <td>325.01</td>\n",
              "      <td>331</td>\n",
              "      <td>-3</td>\n",
              "      <td>88.45</td>\n",
              "      <td>88.45</td>\n",
              "      <td>196.12</td>\n",
              "      <td>98.06</td>\n",
              "      <td>264.59</td>\n",
              "      <td>79.38</td>\n",
              "      <td>295.59</td>\n",
              "      <td>59.12</td>\n",
              "      <td>AFC</td>\n",
              "      <td>2011</td>\n",
              "      <td>Bahrain</td>\n",
              "      <td>Sudan</td>\n",
              "      <td>1</td>\n",
              "      <td>0</td>\n",
              "      <td>Friendly</td>\n",
              "      <td>Riffa</td>\n",
              "      <td>Bahrain</td>\n",
              "      <td>False</td>\n",
              "      <td>2011-08-26</td>\n",
              "      <td>98</td>\n",
              "      <td>Friendly</td>\n",
              "      <td>Win</td>\n",
              "    </tr>\n",
              "    <tr>\n",
              "      <th>4</th>\n",
              "      <td>92</td>\n",
              "      <td>Jordan</td>\n",
              "      <td>JOR</td>\n",
              "      <td>348.42</td>\n",
              "      <td>364</td>\n",
              "      <td>-1</td>\n",
              "      <td>215.10</td>\n",
              "      <td>215.10</td>\n",
              "      <td>171.87</td>\n",
              "      <td>85.94</td>\n",
              "      <td>55.46</td>\n",
              "      <td>16.64</td>\n",
              "      <td>153.72</td>\n",
              "      <td>30.74</td>\n",
              "      <td>AFC</td>\n",
              "      <td>2011</td>\n",
              "      <td>Jordan</td>\n",
              "      <td>Indonesia</td>\n",
              "      <td>1</td>\n",
              "      <td>0</td>\n",
              "      <td>Friendly</td>\n",
              "      <td>Amman</td>\n",
              "      <td>Jordan</td>\n",
              "      <td>False</td>\n",
              "      <td>2011-08-27</td>\n",
              "      <td>131</td>\n",
              "      <td>Friendly</td>\n",
              "      <td>Win</td>\n",
              "    </tr>\n",
              "  </tbody>\n",
              "</table>\n",
              "</div>"
            ],
            "text/plain": [
              "   home_team_rank          country_full  ... tournament_1  result\n",
              "0             114                Guyana  ...     Friendly     Win\n",
              "1             120              Thailand  ...     Friendly    Draw\n",
              "2             108  United Arab Emirates  ...     Friendly     Win\n",
              "3             101               Bahrain  ...     Friendly     Win\n",
              "4              92                Jordan  ...     Friendly     Win\n",
              "\n",
              "[5 rows x 28 columns]"
            ]
          },
          "metadata": {
            "tags": []
          },
          "execution_count": 55
        }
      ]
    },
    {
      "cell_type": "code",
      "metadata": {
        "id": "NU5cKSTAnFi3",
        "colab_type": "code",
        "colab": {
          "base_uri": "https://localhost:8080/",
          "height": 394
        },
        "outputId": "08584eed-dad5-4d2a-bf96-a8056e96af74"
      },
      "source": [
        "#creating a new column for the total scores in a match\n",
        "data['total_scores'] = data['home_score'] + data['away_score']\n",
        "data.head()"
      ],
      "execution_count": 56,
      "outputs": [
        {
          "output_type": "execute_result",
          "data": {
            "text/html": [
              "<div>\n",
              "<style scoped>\n",
              "    .dataframe tbody tr th:only-of-type {\n",
              "        vertical-align: middle;\n",
              "    }\n",
              "\n",
              "    .dataframe tbody tr th {\n",
              "        vertical-align: top;\n",
              "    }\n",
              "\n",
              "    .dataframe thead th {\n",
              "        text-align: right;\n",
              "    }\n",
              "</style>\n",
              "<table border=\"1\" class=\"dataframe\">\n",
              "  <thead>\n",
              "    <tr style=\"text-align: right;\">\n",
              "      <th></th>\n",
              "      <th>home_team_rank</th>\n",
              "      <th>country_full</th>\n",
              "      <th>country_abrv</th>\n",
              "      <th>total_points</th>\n",
              "      <th>previous_points</th>\n",
              "      <th>rank_change</th>\n",
              "      <th>cur_year_avg</th>\n",
              "      <th>cur_year_avg_weighted</th>\n",
              "      <th>last_year_avg</th>\n",
              "      <th>last_year_avg_weighted</th>\n",
              "      <th>two_year_ago_avg</th>\n",
              "      <th>two_year_ago_weighted</th>\n",
              "      <th>three_year_ago_avg</th>\n",
              "      <th>three_year_ago_weighted</th>\n",
              "      <th>confederation</th>\n",
              "      <th>year</th>\n",
              "      <th>home_team</th>\n",
              "      <th>away_team</th>\n",
              "      <th>home_score</th>\n",
              "      <th>away_score</th>\n",
              "      <th>tournament</th>\n",
              "      <th>city</th>\n",
              "      <th>country</th>\n",
              "      <th>neutral</th>\n",
              "      <th>date</th>\n",
              "      <th>away_team_rank</th>\n",
              "      <th>tournament_1</th>\n",
              "      <th>result</th>\n",
              "      <th>total_scores</th>\n",
              "    </tr>\n",
              "  </thead>\n",
              "  <tbody>\n",
              "    <tr>\n",
              "      <th>0</th>\n",
              "      <td>114</td>\n",
              "      <td>Guyana</td>\n",
              "      <td>GUY</td>\n",
              "      <td>260.28</td>\n",
              "      <td>269</td>\n",
              "      <td>0</td>\n",
              "      <td>183.89</td>\n",
              "      <td>183.89</td>\n",
              "      <td>68.85</td>\n",
              "      <td>34.43</td>\n",
              "      <td>60.92</td>\n",
              "      <td>18.28</td>\n",
              "      <td>118.41</td>\n",
              "      <td>23.68</td>\n",
              "      <td>CONCACAF</td>\n",
              "      <td>2011</td>\n",
              "      <td>Guyana</td>\n",
              "      <td>India</td>\n",
              "      <td>2</td>\n",
              "      <td>1</td>\n",
              "      <td>Friendly</td>\n",
              "      <td>Providence</td>\n",
              "      <td>Guyana</td>\n",
              "      <td>False</td>\n",
              "      <td>2011-08-24</td>\n",
              "      <td>158</td>\n",
              "      <td>Friendly</td>\n",
              "      <td>Win</td>\n",
              "      <td>3</td>\n",
              "    </tr>\n",
              "    <tr>\n",
              "      <th>1</th>\n",
              "      <td>120</td>\n",
              "      <td>Thailand</td>\n",
              "      <td>THA</td>\n",
              "      <td>245.77</td>\n",
              "      <td>252</td>\n",
              "      <td>-2</td>\n",
              "      <td>111.99</td>\n",
              "      <td>111.99</td>\n",
              "      <td>123.07</td>\n",
              "      <td>61.53</td>\n",
              "      <td>129.94</td>\n",
              "      <td>38.98</td>\n",
              "      <td>166.33</td>\n",
              "      <td>33.27</td>\n",
              "      <td>AFC</td>\n",
              "      <td>2011</td>\n",
              "      <td>Thailand</td>\n",
              "      <td>Singapore</td>\n",
              "      <td>0</td>\n",
              "      <td>0</td>\n",
              "      <td>Friendly</td>\n",
              "      <td>Bangkok</td>\n",
              "      <td>Thailand</td>\n",
              "      <td>False</td>\n",
              "      <td>2011-08-24</td>\n",
              "      <td>129</td>\n",
              "      <td>Friendly</td>\n",
              "      <td>Draw</td>\n",
              "      <td>0</td>\n",
              "    </tr>\n",
              "    <tr>\n",
              "      <th>2</th>\n",
              "      <td>108</td>\n",
              "      <td>United Arab Emirates</td>\n",
              "      <td>UAE</td>\n",
              "      <td>298.87</td>\n",
              "      <td>301</td>\n",
              "      <td>1</td>\n",
              "      <td>132.31</td>\n",
              "      <td>132.31</td>\n",
              "      <td>230.12</td>\n",
              "      <td>115.06</td>\n",
              "      <td>66.82</td>\n",
              "      <td>20.05</td>\n",
              "      <td>157.27</td>\n",
              "      <td>31.45</td>\n",
              "      <td>AFC</td>\n",
              "      <td>2011</td>\n",
              "      <td>United Arab Emirates</td>\n",
              "      <td>Qatar</td>\n",
              "      <td>3</td>\n",
              "      <td>1</td>\n",
              "      <td>Friendly</td>\n",
              "      <td>al-Ain</td>\n",
              "      <td>United Arab Emirates</td>\n",
              "      <td>False</td>\n",
              "      <td>2011-08-25</td>\n",
              "      <td>88</td>\n",
              "      <td>Friendly</td>\n",
              "      <td>Win</td>\n",
              "      <td>4</td>\n",
              "    </tr>\n",
              "    <tr>\n",
              "      <th>3</th>\n",
              "      <td>101</td>\n",
              "      <td>Bahrain</td>\n",
              "      <td>BHR</td>\n",
              "      <td>325.01</td>\n",
              "      <td>331</td>\n",
              "      <td>-3</td>\n",
              "      <td>88.45</td>\n",
              "      <td>88.45</td>\n",
              "      <td>196.12</td>\n",
              "      <td>98.06</td>\n",
              "      <td>264.59</td>\n",
              "      <td>79.38</td>\n",
              "      <td>295.59</td>\n",
              "      <td>59.12</td>\n",
              "      <td>AFC</td>\n",
              "      <td>2011</td>\n",
              "      <td>Bahrain</td>\n",
              "      <td>Sudan</td>\n",
              "      <td>1</td>\n",
              "      <td>0</td>\n",
              "      <td>Friendly</td>\n",
              "      <td>Riffa</td>\n",
              "      <td>Bahrain</td>\n",
              "      <td>False</td>\n",
              "      <td>2011-08-26</td>\n",
              "      <td>98</td>\n",
              "      <td>Friendly</td>\n",
              "      <td>Win</td>\n",
              "      <td>1</td>\n",
              "    </tr>\n",
              "    <tr>\n",
              "      <th>4</th>\n",
              "      <td>92</td>\n",
              "      <td>Jordan</td>\n",
              "      <td>JOR</td>\n",
              "      <td>348.42</td>\n",
              "      <td>364</td>\n",
              "      <td>-1</td>\n",
              "      <td>215.10</td>\n",
              "      <td>215.10</td>\n",
              "      <td>171.87</td>\n",
              "      <td>85.94</td>\n",
              "      <td>55.46</td>\n",
              "      <td>16.64</td>\n",
              "      <td>153.72</td>\n",
              "      <td>30.74</td>\n",
              "      <td>AFC</td>\n",
              "      <td>2011</td>\n",
              "      <td>Jordan</td>\n",
              "      <td>Indonesia</td>\n",
              "      <td>1</td>\n",
              "      <td>0</td>\n",
              "      <td>Friendly</td>\n",
              "      <td>Amman</td>\n",
              "      <td>Jordan</td>\n",
              "      <td>False</td>\n",
              "      <td>2011-08-27</td>\n",
              "      <td>131</td>\n",
              "      <td>Friendly</td>\n",
              "      <td>Win</td>\n",
              "      <td>1</td>\n",
              "    </tr>\n",
              "  </tbody>\n",
              "</table>\n",
              "</div>"
            ],
            "text/plain": [
              "   home_team_rank          country_full  ... result  total_scores\n",
              "0             114                Guyana  ...    Win             3\n",
              "1             120              Thailand  ...   Draw             0\n",
              "2             108  United Arab Emirates  ...    Win             4\n",
              "3             101               Bahrain  ...    Win             1\n",
              "4              92                Jordan  ...    Win             1\n",
              "\n",
              "[5 rows x 29 columns]"
            ]
          },
          "metadata": {
            "tags": []
          },
          "execution_count": 56
        }
      ]
    },
    {
      "cell_type": "code",
      "metadata": {
        "id": "BjwSCTa003iS",
        "colab_type": "code",
        "colab": {
          "base_uri": "https://localhost:8080/",
          "height": 282
        },
        "outputId": "e8b55a29-65bf-4798-a9c3-ce9f87bb1382"
      },
      "source": [
        "#plotting a histogram for the total scores\n",
        "plt.hist(data['total_scores'],color='orange')\n",
        "\n",
        "plt.show"
      ],
      "execution_count": 58,
      "outputs": [
        {
          "output_type": "execute_result",
          "data": {
            "text/plain": [
              "<function matplotlib.pyplot.show>"
            ]
          },
          "metadata": {
            "tags": []
          },
          "execution_count": 58
        },
        {
          "output_type": "display_data",
          "data": {
            "image/png": "[encoded data removed]",
            "text/plain": [
              "<Figure size 432x288 with 1 Axes>"
            ]
          },
          "metadata": {
            "tags": [],
            "needs_background": "light"
          }
        }
      ]
    },
    {
      "cell_type": "markdown",
      "metadata": {
        "id": "Xkdc9sTgfQOH",
        "colab_type": "text"
      },
      "source": [
        "Most matches have a total score of between 3 and 4 goals"
      ]
    },
    {
      "cell_type": "code",
      "metadata": {
        "id": "4-g_20WbbNwr",
        "colab_type": "code",
        "colab": {
          "base_uri": "https://localhost:8080/",
          "height": 265
        },
        "outputId": "0a19c132-0649-4455-f86f-c8977dc2c358"
      },
      "source": [
        "#plotting a histogram for the away scores\n",
        "plt.hist(data['away_score'])\n",
        "plt.show()"
      ],
      "execution_count": 59,
      "outputs": [
        {
          "output_type": "display_data",
          "data": {
            "image/png": "[encoded data removed]",
            "text/plain": [
              "<Figure size 432x288 with 1 Axes>"
            ]
          },
          "metadata": {
            "tags": [],
            "needs_background": "light"
          }
        }
      ]
    },
    {
      "cell_type": "markdown",
      "metadata": {
        "id": "6FzHaEiafhBr",
        "colab_type": "text"
      },
      "source": [
        "Most teams either score 0 or 1."
      ]
    },
    {
      "cell_type": "code",
      "metadata": {
        "id": "Lonts5g8hgM6",
        "colab_type": "code",
        "colab": {
          "base_uri": "https://localhost:8080/",
          "height": 265
        },
        "outputId": "b5915c01-d9b0-4292-cc0f-e75e8f0a9d9d"
      },
      "source": [
        "plt.hist(data['home_score'])\n",
        "plt.show()"
      ],
      "execution_count": 60,
      "outputs": [
        {
          "output_type": "display_data",
          "data": {
            "image/png": "[encoded data removed]",
            "text/plain": [
              "<Figure size 432x288 with 1 Axes>"
            ]
          },
          "metadata": {
            "tags": [],
            "needs_background": "light"
          }
        }
      ]
    },
    {
      "cell_type": "markdown",
      "metadata": {
        "id": "Zwd-fTHff1Sd",
        "colab_type": "text"
      },
      "source": [
        "Most home teams score 0 or 1"
      ]
    },
    {
      "cell_type": "code",
      "metadata": {
        "id": "WlvD8e9phovn",
        "colab_type": "code",
        "colab": {
          "base_uri": "https://localhost:8080/",
          "height": 279
        },
        "outputId": "2a620ed2-21d5-4a94-a1bd-db0432262d77"
      },
      "source": [
        "#a scatter plot for home scores and away scores\n",
        "plt.scatter(data['home_score'],data['away_score'],color='orange')\n",
        "plt.xlabel('Home Score')\n",
        "plt.ylabel(\"Away Score\")\n",
        "plt.show()"
      ],
      "execution_count": 61,
      "outputs": [
        {
          "output_type": "display_data",
          "data": {
            "image/png": "[encoded data removed]",
            "text/plain": [
              "<Figure size 432x288 with 1 Axes>"
            ]
          },
          "metadata": {
            "tags": [],
            "needs_background": "light"
          }
        }
      ]
    },
    {
      "cell_type": "markdown",
      "metadata": {
        "id": "jEKdLyC9gHBP",
        "colab_type": "text"
      },
      "source": [
        "This scatter plot shows some type of relationship between the home scores and the away scores."
      ]
    },
    {
      "cell_type": "code",
      "metadata": {
        "id": "F9e5t_p3h2R4",
        "colab_type": "code",
        "colab": {
          "base_uri": "https://localhost:8080/",
          "height": 279
        },
        "outputId": "4ea66b92-9e22-459b-a475-3cd949a25d0e"
      },
      "source": [
        "#a scatter plot for the home team rank and the home score.\n",
        "plt.scatter(data['home_team_rank'], data['home_score'], color='red')\n",
        "plt.xlabel('Home Team Rank')\n",
        "plt.ylabel(\"Home Score\")\n",
        "plt.show()"
      ],
      "execution_count": 40,
      "outputs": [
        {
          "output_type": "display_data",
          "data": {
            "image/png": "[encoded data removed]",
            "text/plain": [
              "<Figure size 432x288 with 1 Axes>"
            ]
          },
          "metadata": {
            "tags": [],
            "needs_background": "light"
          }
        }
      ]
    },
    {
      "cell_type": "markdown",
      "metadata": {
        "id": "1WfhEqasgV-R",
        "colab_type": "text"
      },
      "source": [
        "This plot shows that there might also be a relationship between the home team rank and their score."
      ]
    },
    {
      "cell_type": "code",
      "metadata": {
        "id": "kAPwtfzVjFa3",
        "colab_type": "code",
        "colab": {
          "base_uri": "https://localhost:8080/",
          "height": 279
        },
        "outputId": "ae502cf5-7fcb-4f9d-f36d-2cfcdfd23982"
      },
      "source": [
        "#scatter plot for away team rank and away scores.\n",
        "plt.scatter(data['away_team_rank'], data['away_score'], color='red')\n",
        "plt.xlabel('Away Team Rank')\n",
        "plt.ylabel(\"Away Score\")\n",
        "plt.show()"
      ],
      "execution_count": 41,
      "outputs": [
        {
          "output_type": "display_data",
          "data": {
            "image/png": "[encoded data removed]",
            "text/plain": [
              "<Figure size 432x288 with 1 Axes>"
            ]
          },
          "metadata": {
            "tags": [],
            "needs_background": "light"
          }
        }
      ]
    },
    {
      "cell_type": "markdown",
      "metadata": {
        "id": "e9R25qqEgjtL",
        "colab_type": "text"
      },
      "source": [
        "This plot almost looks identical to the previous plot and there might be a similar relationship between the fields."
      ]
    },
    {
      "cell_type": "code",
      "metadata": {
        "id": "qhCUZB_djriI",
        "colab_type": "code",
        "colab": {
          "base_uri": "https://localhost:8080/",
          "height": 34
        },
        "outputId": "fb4ba715-2c55-4cd0-b7fa-59e993ae0e31"
      },
      "source": [
        "#sum of home scores.\n",
        "data['home_score'].sum()"
      ],
      "execution_count": 42,
      "outputs": [
        {
          "output_type": "execute_result",
          "data": {
            "text/plain": [
              "4783"
            ]
          },
          "metadata": {
            "tags": []
          },
          "execution_count": 42
        }
      ]
    },
    {
      "cell_type": "code",
      "metadata": {
        "id": "0J0FTDr7j3L6",
        "colab_type": "code",
        "colab": {
          "base_uri": "https://localhost:8080/",
          "height": 34
        },
        "outputId": "38dd202d-da57-4b03-b2cf-1df53e2aacb2"
      },
      "source": [
        "#sum of away scores.\n",
        "data['away_score'].sum()"
      ],
      "execution_count": 43,
      "outputs": [
        {
          "output_type": "execute_result",
          "data": {
            "text/plain": [
              "3131"
            ]
          },
          "metadata": {
            "tags": []
          },
          "execution_count": 43
        }
      ]
    },
    {
      "cell_type": "markdown",
      "metadata": {
        "id": "IAfn-HoBg3Jn",
        "colab_type": "text"
      },
      "source": [
        "Home scores are more than away scores."
      ]
    },
    {
      "cell_type": "code",
      "metadata": {
        "id": "kl8QRu7xoEU2",
        "colab_type": "code",
        "colab": {
          "base_uri": "https://localhost:8080/",
          "height": 282
        },
        "outputId": "3ee5607d-c136-44a8-9b73-0dd3388eab25"
      },
      "source": [
        "#plotting bar graph for the tournament types.\n",
        "plt.bar(data['tournament_1'], data['total_scores'])\n",
        "plt.figure(figsize = (10,5))\n",
        "plt.show()"
      ],
      "execution_count": 70,
      "outputs": [
        {
          "output_type": "display_data",
          "data": {
            "image/png": "[encoded data removed]",
            "text/plain": [
              "<Figure size 432x288 with 1 Axes>"
            ]
          },
          "metadata": {
            "tags": [],
            "needs_background": "light"
          }
        },
        {
          "output_type": "display_data",
          "data": {
            "text/plain": [
              "<Figure size 720x360 with 0 Axes>"
            ]
          },
          "metadata": {
            "tags": []
          }
        }
      ]
    },
    {
      "cell_type": "code",
      "metadata": {
        "id": "I_6F_M6rkOXd",
        "colab_type": "code",
        "colab": {
          "base_uri": "https://localhost:8080/",
          "height": 248
        },
        "outputId": "c5c4a3c1-8fcb-46f2-e413-7684ee3bfea2"
      },
      "source": [
        "#a pie plot for wins, draws and losses.\n",
        "colours = ['green','orange','red']\n",
        "plt.pie(data['result'].value_counts(), colors=colours, labels=['Win', 'Draw', 'Loss'], autopct='%1.0f%%')\n",
        "plt.show()"
      ],
      "execution_count": 45,
      "outputs": [
        {
          "output_type": "display_data",
          "data": {
            "image/png": "[encoded data removed]",
            "text/plain": [
              "<Figure size 432x288 with 1 Axes>"
            ]
          },
          "metadata": {
            "tags": []
          }
        }
      ]
    },
    {
      "cell_type": "code",
      "metadata": {
        "id": "o9ap_2Hylzvx",
        "colab_type": "code",
        "colab": {
          "base_uri": "https://localhost:8080/",
          "height": 265
        },
        "outputId": "7fbc8a5e-a487-4137-c424-f3625b1880fd"
      },
      "source": [
        "#plotting a histogram for the total points for the countries.\n",
        "plt.hist(data['total_points'])\n",
        "plt.show()"
      ],
      "execution_count": 46,
      "outputs": [
        {
          "output_type": "display_data",
          "data": {
            "image/png": "[encoded data removed]",
            "text/plain": [
              "<Figure size 432x288 with 1 Axes>"
            ]
          },
          "metadata": {
            "tags": [],
            "needs_background": "light"
          }
        }
      ]
    },
    {
      "cell_type": "code",
      "metadata": {
        "id": "-ILuvkEHp3sh",
        "colab_type": "code",
        "colab": {
          "base_uri": "https://localhost:8080/",
          "height": 204
        },
        "outputId": "cee13588-ff9f-4a31-b833-2c7b2ba1397b"
      },
      "source": [
        "#creating a new dataset for use in our models.\n",
        "match_data = data[['home_team','home_score','away_team','away_score','home_team_rank','away_team_rank','tournament','result']]\n",
        "match_data.head()"
      ],
      "execution_count": 71,
      "outputs": [
        {
          "output_type": "execute_result",
          "data": {
            "text/html": [
              "<div>\n",
              "<style scoped>\n",
              "    .dataframe tbody tr th:only-of-type {\n",
              "        vertical-align: middle;\n",
              "    }\n",
              "\n",
              "    .dataframe tbody tr th {\n",
              "        vertical-align: top;\n",
              "    }\n",
              "\n",
              "    .dataframe thead th {\n",
              "        text-align: right;\n",
              "    }\n",
              "</style>\n",
              "<table border=\"1\" class=\"dataframe\">\n",
              "  <thead>\n",
              "    <tr style=\"text-align: right;\">\n",
              "      <th></th>\n",
              "      <th>home_team</th>\n",
              "      <th>home_score</th>\n",
              "      <th>away_team</th>\n",
              "      <th>away_score</th>\n",
              "      <th>home_team_rank</th>\n",
              "      <th>away_team_rank</th>\n",
              "      <th>tournament</th>\n",
              "      <th>result</th>\n",
              "    </tr>\n",
              "  </thead>\n",
              "  <tbody>\n",
              "    <tr>\n",
              "      <th>0</th>\n",
              "      <td>Guyana</td>\n",
              "      <td>2</td>\n",
              "      <td>India</td>\n",
              "      <td>1</td>\n",
              "      <td>114</td>\n",
              "      <td>158</td>\n",
              "      <td>Friendly</td>\n",
              "      <td>Win</td>\n",
              "    </tr>\n",
              "    <tr>\n",
              "      <th>1</th>\n",
              "      <td>Thailand</td>\n",
              "      <td>0</td>\n",
              "      <td>Singapore</td>\n",
              "      <td>0</td>\n",
              "      <td>120</td>\n",
              "      <td>129</td>\n",
              "      <td>Friendly</td>\n",
              "      <td>Draw</td>\n",
              "    </tr>\n",
              "    <tr>\n",
              "      <th>2</th>\n",
              "      <td>United Arab Emirates</td>\n",
              "      <td>3</td>\n",
              "      <td>Qatar</td>\n",
              "      <td>1</td>\n",
              "      <td>108</td>\n",
              "      <td>88</td>\n",
              "      <td>Friendly</td>\n",
              "      <td>Win</td>\n",
              "    </tr>\n",
              "    <tr>\n",
              "      <th>3</th>\n",
              "      <td>Bahrain</td>\n",
              "      <td>1</td>\n",
              "      <td>Sudan</td>\n",
              "      <td>0</td>\n",
              "      <td>101</td>\n",
              "      <td>98</td>\n",
              "      <td>Friendly</td>\n",
              "      <td>Win</td>\n",
              "    </tr>\n",
              "    <tr>\n",
              "      <th>4</th>\n",
              "      <td>Jordan</td>\n",
              "      <td>1</td>\n",
              "      <td>Indonesia</td>\n",
              "      <td>0</td>\n",
              "      <td>92</td>\n",
              "      <td>131</td>\n",
              "      <td>Friendly</td>\n",
              "      <td>Win</td>\n",
              "    </tr>\n",
              "  </tbody>\n",
              "</table>\n",
              "</div>"
            ],
            "text/plain": [
              "              home_team  home_score  ... tournament  result\n",
              "0                Guyana           2  ...   Friendly     Win\n",
              "1              Thailand           0  ...   Friendly    Draw\n",
              "2  United Arab Emirates           3  ...   Friendly     Win\n",
              "3               Bahrain           1  ...   Friendly     Win\n",
              "4                Jordan           1  ...   Friendly     Win\n",
              "\n",
              "[5 rows x 8 columns]"
            ]
          },
          "metadata": {
            "tags": []
          },
          "execution_count": 71
        }
      ]
    },
    {
      "cell_type": "markdown",
      "metadata": {
        "id": "onqUkjNZqjbI",
        "colab_type": "text"
      },
      "source": [
        "## **Approach 1 : Polynomial Regression**"
      ]
    },
    {
      "cell_type": "code",
      "metadata": {
        "id": "pmnwZqzLqi4j",
        "colab_type": "code",
        "colab": {}
      },
      "source": [
        "#importing the necessary libraries.\n",
        "from sklearn.preprocessing import PolynomialFeatures\n",
        "from sklearn.model_selection import train_test_split\n",
        "from sklearn.linear_model import LinearRegression\n",
        "from sklearn.linear_model import LogisticRegression\n",
        "from sklearn.metrics import confusion_matrix\n",
        "from sklearn import preprocessing\n",
        "from sklearn import metrics\n",
        "from scipy.stats import bartlett\n",
        "from math import sqrt"
      ],
      "execution_count": 72,
      "outputs": []
    },
    {
      "cell_type": "markdown",
      "metadata": {
        "id": "R9OqIOrJsWft",
        "colab_type": "text"
      },
      "source": [
        "### **1st Polynomial Regression**"
      ]
    },
    {
      "cell_type": "markdown",
      "metadata": {
        "id": "ytIXx0qosKaq",
        "colab_type": "text"
      },
      "source": [
        "**The Data**"
      ]
    },
    {
      "cell_type": "code",
      "metadata": {
        "id": "H-Dq7f79tNgW",
        "colab_type": "code",
        "colab": {
          "base_uri": "https://localhost:8080/",
          "height": 204
        },
        "outputId": "2b29af0b-e0ac-4f98-86a6-ea8d1abdc767"
      },
      "source": [
        "#previewing the data.\n",
        "match_data.head()"
      ],
      "execution_count": 73,
      "outputs": [
        {
          "output_type": "execute_result",
          "data": {
            "text/html": [
              "<div>\n",
              "<style scoped>\n",
              "    .dataframe tbody tr th:only-of-type {\n",
              "        vertical-align: middle;\n",
              "    }\n",
              "\n",
              "    .dataframe tbody tr th {\n",
              "        vertical-align: top;\n",
              "    }\n",
              "\n",
              "    .dataframe thead th {\n",
              "        text-align: right;\n",
              "    }\n",
              "</style>\n",
              "<table border=\"1\" class=\"dataframe\">\n",
              "  <thead>\n",
              "    <tr style=\"text-align: right;\">\n",
              "      <th></th>\n",
              "      <th>home_team</th>\n",
              "      <th>home_score</th>\n",
              "      <th>away_team</th>\n",
              "      <th>away_score</th>\n",
              "      <th>home_team_rank</th>\n",
              "      <th>away_team_rank</th>\n",
              "      <th>tournament</th>\n",
              "      <th>result</th>\n",
              "    </tr>\n",
              "  </thead>\n",
              "  <tbody>\n",
              "    <tr>\n",
              "      <th>0</th>\n",
              "      <td>Guyana</td>\n",
              "      <td>2</td>\n",
              "      <td>India</td>\n",
              "      <td>1</td>\n",
              "      <td>114</td>\n",
              "      <td>158</td>\n",
              "      <td>Friendly</td>\n",
              "      <td>Win</td>\n",
              "    </tr>\n",
              "    <tr>\n",
              "      <th>1</th>\n",
              "      <td>Thailand</td>\n",
              "      <td>0</td>\n",
              "      <td>Singapore</td>\n",
              "      <td>0</td>\n",
              "      <td>120</td>\n",
              "      <td>129</td>\n",
              "      <td>Friendly</td>\n",
              "      <td>Draw</td>\n",
              "    </tr>\n",
              "    <tr>\n",
              "      <th>2</th>\n",
              "      <td>United Arab Emirates</td>\n",
              "      <td>3</td>\n",
              "      <td>Qatar</td>\n",
              "      <td>1</td>\n",
              "      <td>108</td>\n",
              "      <td>88</td>\n",
              "      <td>Friendly</td>\n",
              "      <td>Win</td>\n",
              "    </tr>\n",
              "    <tr>\n",
              "      <th>3</th>\n",
              "      <td>Bahrain</td>\n",
              "      <td>1</td>\n",
              "      <td>Sudan</td>\n",
              "      <td>0</td>\n",
              "      <td>101</td>\n",
              "      <td>98</td>\n",
              "      <td>Friendly</td>\n",
              "      <td>Win</td>\n",
              "    </tr>\n",
              "    <tr>\n",
              "      <th>4</th>\n",
              "      <td>Jordan</td>\n",
              "      <td>1</td>\n",
              "      <td>Indonesia</td>\n",
              "      <td>0</td>\n",
              "      <td>92</td>\n",
              "      <td>131</td>\n",
              "      <td>Friendly</td>\n",
              "      <td>Win</td>\n",
              "    </tr>\n",
              "  </tbody>\n",
              "</table>\n",
              "</div>"
            ],
            "text/plain": [
              "              home_team  home_score  ... tournament  result\n",
              "0                Guyana           2  ...   Friendly     Win\n",
              "1              Thailand           0  ...   Friendly    Draw\n",
              "2  United Arab Emirates           3  ...   Friendly     Win\n",
              "3               Bahrain           1  ...   Friendly     Win\n",
              "4                Jordan           1  ...   Friendly     Win\n",
              "\n",
              "[5 rows x 8 columns]"
            ]
          },
          "metadata": {
            "tags": []
          },
          "execution_count": 73
        }
      ]
    },
    {
      "cell_type": "markdown",
      "metadata": {
        "id": "AUGZBrabsO0q",
        "colab_type": "text"
      },
      "source": [
        "**Encoding**"
      ]
    },
    {
      "cell_type": "code",
      "metadata": {
        "id": "6vh_VqSDxzjO",
        "colab_type": "code",
        "colab": {
          "base_uri": "https://localhost:8080/",
          "height": 119
        },
        "outputId": "c14d67ef-37f9-42a8-de04-b3e196b6ced7"
      },
      "source": [
        "#using an encoder to tranform our tournament column to numerical value.\n",
        "le = preprocessing.LabelEncoder()\n",
        "le.fit(match_data[\"tournament\"])\n",
        "match_data[\"tournament\"] = le.transform(match_data[\"tournament\"])"
      ],
      "execution_count": 100,
      "outputs": [
        {
          "output_type": "stream",
          "text": [
            "/usr/local/lib/python3.6/dist-packages/ipykernel_launcher.py:4: SettingWithCopyWarning: \n",
            "A value is trying to be set on a copy of a slice from a DataFrame.\n",
            "Try using .loc[row_indexer,col_indexer] = value instead\n",
            "\n",
            "See the caveats in the documentation: https://pandas.pydata.org/pandas-docs/stable/user_guide/indexing.html#returning-a-view-versus-a-copy\n",
            "  after removing the cwd from sys.path.\n"
          ],
          "name": "stderr"
        }
      ]
    },
    {
      "cell_type": "code",
      "metadata": {
        "id": "x2z8OmOSytdb",
        "colab_type": "code",
        "colab": {
          "base_uri": "https://localhost:8080/",
          "height": 204
        },
        "outputId": "5fc333c7-4031-4b32-8216-7f0ee1fe9ad9"
      },
      "source": [
        "#previewing the data.\n",
        "match_data.head()"
      ],
      "execution_count": 75,
      "outputs": [
        {
          "output_type": "execute_result",
          "data": {
            "text/html": [
              "<div>\n",
              "<style scoped>\n",
              "    .dataframe tbody tr th:only-of-type {\n",
              "        vertical-align: middle;\n",
              "    }\n",
              "\n",
              "    .dataframe tbody tr th {\n",
              "        vertical-align: top;\n",
              "    }\n",
              "\n",
              "    .dataframe thead th {\n",
              "        text-align: right;\n",
              "    }\n",
              "</style>\n",
              "<table border=\"1\" class=\"dataframe\">\n",
              "  <thead>\n",
              "    <tr style=\"text-align: right;\">\n",
              "      <th></th>\n",
              "      <th>home_team</th>\n",
              "      <th>home_score</th>\n",
              "      <th>away_team</th>\n",
              "      <th>away_score</th>\n",
              "      <th>home_team_rank</th>\n",
              "      <th>away_team_rank</th>\n",
              "      <th>tournament</th>\n",
              "      <th>result</th>\n",
              "    </tr>\n",
              "  </thead>\n",
              "  <tbody>\n",
              "    <tr>\n",
              "      <th>0</th>\n",
              "      <td>Guyana</td>\n",
              "      <td>2</td>\n",
              "      <td>India</td>\n",
              "      <td>1</td>\n",
              "      <td>114</td>\n",
              "      <td>158</td>\n",
              "      <td>22</td>\n",
              "      <td>Win</td>\n",
              "    </tr>\n",
              "    <tr>\n",
              "      <th>1</th>\n",
              "      <td>Thailand</td>\n",
              "      <td>0</td>\n",
              "      <td>Singapore</td>\n",
              "      <td>0</td>\n",
              "      <td>120</td>\n",
              "      <td>129</td>\n",
              "      <td>22</td>\n",
              "      <td>Draw</td>\n",
              "    </tr>\n",
              "    <tr>\n",
              "      <th>2</th>\n",
              "      <td>United Arab Emirates</td>\n",
              "      <td>3</td>\n",
              "      <td>Qatar</td>\n",
              "      <td>1</td>\n",
              "      <td>108</td>\n",
              "      <td>88</td>\n",
              "      <td>22</td>\n",
              "      <td>Win</td>\n",
              "    </tr>\n",
              "    <tr>\n",
              "      <th>3</th>\n",
              "      <td>Bahrain</td>\n",
              "      <td>1</td>\n",
              "      <td>Sudan</td>\n",
              "      <td>0</td>\n",
              "      <td>101</td>\n",
              "      <td>98</td>\n",
              "      <td>22</td>\n",
              "      <td>Win</td>\n",
              "    </tr>\n",
              "    <tr>\n",
              "      <th>4</th>\n",
              "      <td>Jordan</td>\n",
              "      <td>1</td>\n",
              "      <td>Indonesia</td>\n",
              "      <td>0</td>\n",
              "      <td>92</td>\n",
              "      <td>131</td>\n",
              "      <td>22</td>\n",
              "      <td>Win</td>\n",
              "    </tr>\n",
              "  </tbody>\n",
              "</table>\n",
              "</div>"
            ],
            "text/plain": [
              "              home_team  home_score  ... tournament  result\n",
              "0                Guyana           2  ...         22     Win\n",
              "1              Thailand           0  ...         22    Draw\n",
              "2  United Arab Emirates           3  ...         22     Win\n",
              "3               Bahrain           1  ...         22     Win\n",
              "4                Jordan           1  ...         22     Win\n",
              "\n",
              "[5 rows x 8 columns]"
            ]
          },
          "metadata": {
            "tags": []
          },
          "execution_count": 75
        }
      ]
    },
    {
      "cell_type": "code",
      "metadata": {
        "id": "2UfwHsvxsBe5",
        "colab_type": "code",
        "colab": {
          "base_uri": "https://localhost:8080/",
          "height": 204
        },
        "outputId": "85a23d43-f459-4f6c-9c27-8a84f3e1a1e5"
      },
      "source": [
        "#finding the correlation between the columns. \n",
        "match_data.corr()"
      ],
      "execution_count": 76,
      "outputs": [
        {
          "output_type": "execute_result",
          "data": {
            "text/html": [
              "<div>\n",
              "<style scoped>\n",
              "    .dataframe tbody tr th:only-of-type {\n",
              "        vertical-align: middle;\n",
              "    }\n",
              "\n",
              "    .dataframe tbody tr th {\n",
              "        vertical-align: top;\n",
              "    }\n",
              "\n",
              "    .dataframe thead th {\n",
              "        text-align: right;\n",
              "    }\n",
              "</style>\n",
              "<table border=\"1\" class=\"dataframe\">\n",
              "  <thead>\n",
              "    <tr style=\"text-align: right;\">\n",
              "      <th></th>\n",
              "      <th>home_score</th>\n",
              "      <th>away_score</th>\n",
              "      <th>home_team_rank</th>\n",
              "      <th>away_team_rank</th>\n",
              "      <th>tournament</th>\n",
              "    </tr>\n",
              "  </thead>\n",
              "  <tbody>\n",
              "    <tr>\n",
              "      <th>home_score</th>\n",
              "      <td>1.000000</td>\n",
              "      <td>-0.176862</td>\n",
              "      <td>-0.167987</td>\n",
              "      <td>0.306215</td>\n",
              "      <td>-0.008996</td>\n",
              "    </tr>\n",
              "    <tr>\n",
              "      <th>away_score</th>\n",
              "      <td>-0.176862</td>\n",
              "      <td>1.000000</td>\n",
              "      <td>0.201893</td>\n",
              "      <td>-0.260094</td>\n",
              "      <td>0.066543</td>\n",
              "    </tr>\n",
              "    <tr>\n",
              "      <th>home_team_rank</th>\n",
              "      <td>-0.167987</td>\n",
              "      <td>0.201893</td>\n",
              "      <td>1.000000</td>\n",
              "      <td>0.459219</td>\n",
              "      <td>-0.251846</td>\n",
              "    </tr>\n",
              "    <tr>\n",
              "      <th>away_team_rank</th>\n",
              "      <td>0.306215</td>\n",
              "      <td>-0.260094</td>\n",
              "      <td>0.459219</td>\n",
              "      <td>1.000000</td>\n",
              "      <td>-0.221240</td>\n",
              "    </tr>\n",
              "    <tr>\n",
              "      <th>tournament</th>\n",
              "      <td>-0.008996</td>\n",
              "      <td>0.066543</td>\n",
              "      <td>-0.251846</td>\n",
              "      <td>-0.221240</td>\n",
              "      <td>1.000000</td>\n",
              "    </tr>\n",
              "  </tbody>\n",
              "</table>\n",
              "</div>"
            ],
            "text/plain": [
              "                home_score  away_score  ...  away_team_rank  tournament\n",
              "home_score        1.000000   -0.176862  ...        0.306215   -0.008996\n",
              "away_score       -0.176862    1.000000  ...       -0.260094    0.066543\n",
              "home_team_rank   -0.167987    0.201893  ...        0.459219   -0.251846\n",
              "away_team_rank    0.306215   -0.260094  ...        1.000000   -0.221240\n",
              "tournament       -0.008996    0.066543  ...       -0.221240    1.000000\n",
              "\n",
              "[5 rows x 5 columns]"
            ]
          },
          "metadata": {
            "tags": []
          },
          "execution_count": 76
        }
      ]
    },
    {
      "cell_type": "markdown",
      "metadata": {
        "id": "hj0OIMdfst48",
        "colab_type": "text"
      },
      "source": [
        "**Polynomial Regression**"
      ]
    },
    {
      "cell_type": "code",
      "metadata": {
        "id": "sahlOG-vrKNf",
        "colab_type": "code",
        "colab": {}
      },
      "source": [
        "#assigning the independent variables and dependent variables to 'X' and 'y' respectively.\n",
        "X = match_data.drop([\"home_score\",\"home_team\",\"away_team\",\"result\"],axis=1)\n",
        "y = match_data[\"home_score\"]"
      ],
      "execution_count": 77,
      "outputs": []
    },
    {
      "cell_type": "code",
      "metadata": {
        "id": "MDOZtrnD7NbV",
        "colab_type": "code",
        "colab": {
          "base_uri": "https://localhost:8080/",
          "height": 51
        },
        "outputId": "3174dc1f-2e10-49ff-c262-b5fb6f65b63b"
      },
      "source": [
        "#splitting the dataset\n",
        "#fitting the linear regression.\n",
        "X_train, X_test, y_train, y_test = train_test_split(X, y, test_size = .2, random_state=1)\n",
        "poly = PolynomialFeatures(degree=2)\n",
        "poly_X = poly.fit_transform(X)\n",
        "poly_X_train, poly_X_test, y_train, y_test = train_test_split(poly_X, y, test_size = 0.2, random_state = 0)\n",
        "regression = LinearRegression()\n",
        "#determining the working of the model and the score\n",
        "model = regression.fit(poly_X_train, y_train)\n",
        "score = model.score(poly_X_test, y_test)\n",
        "print(model)\n",
        "print(score)"
      ],
      "execution_count": 101,
      "outputs": [
        {
          "output_type": "stream",
          "text": [
            "LinearRegression(copy_X=True, fit_intercept=True, n_jobs=None, normalize=False)\n",
            "0.24017422402601765\n"
          ],
          "name": "stdout"
        }
      ]
    },
    {
      "cell_type": "code",
      "metadata": {
        "id": "yBCcnxpF0qP0",
        "colab_type": "code",
        "colab": {}
      },
      "source": [
        "#predicting using the regression and comparing the results with the actual values.\n",
        "y_pred = regression.predict(poly_X_test)\n",
        "differ = pd.DataFrame({'Actual': y_test, 'Predicted': y_pred})\n",
        "differ.describe()"
      ],
      "execution_count": null,
      "outputs": []
    },
    {
      "cell_type": "code",
      "metadata": {
        "id": "TyVE_ToXB8zT",
        "colab_type": "code",
        "colab": {}
      },
      "source": [
        "#finding the MSE and RMSE\n",
        "MSE = metrics.mean_squared_error(y_test, y_pred)\n",
        "RMSE = sqrt(MSE)\n",
        "print(\"The Mean Squared Error for Model 1 is: \", MSE)\n",
        "print(\"The Root Mean Squared Error for Model 1 is: \", RMSE )"
      ],
      "execution_count": null,
      "outputs": []
    },
    {
      "cell_type": "code",
      "metadata": {
        "id": "iKJah_iHKhQk",
        "colab_type": "code",
        "colab": {}
      },
      "source": [
        "#finding the residuals.\n",
        "residuals = np.subtract(y_pred, y_test)\n",
        "residuals.describe()"
      ],
      "execution_count": null,
      "outputs": []
    },
    {
      "cell_type": "code",
      "metadata": {
        "id": "QjA76H_oKu1Z",
        "colab_type": "code",
        "colab": {
          "base_uri": "https://localhost:8080/",
          "height": 295
        },
        "outputId": "3d46a555-764c-4f9e-a946-5ac516d927bd"
      },
      "source": [
        "#plotting the heteroscedasticity\n",
        "plt.scatter(residuals,y_pred)\n",
        "plt.title(\"Heteroscedasticity Test\")\n",
        "plt.xlabel(\"Predicted values\")\n",
        "plt.ylabel(\"Residuals\")\n",
        "plt.show()"
      ],
      "execution_count": 114,
      "outputs": [
        {
          "output_type": "display_data",
          "data": {
            "image/png": "[encoded data removed]",
            "text/plain": [
              "<Figure size 432x288 with 1 Axes>"
            ]
          },
          "metadata": {
            "tags": [],
            "needs_background": "light"
          }
        }
      ]
    },
    {
      "cell_type": "markdown",
      "metadata": {
        "id": "DFmIvAnusmfK",
        "colab_type": "text"
      },
      "source": [
        "### **2nd Polynomial Regression**"
      ]
    },
    {
      "cell_type": "code",
      "metadata": {
        "id": "Xv7C254rAO-S",
        "colab_type": "code",
        "colab": {}
      },
      "source": [
        "#assigning the independent variables and dependent variables to 'X' and 'y' respectively.\n",
        "X2 = match_data.drop([\"away_score\",\"home_team\",\"away_team\",\"result\"],axis=1)\n",
        "y2 = match_data[\"away_score\"]"
      ],
      "execution_count": 84,
      "outputs": []
    },
    {
      "cell_type": "code",
      "metadata": {
        "id": "oQ5-ZEpXAU7p",
        "colab_type": "code",
        "colab": {
          "base_uri": "https://localhost:8080/",
          "height": 51
        },
        "outputId": "8d692c20-a9f5-4026-ade2-c9bda058051c"
      },
      "source": [
        "#splitting the dataset\n",
        "#fitting the linear regression.\n",
        "X2_train, X2_test, y2_train, y2_test = train_test_split(X2, y2, test_size = .2, random_state=0)\n",
        "poly = PolynomialFeatures(degree=2)\n",
        "poly_X2 = poly.fit_transform(X2)\n",
        "poly_X2_train, poly_X2_test, y2_train, y2_test = train_test_split(poly_X2, y2, test_size = 0.2, random_state = 0)\n",
        "regression = LinearRegression()\n",
        "#determining the working of the model and the score\n",
        "model = regression.fit(poly_X2_train, y2_train)\n",
        "score = model.score(poly_X2_test, y2_test)\n",
        "print(model)\n",
        "print(score)"
      ],
      "execution_count": 106,
      "outputs": [
        {
          "output_type": "stream",
          "text": [
            "LinearRegression(copy_X=True, fit_intercept=True, n_jobs=None, normalize=False)\n",
            "0.2373898460098115\n"
          ],
          "name": "stdout"
        }
      ]
    },
    {
      "cell_type": "code",
      "metadata": {
        "id": "ATrnz0CMAiPF",
        "colab_type": "code",
        "colab": {
          "base_uri": "https://localhost:8080/",
          "height": 297
        },
        "outputId": "06216efa-2902-451e-c183-9705830cf5ed"
      },
      "source": [
        "#predicting using the regression and comparing the results with the actual values.\n",
        "y2_pred = regression.predict(poly_X2_test)\n",
        "differ = pd.DataFrame({'Actual': y2_test, 'Predicted': y2_pred})\n",
        "differ.describe()"
      ],
      "execution_count": 86,
      "outputs": [
        {
          "output_type": "execute_result",
          "data": {
            "text/html": [
              "<div>\n",
              "<style scoped>\n",
              "    .dataframe tbody tr th:only-of-type {\n",
              "        vertical-align: middle;\n",
              "    }\n",
              "\n",
              "    .dataframe tbody tr th {\n",
              "        vertical-align: top;\n",
              "    }\n",
              "\n",
              "    .dataframe thead th {\n",
              "        text-align: right;\n",
              "    }\n",
              "</style>\n",
              "<table border=\"1\" class=\"dataframe\">\n",
              "  <thead>\n",
              "    <tr style=\"text-align: right;\">\n",
              "      <th></th>\n",
              "      <th>Actual</th>\n",
              "      <th>Predicted</th>\n",
              "    </tr>\n",
              "  </thead>\n",
              "  <tbody>\n",
              "    <tr>\n",
              "      <th>count</th>\n",
              "      <td>604.000000</td>\n",
              "      <td>604.000000</td>\n",
              "    </tr>\n",
              "    <tr>\n",
              "      <th>mean</th>\n",
              "      <td>0.996689</td>\n",
              "      <td>1.042406</td>\n",
              "    </tr>\n",
              "    <tr>\n",
              "      <th>std</th>\n",
              "      <td>1.249871</td>\n",
              "      <td>0.563353</td>\n",
              "    </tr>\n",
              "    <tr>\n",
              "      <th>min</th>\n",
              "      <td>0.000000</td>\n",
              "      <td>-0.015675</td>\n",
              "    </tr>\n",
              "    <tr>\n",
              "      <th>25%</th>\n",
              "      <td>0.000000</td>\n",
              "      <td>0.658098</td>\n",
              "    </tr>\n",
              "    <tr>\n",
              "      <th>50%</th>\n",
              "      <td>1.000000</td>\n",
              "      <td>0.957566</td>\n",
              "    </tr>\n",
              "    <tr>\n",
              "      <th>75%</th>\n",
              "      <td>2.000000</td>\n",
              "      <td>1.303644</td>\n",
              "    </tr>\n",
              "    <tr>\n",
              "      <th>max</th>\n",
              "      <td>8.000000</td>\n",
              "      <td>4.286101</td>\n",
              "    </tr>\n",
              "  </tbody>\n",
              "</table>\n",
              "</div>"
            ],
            "text/plain": [
              "           Actual   Predicted\n",
              "count  604.000000  604.000000\n",
              "mean     0.996689    1.042406\n",
              "std      1.249871    0.563353\n",
              "min      0.000000   -0.015675\n",
              "25%      0.000000    0.658098\n",
              "50%      1.000000    0.957566\n",
              "75%      2.000000    1.303644\n",
              "max      8.000000    4.286101"
            ]
          },
          "metadata": {
            "tags": []
          },
          "execution_count": 86
        }
      ]
    },
    {
      "cell_type": "code",
      "metadata": {
        "id": "V7h9x-okAsB7",
        "colab_type": "code",
        "colab": {
          "base_uri": "https://localhost:8080/",
          "height": 51
        },
        "outputId": "4c4280e9-1311-48d0-8d5d-ae158b3d34b2"
      },
      "source": [
        "#finding the MSE and RMSE\n",
        "MSE = metrics.mean_squared_error(y2_test, y2_pred)\n",
        "RMSE = sqrt(MSE)\n",
        "print(\"The Mean Squared Error for Model 2 is: \", MSE)\n",
        "print(\"The Root Mean Squared Error for Model 2 is: \", RMSE )"
      ],
      "execution_count": 87,
      "outputs": [
        {
          "output_type": "stream",
          "text": [
            "The Mean Squared Error for Model 2 is:  1.1893604547357395\n",
            "The Root Mean Squared Error for Model 2 is:  1.0905780369766023\n"
          ],
          "name": "stdout"
        }
      ]
    },
    {
      "cell_type": "code",
      "metadata": {
        "id": "UQr4OjbKDuob",
        "colab_type": "code",
        "colab": {
          "base_uri": "https://localhost:8080/",
          "height": 170
        },
        "outputId": "b6e216f7-1262-4b00-e52d-3fcfe9bd5f4d"
      },
      "source": [
        "#finding the residuals.\n",
        "residuals2 = np.subtract(y2_pred, y2_test)\n",
        "residuals2.describe()"
      ],
      "execution_count": 88,
      "outputs": [
        {
          "output_type": "execute_result",
          "data": {
            "text/plain": [
              "count    604.000000\n",
              "mean       0.045717\n",
              "std        1.090522\n",
              "min       -6.256470\n",
              "25%       -0.466870\n",
              "50%        0.274983\n",
              "75%        0.786910\n",
              "max        2.580497\n",
              "Name: away_score, dtype: float64"
            ]
          },
          "metadata": {
            "tags": []
          },
          "execution_count": 88
        }
      ]
    },
    {
      "cell_type": "code",
      "metadata": {
        "id": "4miPq3_iJ9b4",
        "colab_type": "code",
        "colab": {
          "base_uri": "https://localhost:8080/",
          "height": 295
        },
        "outputId": "830f77fa-2680-4492-fc1b-ed7fbfa3c246"
      },
      "source": [
        "#plotting the heteroscedasticity\n",
        "plt.scatter(residuals2,y2_pred)\n",
        "plt.title(\"Heteroscedasticity Test\")\n",
        "plt.xlabel(\"Predicted values\")\n",
        "plt.ylabel(\"Residuals\")\n",
        "plt.show()"
      ],
      "execution_count": 105,
      "outputs": [
        {
          "output_type": "display_data",
          "data": {
            "image/png": "[encoded data removed]",
            "text/plain": [
              "<Figure size 432x288 with 1 Axes>"
            ]
          },
          "metadata": {
            "tags": [],
            "needs_background": "light"
          }
        }
      ]
    },
    {
      "cell_type": "markdown",
      "metadata": {
        "id": "OdF4Eq3CMFLq",
        "colab_type": "text"
      },
      "source": [
        "## **Approach 2 : Logistic Approach**"
      ]
    },
    {
      "cell_type": "markdown",
      "metadata": {
        "id": "x6FRJu3ZrIcx",
        "colab_type": "text"
      },
      "source": [
        "**The data**"
      ]
    },
    {
      "cell_type": "code",
      "metadata": {
        "id": "KaKjw7AkINrh",
        "colab_type": "code",
        "colab": {
          "base_uri": "https://localhost:8080/",
          "height": 204
        },
        "outputId": "35000c44-4619-456f-95ed-1d50356a34ed"
      },
      "source": [
        "match_data.head()"
      ],
      "execution_count": 90,
      "outputs": [
        {
          "output_type": "execute_result",
          "data": {
            "text/html": [
              "<div>\n",
              "<style scoped>\n",
              "    .dataframe tbody tr th:only-of-type {\n",
              "        vertical-align: middle;\n",
              "    }\n",
              "\n",
              "    .dataframe tbody tr th {\n",
              "        vertical-align: top;\n",
              "    }\n",
              "\n",
              "    .dataframe thead th {\n",
              "        text-align: right;\n",
              "    }\n",
              "</style>\n",
              "<table border=\"1\" class=\"dataframe\">\n",
              "  <thead>\n",
              "    <tr style=\"text-align: right;\">\n",
              "      <th></th>\n",
              "      <th>home_team</th>\n",
              "      <th>home_score</th>\n",
              "      <th>away_team</th>\n",
              "      <th>away_score</th>\n",
              "      <th>home_team_rank</th>\n",
              "      <th>away_team_rank</th>\n",
              "      <th>tournament</th>\n",
              "      <th>result</th>\n",
              "    </tr>\n",
              "  </thead>\n",
              "  <tbody>\n",
              "    <tr>\n",
              "      <th>0</th>\n",
              "      <td>Guyana</td>\n",
              "      <td>2</td>\n",
              "      <td>India</td>\n",
              "      <td>1</td>\n",
              "      <td>114</td>\n",
              "      <td>158</td>\n",
              "      <td>22</td>\n",
              "      <td>Win</td>\n",
              "    </tr>\n",
              "    <tr>\n",
              "      <th>1</th>\n",
              "      <td>Thailand</td>\n",
              "      <td>0</td>\n",
              "      <td>Singapore</td>\n",
              "      <td>0</td>\n",
              "      <td>120</td>\n",
              "      <td>129</td>\n",
              "      <td>22</td>\n",
              "      <td>Draw</td>\n",
              "    </tr>\n",
              "    <tr>\n",
              "      <th>2</th>\n",
              "      <td>United Arab Emirates</td>\n",
              "      <td>3</td>\n",
              "      <td>Qatar</td>\n",
              "      <td>1</td>\n",
              "      <td>108</td>\n",
              "      <td>88</td>\n",
              "      <td>22</td>\n",
              "      <td>Win</td>\n",
              "    </tr>\n",
              "    <tr>\n",
              "      <th>3</th>\n",
              "      <td>Bahrain</td>\n",
              "      <td>1</td>\n",
              "      <td>Sudan</td>\n",
              "      <td>0</td>\n",
              "      <td>101</td>\n",
              "      <td>98</td>\n",
              "      <td>22</td>\n",
              "      <td>Win</td>\n",
              "    </tr>\n",
              "    <tr>\n",
              "      <th>4</th>\n",
              "      <td>Jordan</td>\n",
              "      <td>1</td>\n",
              "      <td>Indonesia</td>\n",
              "      <td>0</td>\n",
              "      <td>92</td>\n",
              "      <td>131</td>\n",
              "      <td>22</td>\n",
              "      <td>Win</td>\n",
              "    </tr>\n",
              "  </tbody>\n",
              "</table>\n",
              "</div>"
            ],
            "text/plain": [
              "              home_team  home_score  ... tournament  result\n",
              "0                Guyana           2  ...         22     Win\n",
              "1              Thailand           0  ...         22    Draw\n",
              "2  United Arab Emirates           3  ...         22     Win\n",
              "3               Bahrain           1  ...         22     Win\n",
              "4                Jordan           1  ...         22     Win\n",
              "\n",
              "[5 rows x 8 columns]"
            ]
          },
          "metadata": {
            "tags": []
          },
          "execution_count": 90
        }
      ]
    },
    {
      "cell_type": "markdown",
      "metadata": {
        "id": "UYyPB4QErRLd",
        "colab_type": "text"
      },
      "source": [
        "**Encoding**"
      ]
    },
    {
      "cell_type": "code",
      "metadata": {
        "id": "LxYa6fK9OB9Y",
        "colab_type": "code",
        "colab": {
          "base_uri": "https://localhost:8080/",
          "height": 306
        },
        "outputId": "54adfcb1-69d4-4ab9-8b7f-c54d79dcb2d6"
      },
      "source": [
        "#using an encoder to tranform our result column to numerical value.\n",
        "le = preprocessing.LabelEncoder()\n",
        "le.fit(match_data[\"result\"])\n",
        "match_data[\"result\"] = le.transform(match_data[\"result\"])\n",
        "match_data.head()"
      ],
      "execution_count": 107,
      "outputs": [
        {
          "output_type": "stream",
          "text": [
            "/usr/local/lib/python3.6/dist-packages/ipykernel_launcher.py:4: SettingWithCopyWarning: \n",
            "A value is trying to be set on a copy of a slice from a DataFrame.\n",
            "Try using .loc[row_indexer,col_indexer] = value instead\n",
            "\n",
            "See the caveats in the documentation: https://pandas.pydata.org/pandas-docs/stable/user_guide/indexing.html#returning-a-view-versus-a-copy\n",
            "  after removing the cwd from sys.path.\n"
          ],
          "name": "stderr"
        },
        {
          "output_type": "execute_result",
          "data": {
            "text/html": [
              "<div>\n",
              "<style scoped>\n",
              "    .dataframe tbody tr th:only-of-type {\n",
              "        vertical-align: middle;\n",
              "    }\n",
              "\n",
              "    .dataframe tbody tr th {\n",
              "        vertical-align: top;\n",
              "    }\n",
              "\n",
              "    .dataframe thead th {\n",
              "        text-align: right;\n",
              "    }\n",
              "</style>\n",
              "<table border=\"1\" class=\"dataframe\">\n",
              "  <thead>\n",
              "    <tr style=\"text-align: right;\">\n",
              "      <th></th>\n",
              "      <th>home_team</th>\n",
              "      <th>home_score</th>\n",
              "      <th>away_team</th>\n",
              "      <th>away_score</th>\n",
              "      <th>home_team_rank</th>\n",
              "      <th>away_team_rank</th>\n",
              "      <th>tournament</th>\n",
              "      <th>result</th>\n",
              "    </tr>\n",
              "  </thead>\n",
              "  <tbody>\n",
              "    <tr>\n",
              "      <th>0</th>\n",
              "      <td>Guyana</td>\n",
              "      <td>2</td>\n",
              "      <td>India</td>\n",
              "      <td>1</td>\n",
              "      <td>114</td>\n",
              "      <td>158</td>\n",
              "      <td>22</td>\n",
              "      <td>2</td>\n",
              "    </tr>\n",
              "    <tr>\n",
              "      <th>1</th>\n",
              "      <td>Thailand</td>\n",
              "      <td>0</td>\n",
              "      <td>Singapore</td>\n",
              "      <td>0</td>\n",
              "      <td>120</td>\n",
              "      <td>129</td>\n",
              "      <td>22</td>\n",
              "      <td>0</td>\n",
              "    </tr>\n",
              "    <tr>\n",
              "      <th>2</th>\n",
              "      <td>United Arab Emirates</td>\n",
              "      <td>3</td>\n",
              "      <td>Qatar</td>\n",
              "      <td>1</td>\n",
              "      <td>108</td>\n",
              "      <td>88</td>\n",
              "      <td>22</td>\n",
              "      <td>2</td>\n",
              "    </tr>\n",
              "    <tr>\n",
              "      <th>3</th>\n",
              "      <td>Bahrain</td>\n",
              "      <td>1</td>\n",
              "      <td>Sudan</td>\n",
              "      <td>0</td>\n",
              "      <td>101</td>\n",
              "      <td>98</td>\n",
              "      <td>22</td>\n",
              "      <td>2</td>\n",
              "    </tr>\n",
              "    <tr>\n",
              "      <th>4</th>\n",
              "      <td>Jordan</td>\n",
              "      <td>1</td>\n",
              "      <td>Indonesia</td>\n",
              "      <td>0</td>\n",
              "      <td>92</td>\n",
              "      <td>131</td>\n",
              "      <td>22</td>\n",
              "      <td>2</td>\n",
              "    </tr>\n",
              "  </tbody>\n",
              "</table>\n",
              "</div>"
            ],
            "text/plain": [
              "              home_team  home_score  ... tournament  result\n",
              "0                Guyana           2  ...         22       2\n",
              "1              Thailand           0  ...         22       0\n",
              "2  United Arab Emirates           3  ...         22       2\n",
              "3               Bahrain           1  ...         22       2\n",
              "4                Jordan           1  ...         22       2\n",
              "\n",
              "[5 rows x 8 columns]"
            ]
          },
          "metadata": {
            "tags": []
          },
          "execution_count": 107
        }
      ]
    },
    {
      "cell_type": "markdown",
      "metadata": {
        "id": "cp56jEUwrVVa",
        "colab_type": "text"
      },
      "source": [
        "### **Logistic Regression**"
      ]
    },
    {
      "cell_type": "code",
      "metadata": {
        "id": "TrglK_q9OQsG",
        "colab_type": "code",
        "colab": {}
      },
      "source": [
        "#assigning the independent variables and dependent variables to 'X' and 'y' respectively.\n",
        "X3 = match_data.drop([\"home_team\",\"away_team\"],axis=1)\n",
        "y3 = match_data[\"result\"]"
      ],
      "execution_count": 108,
      "outputs": []
    },
    {
      "cell_type": "code",
      "metadata": {
        "id": "c9-UYf-kVJRP",
        "colab_type": "code",
        "colab": {
          "base_uri": "https://localhost:8080/",
          "height": 238
        },
        "outputId": "ffe6c81b-d83f-4cc6-bce6-02f60254239a"
      },
      "source": [
        "#fitting out logistic regression model\n",
        "X3_train, X3_test, y3_train, y3_test = train_test_split(X3, y3, test_size = 0.2, random_state=1)\n",
        "logistic = LogisticRegression()\n",
        "logistic.fit(X3_train, y3_train)"
      ],
      "execution_count": 109,
      "outputs": [
        {
          "output_type": "stream",
          "text": [
            "/usr/local/lib/python3.6/dist-packages/sklearn/linear_model/_logistic.py:940: ConvergenceWarning: lbfgs failed to converge (status=1):\n",
            "STOP: TOTAL NO. of ITERATIONS REACHED LIMIT.\n",
            "\n",
            "Increase the number of iterations (max_iter) or scale the data as shown in:\n",
            "    https://scikit-learn.org/stable/modules/preprocessing.html\n",
            "Please also refer to the documentation for alternative solver options:\n",
            "    https://scikit-learn.org/stable/modules/linear_model.html#logistic-regression\n",
            "  extra_warning_msg=_LOGISTIC_SOLVER_CONVERGENCE_MSG)\n"
          ],
          "name": "stderr"
        },
        {
          "output_type": "execute_result",
          "data": {
            "text/plain": [
              "LogisticRegression(C=1.0, class_weight=None, dual=False, fit_intercept=True,\n",
              "                   intercept_scaling=1, l1_ratio=None, max_iter=100,\n",
              "                   multi_class='auto', n_jobs=None, penalty='l2',\n",
              "                   random_state=None, solver='lbfgs', tol=0.0001, verbose=0,\n",
              "                   warm_start=False)"
            ]
          },
          "metadata": {
            "tags": []
          },
          "execution_count": 109
        }
      ]
    },
    {
      "cell_type": "code",
      "metadata": {
        "id": "w_TYy4BPVau0",
        "colab_type": "code",
        "colab": {}
      },
      "source": [
        "#predicting using the regression\n",
        "y3_pred = logistic.predict(X3_test)"
      ],
      "execution_count": 110,
      "outputs": []
    },
    {
      "cell_type": "code",
      "metadata": {
        "id": "Qksg9F8PjJxR",
        "colab_type": "code",
        "colab": {
          "base_uri": "https://localhost:8080/",
          "height": 297
        },
        "outputId": "45b86781-925a-4ae9-a050-85c506b895f6"
      },
      "source": [
        "#comparing the results with the actual values.\n",
        "differ3 = pd.DataFrame({'Actual': y3_test, 'Predicted': y3_pred})\n",
        "differ3.describe()"
      ],
      "execution_count": 111,
      "outputs": [
        {
          "output_type": "execute_result",
          "data": {
            "text/html": [
              "<div>\n",
              "<style scoped>\n",
              "    .dataframe tbody tr th:only-of-type {\n",
              "        vertical-align: middle;\n",
              "    }\n",
              "\n",
              "    .dataframe tbody tr th {\n",
              "        vertical-align: top;\n",
              "    }\n",
              "\n",
              "    .dataframe thead th {\n",
              "        text-align: right;\n",
              "    }\n",
              "</style>\n",
              "<table border=\"1\" class=\"dataframe\">\n",
              "  <thead>\n",
              "    <tr style=\"text-align: right;\">\n",
              "      <th></th>\n",
              "      <th>Actual</th>\n",
              "      <th>Predicted</th>\n",
              "    </tr>\n",
              "  </thead>\n",
              "  <tbody>\n",
              "    <tr>\n",
              "      <th>count</th>\n",
              "      <td>604.000000</td>\n",
              "      <td>604.000000</td>\n",
              "    </tr>\n",
              "    <tr>\n",
              "      <th>mean</th>\n",
              "      <td>1.293046</td>\n",
              "      <td>1.293046</td>\n",
              "    </tr>\n",
              "    <tr>\n",
              "      <th>std</th>\n",
              "      <td>0.817644</td>\n",
              "      <td>0.817644</td>\n",
              "    </tr>\n",
              "    <tr>\n",
              "      <th>min</th>\n",
              "      <td>0.000000</td>\n",
              "      <td>0.000000</td>\n",
              "    </tr>\n",
              "    <tr>\n",
              "      <th>25%</th>\n",
              "      <td>1.000000</td>\n",
              "      <td>1.000000</td>\n",
              "    </tr>\n",
              "    <tr>\n",
              "      <th>50%</th>\n",
              "      <td>2.000000</td>\n",
              "      <td>2.000000</td>\n",
              "    </tr>\n",
              "    <tr>\n",
              "      <th>75%</th>\n",
              "      <td>2.000000</td>\n",
              "      <td>2.000000</td>\n",
              "    </tr>\n",
              "    <tr>\n",
              "      <th>max</th>\n",
              "      <td>2.000000</td>\n",
              "      <td>2.000000</td>\n",
              "    </tr>\n",
              "  </tbody>\n",
              "</table>\n",
              "</div>"
            ],
            "text/plain": [
              "           Actual   Predicted\n",
              "count  604.000000  604.000000\n",
              "mean     1.293046    1.293046\n",
              "std      0.817644    0.817644\n",
              "min      0.000000    0.000000\n",
              "25%      1.000000    1.000000\n",
              "50%      2.000000    2.000000\n",
              "75%      2.000000    2.000000\n",
              "max      2.000000    2.000000"
            ]
          },
          "metadata": {
            "tags": []
          },
          "execution_count": 111
        }
      ]
    },
    {
      "cell_type": "markdown",
      "metadata": {
        "id": "cVrQR4vircsk",
        "colab_type": "text"
      },
      "source": [
        "### **Verification**"
      ]
    },
    {
      "cell_type": "code",
      "metadata": {
        "id": "M-XyjbHeVkoO",
        "colab_type": "code",
        "colab": {
          "base_uri": "https://localhost:8080/",
          "height": 180
        },
        "outputId": "592ffc64-74c2-464c-faba-499382cfbbd1"
      },
      "source": [
        "#creating a confusion matrix for accuracy determination\n",
        "confusion_matrix = confusion_matrix(y3_test, y3_pred)"
      ],
      "execution_count": 112,
      "outputs": [
        {
          "output_type": "error",
          "ename": "TypeError",
          "evalue": "ignored",
          "traceback": [
            "\u001b[0;31m---------------------------------------------------------------------------\u001b[0m",
            "\u001b[0;31mTypeError\u001b[0m                                 Traceback (most recent call last)",
            "\u001b[0;32m<ipython-input-112-0d2ff055a249>\u001b[0m in \u001b[0;36m<module>\u001b[0;34m()\u001b[0m\n\u001b[1;32m      1\u001b[0m \u001b[0;31m#creating a confusion matrix for accuracy determination\u001b[0m\u001b[0;34m\u001b[0m\u001b[0;34m\u001b[0m\u001b[0;34m\u001b[0m\u001b[0m\n\u001b[0;32m----> 2\u001b[0;31m \u001b[0mconfusion_matrix\u001b[0m \u001b[0;34m=\u001b[0m \u001b[0mconfusion_matrix\u001b[0m\u001b[0;34m(\u001b[0m\u001b[0my3_test\u001b[0m\u001b[0;34m,\u001b[0m \u001b[0my3_pred\u001b[0m\u001b[0;34m)\u001b[0m\u001b[0;34m\u001b[0m\u001b[0;34m\u001b[0m\u001b[0m\n\u001b[0m",
            "\u001b[0;31mTypeError\u001b[0m: 'numpy.ndarray' object is not callable"
          ]
        }
      ]
    },
    {
      "cell_type": "code",
      "metadata": {
        "id": "ApFJUeZxjBvt",
        "colab_type": "code",
        "colab": {
          "base_uri": "https://localhost:8080/",
          "height": 68
        },
        "outputId": "6177f558-9467-4d1b-ec71-7966e9a81985"
      },
      "source": [
        "#viewing the confusion matrix.\n",
        "confusion_matrix"
      ],
      "execution_count": 113,
      "outputs": [
        {
          "output_type": "execute_result",
          "data": {
            "text/plain": [
              "array([[139,   0,   0],\n",
              "       [  0, 149,   0],\n",
              "       [  0,   0, 316]])"
            ]
          },
          "metadata": {
            "tags": []
          },
          "execution_count": 113
        }
      ]
    },
    {
      "cell_type": "markdown",
      "metadata": {
        "id": "_YcvmvoMp07c",
        "colab_type": "text"
      },
      "source": [
        "## **Conclusion**"
      ]
    },
    {
      "cell_type": "markdown",
      "metadata": {
        "id": "WWGi6LLyp6H2",
        "colab_type": "text"
      },
      "source": [
        "* The confusion matrix shows that we have attained 100% accuracy and this shows that this model is perfect for prediction.\n",
        "* Data from the rankings from the date (8-24-2020) should be used for prediction"
      ]
    },
    {
      "cell_type": "markdown",
      "metadata": {
        "id": "a3jD5ftZqw7Q",
        "colab_type": "text"
      },
      "source": [
        "From the conclusions, I can derive that I have achieved my goal, which was to find a suitable model for prediction.\n",
        "The correct model is **Logistic regression** since it has an accuracy level of 100%"
      ]
    }
  ]
}